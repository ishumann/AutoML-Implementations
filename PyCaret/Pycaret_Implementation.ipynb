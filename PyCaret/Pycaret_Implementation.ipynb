{
 "cells": [
  {
   "cell_type": "code",
   "execution_count": 1,
   "metadata": {},
   "outputs": [],
   "source": [
    "# loading dt in pycaret\n",
    "\n",
    "from pycaret.datasets import get_data"
   ]
  },
  {
   "cell_type": "code",
   "execution_count": 4,
   "metadata": {},
   "outputs": [],
   "source": [
    "from pycaret.datasets import get_data\n"
   ]
  },
  {
   "cell_type": "code",
   "execution_count": 9,
   "metadata": {},
   "outputs": [
    {
     "data": {
      "text/html": [
       "<div>\n",
       "<style scoped>\n",
       "    .dataframe tbody tr th:only-of-type {\n",
       "        vertical-align: middle;\n",
       "    }\n",
       "\n",
       "    .dataframe tbody tr th {\n",
       "        vertical-align: top;\n",
       "    }\n",
       "\n",
       "    .dataframe thead th {\n",
       "        text-align: right;\n",
       "    }\n",
       "</style>\n",
       "<table border=\"1\" class=\"dataframe\">\n",
       "  <thead>\n",
       "    <tr style=\"text-align: right;\">\n",
       "      <th></th>\n",
       "      <th>Number of times pregnant</th>\n",
       "      <th>Plasma glucose concentration a 2 hours in an oral glucose tolerance test</th>\n",
       "      <th>Diastolic blood pressure (mm Hg)</th>\n",
       "      <th>Triceps skin fold thickness (mm)</th>\n",
       "      <th>2-Hour serum insulin (mu U/ml)</th>\n",
       "      <th>Body mass index (weight in kg/(height in m)^2)</th>\n",
       "      <th>Diabetes pedigree function</th>\n",
       "      <th>Age (years)</th>\n",
       "      <th>Class variable</th>\n",
       "    </tr>\n",
       "  </thead>\n",
       "  <tbody>\n",
       "    <tr>\n",
       "      <th>0</th>\n",
       "      <td>6</td>\n",
       "      <td>148</td>\n",
       "      <td>72</td>\n",
       "      <td>35</td>\n",
       "      <td>0</td>\n",
       "      <td>33.6</td>\n",
       "      <td>0.627</td>\n",
       "      <td>50</td>\n",
       "      <td>1</td>\n",
       "    </tr>\n",
       "    <tr>\n",
       "      <th>1</th>\n",
       "      <td>1</td>\n",
       "      <td>85</td>\n",
       "      <td>66</td>\n",
       "      <td>29</td>\n",
       "      <td>0</td>\n",
       "      <td>26.6</td>\n",
       "      <td>0.351</td>\n",
       "      <td>31</td>\n",
       "      <td>0</td>\n",
       "    </tr>\n",
       "    <tr>\n",
       "      <th>2</th>\n",
       "      <td>8</td>\n",
       "      <td>183</td>\n",
       "      <td>64</td>\n",
       "      <td>0</td>\n",
       "      <td>0</td>\n",
       "      <td>23.3</td>\n",
       "      <td>0.672</td>\n",
       "      <td>32</td>\n",
       "      <td>1</td>\n",
       "    </tr>\n",
       "    <tr>\n",
       "      <th>3</th>\n",
       "      <td>1</td>\n",
       "      <td>89</td>\n",
       "      <td>66</td>\n",
       "      <td>23</td>\n",
       "      <td>94</td>\n",
       "      <td>28.1</td>\n",
       "      <td>0.167</td>\n",
       "      <td>21</td>\n",
       "      <td>0</td>\n",
       "    </tr>\n",
       "    <tr>\n",
       "      <th>4</th>\n",
       "      <td>0</td>\n",
       "      <td>137</td>\n",
       "      <td>40</td>\n",
       "      <td>35</td>\n",
       "      <td>168</td>\n",
       "      <td>43.1</td>\n",
       "      <td>2.288</td>\n",
       "      <td>33</td>\n",
       "      <td>1</td>\n",
       "    </tr>\n",
       "  </tbody>\n",
       "</table>\n",
       "</div>"
      ],
      "text/plain": [
       "   Number of times pregnant  \\\n",
       "0                         6   \n",
       "1                         1   \n",
       "2                         8   \n",
       "3                         1   \n",
       "4                         0   \n",
       "\n",
       "   Plasma glucose concentration a 2 hours in an oral glucose tolerance test  \\\n",
       "0                                                148                          \n",
       "1                                                 85                          \n",
       "2                                                183                          \n",
       "3                                                 89                          \n",
       "4                                                137                          \n",
       "\n",
       "   Diastolic blood pressure (mm Hg)  Triceps skin fold thickness (mm)  \\\n",
       "0                                72                                35   \n",
       "1                                66                                29   \n",
       "2                                64                                 0   \n",
       "3                                66                                23   \n",
       "4                                40                                35   \n",
       "\n",
       "   2-Hour serum insulin (mu U/ml)  \\\n",
       "0                               0   \n",
       "1                               0   \n",
       "2                               0   \n",
       "3                              94   \n",
       "4                             168   \n",
       "\n",
       "   Body mass index (weight in kg/(height in m)^2)  Diabetes pedigree function  \\\n",
       "0                                            33.6                       0.627   \n",
       "1                                            26.6                       0.351   \n",
       "2                                            23.3                       0.672   \n",
       "3                                            28.1                       0.167   \n",
       "4                                            43.1                       2.288   \n",
       "\n",
       "   Age (years)  Class variable  \n",
       "0           50               1  \n",
       "1           31               0  \n",
       "2           32               1  \n",
       "3           21               0  \n",
       "4           33               1  "
      ]
     },
     "metadata": {},
     "output_type": "display_data"
    },
    {
     "data": {
      "text/html": [
       "<div>\n",
       "<style scoped>\n",
       "    .dataframe tbody tr th:only-of-type {\n",
       "        vertical-align: middle;\n",
       "    }\n",
       "\n",
       "    .dataframe tbody tr th {\n",
       "        vertical-align: top;\n",
       "    }\n",
       "\n",
       "    .dataframe thead th {\n",
       "        text-align: right;\n",
       "    }\n",
       "</style>\n",
       "<table border=\"1\" class=\"dataframe\">\n",
       "  <thead>\n",
       "    <tr style=\"text-align: right;\">\n",
       "      <th></th>\n",
       "      <th>Number of times pregnant</th>\n",
       "      <th>Plasma glucose concentration a 2 hours in an oral glucose tolerance test</th>\n",
       "      <th>Diastolic blood pressure (mm Hg)</th>\n",
       "      <th>Triceps skin fold thickness (mm)</th>\n",
       "      <th>2-Hour serum insulin (mu U/ml)</th>\n",
       "      <th>Body mass index (weight in kg/(height in m)^2)</th>\n",
       "      <th>Diabetes pedigree function</th>\n",
       "      <th>Age (years)</th>\n",
       "      <th>Class variable</th>\n",
       "    </tr>\n",
       "  </thead>\n",
       "  <tbody>\n",
       "    <tr>\n",
       "      <th>0</th>\n",
       "      <td>6</td>\n",
       "      <td>148</td>\n",
       "      <td>72</td>\n",
       "      <td>35</td>\n",
       "      <td>0</td>\n",
       "      <td>33.6</td>\n",
       "      <td>0.627</td>\n",
       "      <td>50</td>\n",
       "      <td>1</td>\n",
       "    </tr>\n",
       "    <tr>\n",
       "      <th>1</th>\n",
       "      <td>1</td>\n",
       "      <td>85</td>\n",
       "      <td>66</td>\n",
       "      <td>29</td>\n",
       "      <td>0</td>\n",
       "      <td>26.6</td>\n",
       "      <td>0.351</td>\n",
       "      <td>31</td>\n",
       "      <td>0</td>\n",
       "    </tr>\n",
       "    <tr>\n",
       "      <th>2</th>\n",
       "      <td>8</td>\n",
       "      <td>183</td>\n",
       "      <td>64</td>\n",
       "      <td>0</td>\n",
       "      <td>0</td>\n",
       "      <td>23.3</td>\n",
       "      <td>0.672</td>\n",
       "      <td>32</td>\n",
       "      <td>1</td>\n",
       "    </tr>\n",
       "    <tr>\n",
       "      <th>3</th>\n",
       "      <td>1</td>\n",
       "      <td>89</td>\n",
       "      <td>66</td>\n",
       "      <td>23</td>\n",
       "      <td>94</td>\n",
       "      <td>28.1</td>\n",
       "      <td>0.167</td>\n",
       "      <td>21</td>\n",
       "      <td>0</td>\n",
       "    </tr>\n",
       "    <tr>\n",
       "      <th>4</th>\n",
       "      <td>0</td>\n",
       "      <td>137</td>\n",
       "      <td>40</td>\n",
       "      <td>35</td>\n",
       "      <td>168</td>\n",
       "      <td>43.1</td>\n",
       "      <td>2.288</td>\n",
       "      <td>33</td>\n",
       "      <td>1</td>\n",
       "    </tr>\n",
       "  </tbody>\n",
       "</table>\n",
       "</div>"
      ],
      "text/plain": [
       "   Number of times pregnant  \\\n",
       "0                         6   \n",
       "1                         1   \n",
       "2                         8   \n",
       "3                         1   \n",
       "4                         0   \n",
       "\n",
       "   Plasma glucose concentration a 2 hours in an oral glucose tolerance test  \\\n",
       "0                                                148                          \n",
       "1                                                 85                          \n",
       "2                                                183                          \n",
       "3                                                 89                          \n",
       "4                                                137                          \n",
       "\n",
       "   Diastolic blood pressure (mm Hg)  Triceps skin fold thickness (mm)  \\\n",
       "0                                72                                35   \n",
       "1                                66                                29   \n",
       "2                                64                                 0   \n",
       "3                                66                                23   \n",
       "4                                40                                35   \n",
       "\n",
       "   2-Hour serum insulin (mu U/ml)  \\\n",
       "0                               0   \n",
       "1                               0   \n",
       "2                               0   \n",
       "3                              94   \n",
       "4                             168   \n",
       "\n",
       "   Body mass index (weight in kg/(height in m)^2)  Diabetes pedigree function  \\\n",
       "0                                            33.6                       0.627   \n",
       "1                                            26.6                       0.351   \n",
       "2                                            23.3                       0.672   \n",
       "3                                            28.1                       0.167   \n",
       "4                                            43.1                       2.288   \n",
       "\n",
       "   Age (years)  Class variable  \n",
       "0           50               1  \n",
       "1           31               0  \n",
       "2           32               1  \n",
       "3           21               0  \n",
       "4           33               1  "
      ]
     },
     "execution_count": 9,
     "metadata": {},
     "output_type": "execute_result"
    }
   ],
   "source": [
    "df = get_data(\"diabetes\")\n",
    "df.head()"
   ]
  },
  {
   "cell_type": "code",
   "execution_count": 12,
   "metadata": {},
   "outputs": [],
   "source": [
    "# Classfication Example\n",
    "from pycaret.classification import *"
   ]
  },
  {
   "cell_type": "code",
   "execution_count": 17,
   "metadata": {},
   "outputs": [
    {
     "data": {
      "text/html": [
       "<style type=\"text/css\">\n",
       "#T_f3627_row8_col1 {\n",
       "  background-color: lightgreen;\n",
       "}\n",
       "</style>\n",
       "<table id=\"T_f3627\">\n",
       "  <thead>\n",
       "    <tr>\n",
       "      <th class=\"blank level0\" >&nbsp;</th>\n",
       "      <th id=\"T_f3627_level0_col0\" class=\"col_heading level0 col0\" >Description</th>\n",
       "      <th id=\"T_f3627_level0_col1\" class=\"col_heading level0 col1\" >Value</th>\n",
       "    </tr>\n",
       "  </thead>\n",
       "  <tbody>\n",
       "    <tr>\n",
       "      <th id=\"T_f3627_level0_row0\" class=\"row_heading level0 row0\" >0</th>\n",
       "      <td id=\"T_f3627_row0_col0\" class=\"data row0 col0\" >Session id</td>\n",
       "      <td id=\"T_f3627_row0_col1\" class=\"data row0 col1\" >123</td>\n",
       "    </tr>\n",
       "    <tr>\n",
       "      <th id=\"T_f3627_level0_row1\" class=\"row_heading level0 row1\" >1</th>\n",
       "      <td id=\"T_f3627_row1_col0\" class=\"data row1 col0\" >Target</td>\n",
       "      <td id=\"T_f3627_row1_col1\" class=\"data row1 col1\" >Class variable</td>\n",
       "    </tr>\n",
       "    <tr>\n",
       "      <th id=\"T_f3627_level0_row2\" class=\"row_heading level0 row2\" >2</th>\n",
       "      <td id=\"T_f3627_row2_col0\" class=\"data row2 col0\" >Target type</td>\n",
       "      <td id=\"T_f3627_row2_col1\" class=\"data row2 col1\" >Binary</td>\n",
       "    </tr>\n",
       "    <tr>\n",
       "      <th id=\"T_f3627_level0_row3\" class=\"row_heading level0 row3\" >3</th>\n",
       "      <td id=\"T_f3627_row3_col0\" class=\"data row3 col0\" >Original data shape</td>\n",
       "      <td id=\"T_f3627_row3_col1\" class=\"data row3 col1\" >(768, 9)</td>\n",
       "    </tr>\n",
       "    <tr>\n",
       "      <th id=\"T_f3627_level0_row4\" class=\"row_heading level0 row4\" >4</th>\n",
       "      <td id=\"T_f3627_row4_col0\" class=\"data row4 col0\" >Transformed data shape</td>\n",
       "      <td id=\"T_f3627_row4_col1\" class=\"data row4 col1\" >(768, 9)</td>\n",
       "    </tr>\n",
       "    <tr>\n",
       "      <th id=\"T_f3627_level0_row5\" class=\"row_heading level0 row5\" >5</th>\n",
       "      <td id=\"T_f3627_row5_col0\" class=\"data row5 col0\" >Transformed train set shape</td>\n",
       "      <td id=\"T_f3627_row5_col1\" class=\"data row5 col1\" >(537, 9)</td>\n",
       "    </tr>\n",
       "    <tr>\n",
       "      <th id=\"T_f3627_level0_row6\" class=\"row_heading level0 row6\" >6</th>\n",
       "      <td id=\"T_f3627_row6_col0\" class=\"data row6 col0\" >Transformed test set shape</td>\n",
       "      <td id=\"T_f3627_row6_col1\" class=\"data row6 col1\" >(231, 9)</td>\n",
       "    </tr>\n",
       "    <tr>\n",
       "      <th id=\"T_f3627_level0_row7\" class=\"row_heading level0 row7\" >7</th>\n",
       "      <td id=\"T_f3627_row7_col0\" class=\"data row7 col0\" >Numeric features</td>\n",
       "      <td id=\"T_f3627_row7_col1\" class=\"data row7 col1\" >8</td>\n",
       "    </tr>\n",
       "    <tr>\n",
       "      <th id=\"T_f3627_level0_row8\" class=\"row_heading level0 row8\" >8</th>\n",
       "      <td id=\"T_f3627_row8_col0\" class=\"data row8 col0\" >Preprocess</td>\n",
       "      <td id=\"T_f3627_row8_col1\" class=\"data row8 col1\" >True</td>\n",
       "    </tr>\n",
       "    <tr>\n",
       "      <th id=\"T_f3627_level0_row9\" class=\"row_heading level0 row9\" >9</th>\n",
       "      <td id=\"T_f3627_row9_col0\" class=\"data row9 col0\" >Imputation type</td>\n",
       "      <td id=\"T_f3627_row9_col1\" class=\"data row9 col1\" >simple</td>\n",
       "    </tr>\n",
       "    <tr>\n",
       "      <th id=\"T_f3627_level0_row10\" class=\"row_heading level0 row10\" >10</th>\n",
       "      <td id=\"T_f3627_row10_col0\" class=\"data row10 col0\" >Numeric imputation</td>\n",
       "      <td id=\"T_f3627_row10_col1\" class=\"data row10 col1\" >mean</td>\n",
       "    </tr>\n",
       "    <tr>\n",
       "      <th id=\"T_f3627_level0_row11\" class=\"row_heading level0 row11\" >11</th>\n",
       "      <td id=\"T_f3627_row11_col0\" class=\"data row11 col0\" >Categorical imputation</td>\n",
       "      <td id=\"T_f3627_row11_col1\" class=\"data row11 col1\" >mode</td>\n",
       "    </tr>\n",
       "    <tr>\n",
       "      <th id=\"T_f3627_level0_row12\" class=\"row_heading level0 row12\" >12</th>\n",
       "      <td id=\"T_f3627_row12_col0\" class=\"data row12 col0\" >Fold Generator</td>\n",
       "      <td id=\"T_f3627_row12_col1\" class=\"data row12 col1\" >StratifiedKFold</td>\n",
       "    </tr>\n",
       "    <tr>\n",
       "      <th id=\"T_f3627_level0_row13\" class=\"row_heading level0 row13\" >13</th>\n",
       "      <td id=\"T_f3627_row13_col0\" class=\"data row13 col0\" >Fold Number</td>\n",
       "      <td id=\"T_f3627_row13_col1\" class=\"data row13 col1\" >10</td>\n",
       "    </tr>\n",
       "    <tr>\n",
       "      <th id=\"T_f3627_level0_row14\" class=\"row_heading level0 row14\" >14</th>\n",
       "      <td id=\"T_f3627_row14_col0\" class=\"data row14 col0\" >CPU Jobs</td>\n",
       "      <td id=\"T_f3627_row14_col1\" class=\"data row14 col1\" >-1</td>\n",
       "    </tr>\n",
       "    <tr>\n",
       "      <th id=\"T_f3627_level0_row15\" class=\"row_heading level0 row15\" >15</th>\n",
       "      <td id=\"T_f3627_row15_col0\" class=\"data row15 col0\" >Use GPU</td>\n",
       "      <td id=\"T_f3627_row15_col1\" class=\"data row15 col1\" >False</td>\n",
       "    </tr>\n",
       "    <tr>\n",
       "      <th id=\"T_f3627_level0_row16\" class=\"row_heading level0 row16\" >16</th>\n",
       "      <td id=\"T_f3627_row16_col0\" class=\"data row16 col0\" >Log Experiment</td>\n",
       "      <td id=\"T_f3627_row16_col1\" class=\"data row16 col1\" >False</td>\n",
       "    </tr>\n",
       "    <tr>\n",
       "      <th id=\"T_f3627_level0_row17\" class=\"row_heading level0 row17\" >17</th>\n",
       "      <td id=\"T_f3627_row17_col0\" class=\"data row17 col0\" >Experiment Name</td>\n",
       "      <td id=\"T_f3627_row17_col1\" class=\"data row17 col1\" >clf-default-name</td>\n",
       "    </tr>\n",
       "    <tr>\n",
       "      <th id=\"T_f3627_level0_row18\" class=\"row_heading level0 row18\" >18</th>\n",
       "      <td id=\"T_f3627_row18_col0\" class=\"data row18 col0\" >USI</td>\n",
       "      <td id=\"T_f3627_row18_col1\" class=\"data row18 col1\" >4360</td>\n",
       "    </tr>\n",
       "  </tbody>\n",
       "</table>\n"
      ],
      "text/plain": [
       "<pandas.io.formats.style.Styler at 0x226eb485c90>"
      ]
     },
     "metadata": {},
     "output_type": "display_data"
    },
    {
     "data": {
      "text/plain": [
       "<pycaret.classification.oop.ClassificationExperiment at 0x226ead5a110>"
      ]
     },
     "execution_count": 17,
     "metadata": {},
     "output_type": "execute_result"
    }
   ],
   "source": [
    "\n",
    "\n",
    "clf = setup(data=df, target=\"Class variable\", session_id=123)\n",
    "clf"
   ]
  },
  {
   "cell_type": "code",
   "execution_count": 18,
   "metadata": {},
   "outputs": [
    {
     "data": {
      "text/html": [],
      "text/plain": [
       "<IPython.core.display.HTML object>"
      ]
     },
     "metadata": {},
     "output_type": "display_data"
    },
    {
     "data": {
      "text/html": [
       "<style type=\"text/css\">\n",
       "#T_2b4a7 th {\n",
       "  text-align: left;\n",
       "}\n",
       "#T_2b4a7_row0_col0, #T_2b4a7_row0_col2, #T_2b4a7_row0_col3, #T_2b4a7_row0_col4, #T_2b4a7_row1_col0, #T_2b4a7_row1_col1, #T_2b4a7_row1_col3, #T_2b4a7_row1_col5, #T_2b4a7_row1_col6, #T_2b4a7_row1_col7, #T_2b4a7_row2_col0, #T_2b4a7_row2_col1, #T_2b4a7_row2_col2, #T_2b4a7_row2_col3, #T_2b4a7_row2_col4, #T_2b4a7_row2_col5, #T_2b4a7_row2_col6, #T_2b4a7_row2_col7, #T_2b4a7_row3_col0, #T_2b4a7_row3_col1, #T_2b4a7_row3_col2, #T_2b4a7_row3_col3, #T_2b4a7_row3_col4, #T_2b4a7_row3_col5, #T_2b4a7_row3_col6, #T_2b4a7_row3_col7, #T_2b4a7_row4_col0, #T_2b4a7_row4_col1, #T_2b4a7_row4_col2, #T_2b4a7_row4_col4, #T_2b4a7_row4_col5, #T_2b4a7_row4_col6, #T_2b4a7_row4_col7, #T_2b4a7_row5_col0, #T_2b4a7_row5_col1, #T_2b4a7_row5_col2, #T_2b4a7_row5_col3, #T_2b4a7_row5_col4, #T_2b4a7_row5_col5, #T_2b4a7_row5_col6, #T_2b4a7_row5_col7, #T_2b4a7_row6_col0, #T_2b4a7_row6_col1, #T_2b4a7_row6_col2, #T_2b4a7_row6_col3, #T_2b4a7_row6_col4, #T_2b4a7_row6_col5, #T_2b4a7_row6_col6, #T_2b4a7_row6_col7, #T_2b4a7_row7_col0, #T_2b4a7_row7_col1, #T_2b4a7_row7_col2, #T_2b4a7_row7_col3, #T_2b4a7_row7_col4, #T_2b4a7_row7_col5, #T_2b4a7_row7_col6, #T_2b4a7_row7_col7, #T_2b4a7_row8_col0, #T_2b4a7_row8_col1, #T_2b4a7_row8_col2, #T_2b4a7_row8_col3, #T_2b4a7_row8_col4, #T_2b4a7_row8_col5, #T_2b4a7_row8_col6, #T_2b4a7_row8_col7, #T_2b4a7_row9_col0, #T_2b4a7_row9_col1, #T_2b4a7_row9_col2, #T_2b4a7_row9_col3, #T_2b4a7_row9_col4, #T_2b4a7_row9_col5, #T_2b4a7_row9_col6, #T_2b4a7_row9_col7, #T_2b4a7_row10_col0, #T_2b4a7_row10_col1, #T_2b4a7_row10_col2, #T_2b4a7_row10_col3, #T_2b4a7_row10_col4, #T_2b4a7_row10_col5, #T_2b4a7_row10_col6, #T_2b4a7_row10_col7, #T_2b4a7_row11_col0, #T_2b4a7_row11_col1, #T_2b4a7_row11_col2, #T_2b4a7_row11_col3, #T_2b4a7_row11_col4, #T_2b4a7_row11_col5, #T_2b4a7_row11_col6, #T_2b4a7_row11_col7, #T_2b4a7_row12_col0, #T_2b4a7_row12_col1, #T_2b4a7_row12_col2, #T_2b4a7_row12_col3, #T_2b4a7_row12_col4, #T_2b4a7_row12_col5, #T_2b4a7_row12_col6, #T_2b4a7_row12_col7, #T_2b4a7_row13_col0, #T_2b4a7_row13_col1, #T_2b4a7_row13_col2, #T_2b4a7_row13_col3, #T_2b4a7_row13_col4, #T_2b4a7_row13_col5, #T_2b4a7_row13_col6, #T_2b4a7_row13_col7 {\n",
       "  text-align: left;\n",
       "}\n",
       "#T_2b4a7_row0_col1, #T_2b4a7_row0_col5, #T_2b4a7_row0_col6, #T_2b4a7_row0_col7, #T_2b4a7_row1_col2, #T_2b4a7_row1_col4, #T_2b4a7_row4_col3 {\n",
       "  text-align: left;\n",
       "  background-color: yellow;\n",
       "}\n",
       "#T_2b4a7_row0_col8, #T_2b4a7_row1_col8, #T_2b4a7_row2_col8, #T_2b4a7_row3_col8, #T_2b4a7_row4_col8, #T_2b4a7_row5_col8, #T_2b4a7_row6_col8, #T_2b4a7_row7_col8, #T_2b4a7_row8_col8, #T_2b4a7_row9_col8, #T_2b4a7_row10_col8, #T_2b4a7_row11_col8, #T_2b4a7_row13_col8 {\n",
       "  text-align: left;\n",
       "  background-color: lightgrey;\n",
       "}\n",
       "#T_2b4a7_row12_col8 {\n",
       "  text-align: left;\n",
       "  background-color: yellow;\n",
       "  background-color: lightgrey;\n",
       "}\n",
       "</style>\n",
       "<table id=\"T_2b4a7\">\n",
       "  <thead>\n",
       "    <tr>\n",
       "      <th class=\"blank level0\" >&nbsp;</th>\n",
       "      <th id=\"T_2b4a7_level0_col0\" class=\"col_heading level0 col0\" >Model</th>\n",
       "      <th id=\"T_2b4a7_level0_col1\" class=\"col_heading level0 col1\" >Accuracy</th>\n",
       "      <th id=\"T_2b4a7_level0_col2\" class=\"col_heading level0 col2\" >AUC</th>\n",
       "      <th id=\"T_2b4a7_level0_col3\" class=\"col_heading level0 col3\" >Recall</th>\n",
       "      <th id=\"T_2b4a7_level0_col4\" class=\"col_heading level0 col4\" >Prec.</th>\n",
       "      <th id=\"T_2b4a7_level0_col5\" class=\"col_heading level0 col5\" >F1</th>\n",
       "      <th id=\"T_2b4a7_level0_col6\" class=\"col_heading level0 col6\" >Kappa</th>\n",
       "      <th id=\"T_2b4a7_level0_col7\" class=\"col_heading level0 col7\" >MCC</th>\n",
       "      <th id=\"T_2b4a7_level0_col8\" class=\"col_heading level0 col8\" >TT (Sec)</th>\n",
       "    </tr>\n",
       "  </thead>\n",
       "  <tbody>\n",
       "    <tr>\n",
       "      <th id=\"T_2b4a7_level0_row0\" class=\"row_heading level0 row0\" >lr</th>\n",
       "      <td id=\"T_2b4a7_row0_col0\" class=\"data row0 col0\" >Logistic Regression</td>\n",
       "      <td id=\"T_2b4a7_row0_col1\" class=\"data row0 col1\" >0.7689</td>\n",
       "      <td id=\"T_2b4a7_row0_col2\" class=\"data row0 col2\" >0.8047</td>\n",
       "      <td id=\"T_2b4a7_row0_col3\" class=\"data row0 col3\" >0.5602</td>\n",
       "      <td id=\"T_2b4a7_row0_col4\" class=\"data row0 col4\" >0.7208</td>\n",
       "      <td id=\"T_2b4a7_row0_col5\" class=\"data row0 col5\" >0.6279</td>\n",
       "      <td id=\"T_2b4a7_row0_col6\" class=\"data row0 col6\" >0.4641</td>\n",
       "      <td id=\"T_2b4a7_row0_col7\" class=\"data row0 col7\" >0.4736</td>\n",
       "      <td id=\"T_2b4a7_row0_col8\" class=\"data row0 col8\" >5.3160</td>\n",
       "    </tr>\n",
       "    <tr>\n",
       "      <th id=\"T_2b4a7_level0_row1\" class=\"row_heading level0 row1\" >ridge</th>\n",
       "      <td id=\"T_2b4a7_row1_col0\" class=\"data row1 col0\" >Ridge Classifier</td>\n",
       "      <td id=\"T_2b4a7_row1_col1\" class=\"data row1 col1\" >0.7670</td>\n",
       "      <td id=\"T_2b4a7_row1_col2\" class=\"data row1 col2\" >0.8060</td>\n",
       "      <td id=\"T_2b4a7_row1_col3\" class=\"data row1 col3\" >0.5497</td>\n",
       "      <td id=\"T_2b4a7_row1_col4\" class=\"data row1 col4\" >0.7235</td>\n",
       "      <td id=\"T_2b4a7_row1_col5\" class=\"data row1 col5\" >0.6221</td>\n",
       "      <td id=\"T_2b4a7_row1_col6\" class=\"data row1 col6\" >0.4581</td>\n",
       "      <td id=\"T_2b4a7_row1_col7\" class=\"data row1 col7\" >0.4690</td>\n",
       "      <td id=\"T_2b4a7_row1_col8\" class=\"data row1 col8\" >0.1100</td>\n",
       "    </tr>\n",
       "    <tr>\n",
       "      <th id=\"T_2b4a7_level0_row2\" class=\"row_heading level0 row2\" >lda</th>\n",
       "      <td id=\"T_2b4a7_row2_col0\" class=\"data row2 col0\" >Linear Discriminant Analysis</td>\n",
       "      <td id=\"T_2b4a7_row2_col1\" class=\"data row2 col1\" >0.7670</td>\n",
       "      <td id=\"T_2b4a7_row2_col2\" class=\"data row2 col2\" >0.8055</td>\n",
       "      <td id=\"T_2b4a7_row2_col3\" class=\"data row2 col3\" >0.5550</td>\n",
       "      <td id=\"T_2b4a7_row2_col4\" class=\"data row2 col4\" >0.7202</td>\n",
       "      <td id=\"T_2b4a7_row2_col5\" class=\"data row2 col5\" >0.6243</td>\n",
       "      <td id=\"T_2b4a7_row2_col6\" class=\"data row2 col6\" >0.4594</td>\n",
       "      <td id=\"T_2b4a7_row2_col7\" class=\"data row2 col7\" >0.4695</td>\n",
       "      <td id=\"T_2b4a7_row2_col8\" class=\"data row2 col8\" >0.0780</td>\n",
       "    </tr>\n",
       "    <tr>\n",
       "      <th id=\"T_2b4a7_level0_row3\" class=\"row_heading level0 row3\" >rf</th>\n",
       "      <td id=\"T_2b4a7_row3_col0\" class=\"data row3 col0\" >Random Forest Classifier</td>\n",
       "      <td id=\"T_2b4a7_row3_col1\" class=\"data row3 col1\" >0.7485</td>\n",
       "      <td id=\"T_2b4a7_row3_col2\" class=\"data row3 col2\" >0.7911</td>\n",
       "      <td id=\"T_2b4a7_row3_col3\" class=\"data row3 col3\" >0.5284</td>\n",
       "      <td id=\"T_2b4a7_row3_col4\" class=\"data row3 col4\" >0.6811</td>\n",
       "      <td id=\"T_2b4a7_row3_col5\" class=\"data row3 col5\" >0.5924</td>\n",
       "      <td id=\"T_2b4a7_row3_col6\" class=\"data row3 col6\" >0.4150</td>\n",
       "      <td id=\"T_2b4a7_row3_col7\" class=\"data row3 col7\" >0.4238</td>\n",
       "      <td id=\"T_2b4a7_row3_col8\" class=\"data row3 col8\" >0.7670</td>\n",
       "    </tr>\n",
       "    <tr>\n",
       "      <th id=\"T_2b4a7_level0_row4\" class=\"row_heading level0 row4\" >nb</th>\n",
       "      <td id=\"T_2b4a7_row4_col0\" class=\"data row4 col0\" >Naive Bayes</td>\n",
       "      <td id=\"T_2b4a7_row4_col1\" class=\"data row4 col1\" >0.7427</td>\n",
       "      <td id=\"T_2b4a7_row4_col2\" class=\"data row4 col2\" >0.7955</td>\n",
       "      <td id=\"T_2b4a7_row4_col3\" class=\"data row4 col3\" >0.5702</td>\n",
       "      <td id=\"T_2b4a7_row4_col4\" class=\"data row4 col4\" >0.6543</td>\n",
       "      <td id=\"T_2b4a7_row4_col5\" class=\"data row4 col5\" >0.6043</td>\n",
       "      <td id=\"T_2b4a7_row4_col6\" class=\"data row4 col6\" >0.4156</td>\n",
       "      <td id=\"T_2b4a7_row4_col7\" class=\"data row4 col7\" >0.4215</td>\n",
       "      <td id=\"T_2b4a7_row4_col8\" class=\"data row4 col8\" >0.1370</td>\n",
       "    </tr>\n",
       "    <tr>\n",
       "      <th id=\"T_2b4a7_level0_row5\" class=\"row_heading level0 row5\" >gbc</th>\n",
       "      <td id=\"T_2b4a7_row5_col0\" class=\"data row5 col0\" >Gradient Boosting Classifier</td>\n",
       "      <td id=\"T_2b4a7_row5_col1\" class=\"data row5 col1\" >0.7373</td>\n",
       "      <td id=\"T_2b4a7_row5_col2\" class=\"data row5 col2\" >0.7914</td>\n",
       "      <td id=\"T_2b4a7_row5_col3\" class=\"data row5 col3\" >0.5550</td>\n",
       "      <td id=\"T_2b4a7_row5_col4\" class=\"data row5 col4\" >0.6445</td>\n",
       "      <td id=\"T_2b4a7_row5_col5\" class=\"data row5 col5\" >0.5931</td>\n",
       "      <td id=\"T_2b4a7_row5_col6\" class=\"data row5 col6\" >0.4013</td>\n",
       "      <td id=\"T_2b4a7_row5_col7\" class=\"data row5 col7\" >0.4059</td>\n",
       "      <td id=\"T_2b4a7_row5_col8\" class=\"data row5 col8\" >0.3580</td>\n",
       "    </tr>\n",
       "    <tr>\n",
       "      <th id=\"T_2b4a7_level0_row6\" class=\"row_heading level0 row6\" >ada</th>\n",
       "      <td id=\"T_2b4a7_row6_col0\" class=\"data row6 col0\" >Ada Boost Classifier</td>\n",
       "      <td id=\"T_2b4a7_row6_col1\" class=\"data row6 col1\" >0.7372</td>\n",
       "      <td id=\"T_2b4a7_row6_col2\" class=\"data row6 col2\" >0.7799</td>\n",
       "      <td id=\"T_2b4a7_row6_col3\" class=\"data row6 col3\" >0.5275</td>\n",
       "      <td id=\"T_2b4a7_row6_col4\" class=\"data row6 col4\" >0.6585</td>\n",
       "      <td id=\"T_2b4a7_row6_col5\" class=\"data row6 col5\" >0.5796</td>\n",
       "      <td id=\"T_2b4a7_row6_col6\" class=\"data row6 col6\" >0.3926</td>\n",
       "      <td id=\"T_2b4a7_row6_col7\" class=\"data row6 col7\" >0.4017</td>\n",
       "      <td id=\"T_2b4a7_row6_col8\" class=\"data row6 col8\" >0.4620</td>\n",
       "    </tr>\n",
       "    <tr>\n",
       "      <th id=\"T_2b4a7_level0_row7\" class=\"row_heading level0 row7\" >et</th>\n",
       "      <td id=\"T_2b4a7_row7_col0\" class=\"data row7 col0\" >Extra Trees Classifier</td>\n",
       "      <td id=\"T_2b4a7_row7_col1\" class=\"data row7 col1\" >0.7299</td>\n",
       "      <td id=\"T_2b4a7_row7_col2\" class=\"data row7 col2\" >0.7788</td>\n",
       "      <td id=\"T_2b4a7_row7_col3\" class=\"data row7 col3\" >0.4965</td>\n",
       "      <td id=\"T_2b4a7_row7_col4\" class=\"data row7 col4\" >0.6516</td>\n",
       "      <td id=\"T_2b4a7_row7_col5\" class=\"data row7 col5\" >0.5596</td>\n",
       "      <td id=\"T_2b4a7_row7_col6\" class=\"data row7 col6\" >0.3706</td>\n",
       "      <td id=\"T_2b4a7_row7_col7\" class=\"data row7 col7\" >0.3802</td>\n",
       "      <td id=\"T_2b4a7_row7_col8\" class=\"data row7 col8\" >0.4530</td>\n",
       "    </tr>\n",
       "    <tr>\n",
       "      <th id=\"T_2b4a7_level0_row8\" class=\"row_heading level0 row8\" >qda</th>\n",
       "      <td id=\"T_2b4a7_row8_col0\" class=\"data row8 col0\" >Quadratic Discriminant Analysis</td>\n",
       "      <td id=\"T_2b4a7_row8_col1\" class=\"data row8 col1\" >0.7282</td>\n",
       "      <td id=\"T_2b4a7_row8_col2\" class=\"data row8 col2\" >0.7894</td>\n",
       "      <td id=\"T_2b4a7_row8_col3\" class=\"data row8 col3\" >0.5281</td>\n",
       "      <td id=\"T_2b4a7_row8_col4\" class=\"data row8 col4\" >0.6558</td>\n",
       "      <td id=\"T_2b4a7_row8_col5\" class=\"data row8 col5\" >0.5736</td>\n",
       "      <td id=\"T_2b4a7_row8_col6\" class=\"data row8 col6\" >0.3785</td>\n",
       "      <td id=\"T_2b4a7_row8_col7\" class=\"data row8 col7\" >0.3910</td>\n",
       "      <td id=\"T_2b4a7_row8_col8\" class=\"data row8 col8\" >0.1740</td>\n",
       "    </tr>\n",
       "    <tr>\n",
       "      <th id=\"T_2b4a7_level0_row9\" class=\"row_heading level0 row9\" >lightgbm</th>\n",
       "      <td id=\"T_2b4a7_row9_col0\" class=\"data row9 col0\" >Light Gradient Boosting Machine</td>\n",
       "      <td id=\"T_2b4a7_row9_col1\" class=\"data row9 col1\" >0.7133</td>\n",
       "      <td id=\"T_2b4a7_row9_col2\" class=\"data row9 col2\" >0.7645</td>\n",
       "      <td id=\"T_2b4a7_row9_col3\" class=\"data row9 col3\" >0.5398</td>\n",
       "      <td id=\"T_2b4a7_row9_col4\" class=\"data row9 col4\" >0.6036</td>\n",
       "      <td id=\"T_2b4a7_row9_col5\" class=\"data row9 col5\" >0.5650</td>\n",
       "      <td id=\"T_2b4a7_row9_col6\" class=\"data row9 col6\" >0.3534</td>\n",
       "      <td id=\"T_2b4a7_row9_col7\" class=\"data row9 col7\" >0.3580</td>\n",
       "      <td id=\"T_2b4a7_row9_col8\" class=\"data row9 col8\" >0.3920</td>\n",
       "    </tr>\n",
       "    <tr>\n",
       "      <th id=\"T_2b4a7_level0_row10\" class=\"row_heading level0 row10\" >knn</th>\n",
       "      <td id=\"T_2b4a7_row10_col0\" class=\"data row10 col0\" >K Neighbors Classifier</td>\n",
       "      <td id=\"T_2b4a7_row10_col1\" class=\"data row10 col1\" >0.7001</td>\n",
       "      <td id=\"T_2b4a7_row10_col2\" class=\"data row10 col2\" >0.7164</td>\n",
       "      <td id=\"T_2b4a7_row10_col3\" class=\"data row10 col3\" >0.5020</td>\n",
       "      <td id=\"T_2b4a7_row10_col4\" class=\"data row10 col4\" >0.5982</td>\n",
       "      <td id=\"T_2b4a7_row10_col5\" class=\"data row10 col5\" >0.5413</td>\n",
       "      <td id=\"T_2b4a7_row10_col6\" class=\"data row10 col6\" >0.3209</td>\n",
       "      <td id=\"T_2b4a7_row10_col7\" class=\"data row10 col7\" >0.3271</td>\n",
       "      <td id=\"T_2b4a7_row10_col8\" class=\"data row10 col8\" >0.3920</td>\n",
       "    </tr>\n",
       "    <tr>\n",
       "      <th id=\"T_2b4a7_level0_row11\" class=\"row_heading level0 row11\" >dt</th>\n",
       "      <td id=\"T_2b4a7_row11_col0\" class=\"data row11 col0\" >Decision Tree Classifier</td>\n",
       "      <td id=\"T_2b4a7_row11_col1\" class=\"data row11 col1\" >0.6928</td>\n",
       "      <td id=\"T_2b4a7_row11_col2\" class=\"data row11 col2\" >0.6512</td>\n",
       "      <td id=\"T_2b4a7_row11_col3\" class=\"data row11 col3\" >0.5137</td>\n",
       "      <td id=\"T_2b4a7_row11_col4\" class=\"data row11 col4\" >0.5636</td>\n",
       "      <td id=\"T_2b4a7_row11_col5\" class=\"data row11 col5\" >0.5328</td>\n",
       "      <td id=\"T_2b4a7_row11_col6\" class=\"data row11 col6\" >0.3070</td>\n",
       "      <td id=\"T_2b4a7_row11_col7\" class=\"data row11 col7\" >0.3098</td>\n",
       "      <td id=\"T_2b4a7_row11_col8\" class=\"data row11 col8\" >0.1100</td>\n",
       "    </tr>\n",
       "    <tr>\n",
       "      <th id=\"T_2b4a7_level0_row12\" class=\"row_heading level0 row12\" >dummy</th>\n",
       "      <td id=\"T_2b4a7_row12_col0\" class=\"data row12 col0\" >Dummy Classifier</td>\n",
       "      <td id=\"T_2b4a7_row12_col1\" class=\"data row12 col1\" >0.6518</td>\n",
       "      <td id=\"T_2b4a7_row12_col2\" class=\"data row12 col2\" >0.5000</td>\n",
       "      <td id=\"T_2b4a7_row12_col3\" class=\"data row12 col3\" >0.0000</td>\n",
       "      <td id=\"T_2b4a7_row12_col4\" class=\"data row12 col4\" >0.0000</td>\n",
       "      <td id=\"T_2b4a7_row12_col5\" class=\"data row12 col5\" >0.0000</td>\n",
       "      <td id=\"T_2b4a7_row12_col6\" class=\"data row12 col6\" >0.0000</td>\n",
       "      <td id=\"T_2b4a7_row12_col7\" class=\"data row12 col7\" >0.0000</td>\n",
       "      <td id=\"T_2b4a7_row12_col8\" class=\"data row12 col8\" >0.0510</td>\n",
       "    </tr>\n",
       "    <tr>\n",
       "      <th id=\"T_2b4a7_level0_row13\" class=\"row_heading level0 row13\" >svm</th>\n",
       "      <td id=\"T_2b4a7_row13_col0\" class=\"data row13 col0\" >SVM - Linear Kernel</td>\n",
       "      <td id=\"T_2b4a7_row13_col1\" class=\"data row13 col1\" >0.5954</td>\n",
       "      <td id=\"T_2b4a7_row13_col2\" class=\"data row13 col2\" >0.5914</td>\n",
       "      <td id=\"T_2b4a7_row13_col3\" class=\"data row13 col3\" >0.3395</td>\n",
       "      <td id=\"T_2b4a7_row13_col4\" class=\"data row13 col4\" >0.4090</td>\n",
       "      <td id=\"T_2b4a7_row13_col5\" class=\"data row13 col5\" >0.2671</td>\n",
       "      <td id=\"T_2b4a7_row13_col6\" class=\"data row13 col6\" >0.0720</td>\n",
       "      <td id=\"T_2b4a7_row13_col7\" class=\"data row13 col7\" >0.0912</td>\n",
       "      <td id=\"T_2b4a7_row13_col8\" class=\"data row13 col8\" >0.0790</td>\n",
       "    </tr>\n",
       "  </tbody>\n",
       "</table>\n"
      ],
      "text/plain": [
       "<pandas.io.formats.style.Styler at 0x226eb00b130>"
      ]
     },
     "metadata": {},
     "output_type": "display_data"
    },
    {
     "data": {
      "text/html": [],
      "text/plain": [
       "<IPython.core.display.HTML object>"
      ]
     },
     "metadata": {},
     "output_type": "display_data"
    },
    {
     "data": {
      "text/html": [
       "<style>#sk-container-id-1 {\n",
       "  /* Definition of color scheme common for light and dark mode */\n",
       "  --sklearn-color-text: black;\n",
       "  --sklearn-color-line: gray;\n",
       "  /* Definition of color scheme for unfitted estimators */\n",
       "  --sklearn-color-unfitted-level-0: #fff5e6;\n",
       "  --sklearn-color-unfitted-level-1: #f6e4d2;\n",
       "  --sklearn-color-unfitted-level-2: #ffe0b3;\n",
       "  --sklearn-color-unfitted-level-3: chocolate;\n",
       "  /* Definition of color scheme for fitted estimators */\n",
       "  --sklearn-color-fitted-level-0: #f0f8ff;\n",
       "  --sklearn-color-fitted-level-1: #d4ebff;\n",
       "  --sklearn-color-fitted-level-2: #b3dbfd;\n",
       "  --sklearn-color-fitted-level-3: cornflowerblue;\n",
       "\n",
       "  /* Specific color for light theme */\n",
       "  --sklearn-color-text-on-default-background: var(--sg-text-color, var(--theme-code-foreground, var(--jp-content-font-color1, black)));\n",
       "  --sklearn-color-background: var(--sg-background-color, var(--theme-background, var(--jp-layout-color0, white)));\n",
       "  --sklearn-color-border-box: var(--sg-text-color, var(--theme-code-foreground, var(--jp-content-font-color1, black)));\n",
       "  --sklearn-color-icon: #696969;\n",
       "\n",
       "  @media (prefers-color-scheme: dark) {\n",
       "    /* Redefinition of color scheme for dark theme */\n",
       "    --sklearn-color-text-on-default-background: var(--sg-text-color, var(--theme-code-foreground, var(--jp-content-font-color1, white)));\n",
       "    --sklearn-color-background: var(--sg-background-color, var(--theme-background, var(--jp-layout-color0, #111)));\n",
       "    --sklearn-color-border-box: var(--sg-text-color, var(--theme-code-foreground, var(--jp-content-font-color1, white)));\n",
       "    --sklearn-color-icon: #878787;\n",
       "  }\n",
       "}\n",
       "\n",
       "#sk-container-id-1 {\n",
       "  color: var(--sklearn-color-text);\n",
       "}\n",
       "\n",
       "#sk-container-id-1 pre {\n",
       "  padding: 0;\n",
       "}\n",
       "\n",
       "#sk-container-id-1 input.sk-hidden--visually {\n",
       "  border: 0;\n",
       "  clip: rect(1px 1px 1px 1px);\n",
       "  clip: rect(1px, 1px, 1px, 1px);\n",
       "  height: 1px;\n",
       "  margin: -1px;\n",
       "  overflow: hidden;\n",
       "  padding: 0;\n",
       "  position: absolute;\n",
       "  width: 1px;\n",
       "}\n",
       "\n",
       "#sk-container-id-1 div.sk-dashed-wrapped {\n",
       "  border: 1px dashed var(--sklearn-color-line);\n",
       "  margin: 0 0.4em 0.5em 0.4em;\n",
       "  box-sizing: border-box;\n",
       "  padding-bottom: 0.4em;\n",
       "  background-color: var(--sklearn-color-background);\n",
       "}\n",
       "\n",
       "#sk-container-id-1 div.sk-container {\n",
       "  /* jupyter's `normalize.less` sets `[hidden] { display: none; }`\n",
       "     but bootstrap.min.css set `[hidden] { display: none !important; }`\n",
       "     so we also need the `!important` here to be able to override the\n",
       "     default hidden behavior on the sphinx rendered scikit-learn.org.\n",
       "     See: https://github.com/scikit-learn/scikit-learn/issues/21755 */\n",
       "  display: inline-block !important;\n",
       "  position: relative;\n",
       "}\n",
       "\n",
       "#sk-container-id-1 div.sk-text-repr-fallback {\n",
       "  display: none;\n",
       "}\n",
       "\n",
       "div.sk-parallel-item,\n",
       "div.sk-serial,\n",
       "div.sk-item {\n",
       "  /* draw centered vertical line to link estimators */\n",
       "  background-image: linear-gradient(var(--sklearn-color-text-on-default-background), var(--sklearn-color-text-on-default-background));\n",
       "  background-size: 2px 100%;\n",
       "  background-repeat: no-repeat;\n",
       "  background-position: center center;\n",
       "}\n",
       "\n",
       "/* Parallel-specific style estimator block */\n",
       "\n",
       "#sk-container-id-1 div.sk-parallel-item::after {\n",
       "  content: \"\";\n",
       "  width: 100%;\n",
       "  border-bottom: 2px solid var(--sklearn-color-text-on-default-background);\n",
       "  flex-grow: 1;\n",
       "}\n",
       "\n",
       "#sk-container-id-1 div.sk-parallel {\n",
       "  display: flex;\n",
       "  align-items: stretch;\n",
       "  justify-content: center;\n",
       "  background-color: var(--sklearn-color-background);\n",
       "  position: relative;\n",
       "}\n",
       "\n",
       "#sk-container-id-1 div.sk-parallel-item {\n",
       "  display: flex;\n",
       "  flex-direction: column;\n",
       "}\n",
       "\n",
       "#sk-container-id-1 div.sk-parallel-item:first-child::after {\n",
       "  align-self: flex-end;\n",
       "  width: 50%;\n",
       "}\n",
       "\n",
       "#sk-container-id-1 div.sk-parallel-item:last-child::after {\n",
       "  align-self: flex-start;\n",
       "  width: 50%;\n",
       "}\n",
       "\n",
       "#sk-container-id-1 div.sk-parallel-item:only-child::after {\n",
       "  width: 0;\n",
       "}\n",
       "\n",
       "/* Serial-specific style estimator block */\n",
       "\n",
       "#sk-container-id-1 div.sk-serial {\n",
       "  display: flex;\n",
       "  flex-direction: column;\n",
       "  align-items: center;\n",
       "  background-color: var(--sklearn-color-background);\n",
       "  padding-right: 1em;\n",
       "  padding-left: 1em;\n",
       "}\n",
       "\n",
       "\n",
       "/* Toggleable style: style used for estimator/Pipeline/ColumnTransformer box that is\n",
       "clickable and can be expanded/collapsed.\n",
       "- Pipeline and ColumnTransformer use this feature and define the default style\n",
       "- Estimators will overwrite some part of the style using the `sk-estimator` class\n",
       "*/\n",
       "\n",
       "/* Pipeline and ColumnTransformer style (default) */\n",
       "\n",
       "#sk-container-id-1 div.sk-toggleable {\n",
       "  /* Default theme specific background. It is overwritten whether we have a\n",
       "  specific estimator or a Pipeline/ColumnTransformer */\n",
       "  background-color: var(--sklearn-color-background);\n",
       "}\n",
       "\n",
       "/* Toggleable label */\n",
       "#sk-container-id-1 label.sk-toggleable__label {\n",
       "  cursor: pointer;\n",
       "  display: block;\n",
       "  width: 100%;\n",
       "  margin-bottom: 0;\n",
       "  padding: 0.5em;\n",
       "  box-sizing: border-box;\n",
       "  text-align: center;\n",
       "}\n",
       "\n",
       "#sk-container-id-1 label.sk-toggleable__label-arrow:before {\n",
       "  /* Arrow on the left of the label */\n",
       "  content: \"▸\";\n",
       "  float: left;\n",
       "  margin-right: 0.25em;\n",
       "  color: var(--sklearn-color-icon);\n",
       "}\n",
       "\n",
       "#sk-container-id-1 label.sk-toggleable__label-arrow:hover:before {\n",
       "  color: var(--sklearn-color-text);\n",
       "}\n",
       "\n",
       "/* Toggleable content - dropdown */\n",
       "\n",
       "#sk-container-id-1 div.sk-toggleable__content {\n",
       "  max-height: 0;\n",
       "  max-width: 0;\n",
       "  overflow: hidden;\n",
       "  text-align: left;\n",
       "  /* unfitted */\n",
       "  background-color: var(--sklearn-color-unfitted-level-0);\n",
       "}\n",
       "\n",
       "#sk-container-id-1 div.sk-toggleable__content.fitted {\n",
       "  /* fitted */\n",
       "  background-color: var(--sklearn-color-fitted-level-0);\n",
       "}\n",
       "\n",
       "#sk-container-id-1 div.sk-toggleable__content pre {\n",
       "  margin: 0.2em;\n",
       "  border-radius: 0.25em;\n",
       "  color: var(--sklearn-color-text);\n",
       "  /* unfitted */\n",
       "  background-color: var(--sklearn-color-unfitted-level-0);\n",
       "}\n",
       "\n",
       "#sk-container-id-1 div.sk-toggleable__content.fitted pre {\n",
       "  /* unfitted */\n",
       "  background-color: var(--sklearn-color-fitted-level-0);\n",
       "}\n",
       "\n",
       "#sk-container-id-1 input.sk-toggleable__control:checked~div.sk-toggleable__content {\n",
       "  /* Expand drop-down */\n",
       "  max-height: 200px;\n",
       "  max-width: 100%;\n",
       "  overflow: auto;\n",
       "}\n",
       "\n",
       "#sk-container-id-1 input.sk-toggleable__control:checked~label.sk-toggleable__label-arrow:before {\n",
       "  content: \"▾\";\n",
       "}\n",
       "\n",
       "/* Pipeline/ColumnTransformer-specific style */\n",
       "\n",
       "#sk-container-id-1 div.sk-label input.sk-toggleable__control:checked~label.sk-toggleable__label {\n",
       "  color: var(--sklearn-color-text);\n",
       "  background-color: var(--sklearn-color-unfitted-level-2);\n",
       "}\n",
       "\n",
       "#sk-container-id-1 div.sk-label.fitted input.sk-toggleable__control:checked~label.sk-toggleable__label {\n",
       "  background-color: var(--sklearn-color-fitted-level-2);\n",
       "}\n",
       "\n",
       "/* Estimator-specific style */\n",
       "\n",
       "/* Colorize estimator box */\n",
       "#sk-container-id-1 div.sk-estimator input.sk-toggleable__control:checked~label.sk-toggleable__label {\n",
       "  /* unfitted */\n",
       "  background-color: var(--sklearn-color-unfitted-level-2);\n",
       "}\n",
       "\n",
       "#sk-container-id-1 div.sk-estimator.fitted input.sk-toggleable__control:checked~label.sk-toggleable__label {\n",
       "  /* fitted */\n",
       "  background-color: var(--sklearn-color-fitted-level-2);\n",
       "}\n",
       "\n",
       "#sk-container-id-1 div.sk-label label.sk-toggleable__label,\n",
       "#sk-container-id-1 div.sk-label label {\n",
       "  /* The background is the default theme color */\n",
       "  color: var(--sklearn-color-text-on-default-background);\n",
       "}\n",
       "\n",
       "/* On hover, darken the color of the background */\n",
       "#sk-container-id-1 div.sk-label:hover label.sk-toggleable__label {\n",
       "  color: var(--sklearn-color-text);\n",
       "  background-color: var(--sklearn-color-unfitted-level-2);\n",
       "}\n",
       "\n",
       "/* Label box, darken color on hover, fitted */\n",
       "#sk-container-id-1 div.sk-label.fitted:hover label.sk-toggleable__label.fitted {\n",
       "  color: var(--sklearn-color-text);\n",
       "  background-color: var(--sklearn-color-fitted-level-2);\n",
       "}\n",
       "\n",
       "/* Estimator label */\n",
       "\n",
       "#sk-container-id-1 div.sk-label label {\n",
       "  font-family: monospace;\n",
       "  font-weight: bold;\n",
       "  display: inline-block;\n",
       "  line-height: 1.2em;\n",
       "}\n",
       "\n",
       "#sk-container-id-1 div.sk-label-container {\n",
       "  text-align: center;\n",
       "}\n",
       "\n",
       "/* Estimator-specific */\n",
       "#sk-container-id-1 div.sk-estimator {\n",
       "  font-family: monospace;\n",
       "  border: 1px dotted var(--sklearn-color-border-box);\n",
       "  border-radius: 0.25em;\n",
       "  box-sizing: border-box;\n",
       "  margin-bottom: 0.5em;\n",
       "  /* unfitted */\n",
       "  background-color: var(--sklearn-color-unfitted-level-0);\n",
       "}\n",
       "\n",
       "#sk-container-id-1 div.sk-estimator.fitted {\n",
       "  /* fitted */\n",
       "  background-color: var(--sklearn-color-fitted-level-0);\n",
       "}\n",
       "\n",
       "/* on hover */\n",
       "#sk-container-id-1 div.sk-estimator:hover {\n",
       "  /* unfitted */\n",
       "  background-color: var(--sklearn-color-unfitted-level-2);\n",
       "}\n",
       "\n",
       "#sk-container-id-1 div.sk-estimator.fitted:hover {\n",
       "  /* fitted */\n",
       "  background-color: var(--sklearn-color-fitted-level-2);\n",
       "}\n",
       "\n",
       "/* Specification for estimator info (e.g. \"i\" and \"?\") */\n",
       "\n",
       "/* Common style for \"i\" and \"?\" */\n",
       "\n",
       ".sk-estimator-doc-link,\n",
       "a:link.sk-estimator-doc-link,\n",
       "a:visited.sk-estimator-doc-link {\n",
       "  float: right;\n",
       "  font-size: smaller;\n",
       "  line-height: 1em;\n",
       "  font-family: monospace;\n",
       "  background-color: var(--sklearn-color-background);\n",
       "  border-radius: 1em;\n",
       "  height: 1em;\n",
       "  width: 1em;\n",
       "  text-decoration: none !important;\n",
       "  margin-left: 1ex;\n",
       "  /* unfitted */\n",
       "  border: var(--sklearn-color-unfitted-level-1) 1pt solid;\n",
       "  color: var(--sklearn-color-unfitted-level-1);\n",
       "}\n",
       "\n",
       ".sk-estimator-doc-link.fitted,\n",
       "a:link.sk-estimator-doc-link.fitted,\n",
       "a:visited.sk-estimator-doc-link.fitted {\n",
       "  /* fitted */\n",
       "  border: var(--sklearn-color-fitted-level-1) 1pt solid;\n",
       "  color: var(--sklearn-color-fitted-level-1);\n",
       "}\n",
       "\n",
       "/* On hover */\n",
       "div.sk-estimator:hover .sk-estimator-doc-link:hover,\n",
       ".sk-estimator-doc-link:hover,\n",
       "div.sk-label-container:hover .sk-estimator-doc-link:hover,\n",
       ".sk-estimator-doc-link:hover {\n",
       "  /* unfitted */\n",
       "  background-color: var(--sklearn-color-unfitted-level-3);\n",
       "  color: var(--sklearn-color-background);\n",
       "  text-decoration: none;\n",
       "}\n",
       "\n",
       "div.sk-estimator.fitted:hover .sk-estimator-doc-link.fitted:hover,\n",
       ".sk-estimator-doc-link.fitted:hover,\n",
       "div.sk-label-container:hover .sk-estimator-doc-link.fitted:hover,\n",
       ".sk-estimator-doc-link.fitted:hover {\n",
       "  /* fitted */\n",
       "  background-color: var(--sklearn-color-fitted-level-3);\n",
       "  color: var(--sklearn-color-background);\n",
       "  text-decoration: none;\n",
       "}\n",
       "\n",
       "/* Span, style for the box shown on hovering the info icon */\n",
       ".sk-estimator-doc-link span {\n",
       "  display: none;\n",
       "  z-index: 9999;\n",
       "  position: relative;\n",
       "  font-weight: normal;\n",
       "  right: .2ex;\n",
       "  padding: .5ex;\n",
       "  margin: .5ex;\n",
       "  width: min-content;\n",
       "  min-width: 20ex;\n",
       "  max-width: 50ex;\n",
       "  color: var(--sklearn-color-text);\n",
       "  box-shadow: 2pt 2pt 4pt #999;\n",
       "  /* unfitted */\n",
       "  background: var(--sklearn-color-unfitted-level-0);\n",
       "  border: .5pt solid var(--sklearn-color-unfitted-level-3);\n",
       "}\n",
       "\n",
       ".sk-estimator-doc-link.fitted span {\n",
       "  /* fitted */\n",
       "  background: var(--sklearn-color-fitted-level-0);\n",
       "  border: var(--sklearn-color-fitted-level-3);\n",
       "}\n",
       "\n",
       ".sk-estimator-doc-link:hover span {\n",
       "  display: block;\n",
       "}\n",
       "\n",
       "/* \"?\"-specific style due to the `<a>` HTML tag */\n",
       "\n",
       "#sk-container-id-1 a.estimator_doc_link {\n",
       "  float: right;\n",
       "  font-size: 1rem;\n",
       "  line-height: 1em;\n",
       "  font-family: monospace;\n",
       "  background-color: var(--sklearn-color-background);\n",
       "  border-radius: 1rem;\n",
       "  height: 1rem;\n",
       "  width: 1rem;\n",
       "  text-decoration: none;\n",
       "  /* unfitted */\n",
       "  color: var(--sklearn-color-unfitted-level-1);\n",
       "  border: var(--sklearn-color-unfitted-level-1) 1pt solid;\n",
       "}\n",
       "\n",
       "#sk-container-id-1 a.estimator_doc_link.fitted {\n",
       "  /* fitted */\n",
       "  border: var(--sklearn-color-fitted-level-1) 1pt solid;\n",
       "  color: var(--sklearn-color-fitted-level-1);\n",
       "}\n",
       "\n",
       "/* On hover */\n",
       "#sk-container-id-1 a.estimator_doc_link:hover {\n",
       "  /* unfitted */\n",
       "  background-color: var(--sklearn-color-unfitted-level-3);\n",
       "  color: var(--sklearn-color-background);\n",
       "  text-decoration: none;\n",
       "}\n",
       "\n",
       "#sk-container-id-1 a.estimator_doc_link.fitted:hover {\n",
       "  /* fitted */\n",
       "  background-color: var(--sklearn-color-fitted-level-3);\n",
       "}\n",
       "</style><div id=\"sk-container-id-1\" class=\"sk-top-container\"><div class=\"sk-text-repr-fallback\"><pre>LogisticRegression(C=1.0, class_weight=None, dual=False, fit_intercept=True,\n",
       "                   intercept_scaling=1, l1_ratio=None, max_iter=1000,\n",
       "                   multi_class=&#x27;auto&#x27;, n_jobs=None, penalty=&#x27;l2&#x27;,\n",
       "                   random_state=123, solver=&#x27;lbfgs&#x27;, tol=0.0001, verbose=0,\n",
       "                   warm_start=False)</pre><b>In a Jupyter environment, please rerun this cell to show the HTML representation or trust the notebook. <br />On GitHub, the HTML representation is unable to render, please try loading this page with nbviewer.org.</b></div><div class=\"sk-container\" hidden><div class=\"sk-item\"><div class=\"sk-estimator fitted sk-toggleable\"><input class=\"sk-toggleable__control sk-hidden--visually\" id=\"sk-estimator-id-1\" type=\"checkbox\" checked><label for=\"sk-estimator-id-1\" class=\"sk-toggleable__label fitted sk-toggleable__label-arrow fitted\">&nbsp;&nbsp;LogisticRegression<a class=\"sk-estimator-doc-link fitted\" rel=\"noreferrer\" target=\"_blank\" href=\"https://scikit-learn.org/1.4/modules/generated/sklearn.linear_model.LogisticRegression.html\">?<span>Documentation for LogisticRegression</span></a><span class=\"sk-estimator-doc-link fitted\">i<span>Fitted</span></span></label><div class=\"sk-toggleable__content fitted\"><pre>LogisticRegression(C=1.0, class_weight=None, dual=False, fit_intercept=True,\n",
       "                   intercept_scaling=1, l1_ratio=None, max_iter=1000,\n",
       "                   multi_class=&#x27;auto&#x27;, n_jobs=None, penalty=&#x27;l2&#x27;,\n",
       "                   random_state=123, solver=&#x27;lbfgs&#x27;, tol=0.0001, verbose=0,\n",
       "                   warm_start=False)</pre></div> </div></div></div></div>"
      ],
      "text/plain": [
       "LogisticRegression(C=1.0, class_weight=None, dual=False, fit_intercept=True,\n",
       "                   intercept_scaling=1, l1_ratio=None, max_iter=1000,\n",
       "                   multi_class='auto', n_jobs=None, penalty='l2',\n",
       "                   random_state=123, solver='lbfgs', tol=0.0001, verbose=0,\n",
       "                   warm_start=False)"
      ]
     },
     "execution_count": 18,
     "metadata": {},
     "output_type": "execute_result"
    }
   ],
   "source": [
    "## Comparing models\n",
    "compare_models()"
   ]
  },
  {
   "cell_type": "code",
   "execution_count": 21,
   "metadata": {},
   "outputs": [
    {
     "data": {
      "text/plain": [
       "Class variable\n",
       "0    500\n",
       "1    268\n",
       "Name: count, dtype: int64"
      ]
     },
     "execution_count": 21,
     "metadata": {},
     "output_type": "execute_result"
    }
   ],
   "source": [
    "\n",
    "df['Class variable'].value_counts()"
   ]
  },
  {
   "cell_type": "code",
   "execution_count": 22,
   "metadata": {},
   "outputs": [
    {
     "data": {
      "text/html": [
       "<div>\n",
       "<style scoped>\n",
       "    .dataframe tbody tr th:only-of-type {\n",
       "        vertical-align: middle;\n",
       "    }\n",
       "\n",
       "    .dataframe tbody tr th {\n",
       "        vertical-align: top;\n",
       "    }\n",
       "\n",
       "    .dataframe thead th {\n",
       "        text-align: right;\n",
       "    }\n",
       "</style>\n",
       "<table border=\"1\" class=\"dataframe\">\n",
       "  <thead>\n",
       "    <tr style=\"text-align: right;\">\n",
       "      <th></th>\n",
       "      <th>crim</th>\n",
       "      <th>zn</th>\n",
       "      <th>indus</th>\n",
       "      <th>chas</th>\n",
       "      <th>nox</th>\n",
       "      <th>rm</th>\n",
       "      <th>age</th>\n",
       "      <th>dis</th>\n",
       "      <th>rad</th>\n",
       "      <th>tax</th>\n",
       "      <th>ptratio</th>\n",
       "      <th>black</th>\n",
       "      <th>lstat</th>\n",
       "      <th>medv</th>\n",
       "    </tr>\n",
       "  </thead>\n",
       "  <tbody>\n",
       "    <tr>\n",
       "      <th>0</th>\n",
       "      <td>0.00632</td>\n",
       "      <td>18.0</td>\n",
       "      <td>2.31</td>\n",
       "      <td>0</td>\n",
       "      <td>0.538</td>\n",
       "      <td>6.575</td>\n",
       "      <td>65.2</td>\n",
       "      <td>4.0900</td>\n",
       "      <td>1</td>\n",
       "      <td>296</td>\n",
       "      <td>15.3</td>\n",
       "      <td>396.90</td>\n",
       "      <td>4.98</td>\n",
       "      <td>24.0</td>\n",
       "    </tr>\n",
       "    <tr>\n",
       "      <th>1</th>\n",
       "      <td>0.02731</td>\n",
       "      <td>0.0</td>\n",
       "      <td>7.07</td>\n",
       "      <td>0</td>\n",
       "      <td>0.469</td>\n",
       "      <td>6.421</td>\n",
       "      <td>78.9</td>\n",
       "      <td>4.9671</td>\n",
       "      <td>2</td>\n",
       "      <td>242</td>\n",
       "      <td>17.8</td>\n",
       "      <td>396.90</td>\n",
       "      <td>9.14</td>\n",
       "      <td>21.6</td>\n",
       "    </tr>\n",
       "    <tr>\n",
       "      <th>2</th>\n",
       "      <td>0.02729</td>\n",
       "      <td>0.0</td>\n",
       "      <td>7.07</td>\n",
       "      <td>0</td>\n",
       "      <td>0.469</td>\n",
       "      <td>7.185</td>\n",
       "      <td>61.1</td>\n",
       "      <td>4.9671</td>\n",
       "      <td>2</td>\n",
       "      <td>242</td>\n",
       "      <td>17.8</td>\n",
       "      <td>392.83</td>\n",
       "      <td>4.03</td>\n",
       "      <td>34.7</td>\n",
       "    </tr>\n",
       "    <tr>\n",
       "      <th>3</th>\n",
       "      <td>0.03237</td>\n",
       "      <td>0.0</td>\n",
       "      <td>2.18</td>\n",
       "      <td>0</td>\n",
       "      <td>0.458</td>\n",
       "      <td>6.998</td>\n",
       "      <td>45.8</td>\n",
       "      <td>6.0622</td>\n",
       "      <td>3</td>\n",
       "      <td>222</td>\n",
       "      <td>18.7</td>\n",
       "      <td>394.63</td>\n",
       "      <td>2.94</td>\n",
       "      <td>33.4</td>\n",
       "    </tr>\n",
       "    <tr>\n",
       "      <th>4</th>\n",
       "      <td>0.06905</td>\n",
       "      <td>0.0</td>\n",
       "      <td>2.18</td>\n",
       "      <td>0</td>\n",
       "      <td>0.458</td>\n",
       "      <td>7.147</td>\n",
       "      <td>54.2</td>\n",
       "      <td>6.0622</td>\n",
       "      <td>3</td>\n",
       "      <td>222</td>\n",
       "      <td>18.7</td>\n",
       "      <td>396.90</td>\n",
       "      <td>5.33</td>\n",
       "      <td>36.2</td>\n",
       "    </tr>\n",
       "  </tbody>\n",
       "</table>\n",
       "</div>"
      ],
      "text/plain": [
       "      crim    zn  indus  chas    nox     rm   age     dis  rad  tax  ptratio  \\\n",
       "0  0.00632  18.0   2.31     0  0.538  6.575  65.2  4.0900    1  296     15.3   \n",
       "1  0.02731   0.0   7.07     0  0.469  6.421  78.9  4.9671    2  242     17.8   \n",
       "2  0.02729   0.0   7.07     0  0.469  7.185  61.1  4.9671    2  242     17.8   \n",
       "3  0.03237   0.0   2.18     0  0.458  6.998  45.8  6.0622    3  222     18.7   \n",
       "4  0.06905   0.0   2.18     0  0.458  7.147  54.2  6.0622    3  222     18.7   \n",
       "\n",
       "    black  lstat  medv  \n",
       "0  396.90   4.98  24.0  \n",
       "1  396.90   9.14  21.6  \n",
       "2  392.83   4.03  34.7  \n",
       "3  394.63   2.94  33.4  \n",
       "4  396.90   5.33  36.2  "
      ]
     },
     "metadata": {},
     "output_type": "display_data"
    }
   ],
   "source": [
    "boston_df= get_data('boston')\n"
   ]
  },
  {
   "cell_type": "code",
   "execution_count": 24,
   "metadata": {},
   "outputs": [
    {
     "data": {
      "text/html": [
       "<style type=\"text/css\">\n",
       "#T_4ae64_row8_col1 {\n",
       "  background-color: lightgreen;\n",
       "}\n",
       "</style>\n",
       "<table id=\"T_4ae64\">\n",
       "  <thead>\n",
       "    <tr>\n",
       "      <th class=\"blank level0\" >&nbsp;</th>\n",
       "      <th id=\"T_4ae64_level0_col0\" class=\"col_heading level0 col0\" >Description</th>\n",
       "      <th id=\"T_4ae64_level0_col1\" class=\"col_heading level0 col1\" >Value</th>\n",
       "    </tr>\n",
       "  </thead>\n",
       "  <tbody>\n",
       "    <tr>\n",
       "      <th id=\"T_4ae64_level0_row0\" class=\"row_heading level0 row0\" >0</th>\n",
       "      <td id=\"T_4ae64_row0_col0\" class=\"data row0 col0\" >Session id</td>\n",
       "      <td id=\"T_4ae64_row0_col1\" class=\"data row0 col1\" >4436</td>\n",
       "    </tr>\n",
       "    <tr>\n",
       "      <th id=\"T_4ae64_level0_row1\" class=\"row_heading level0 row1\" >1</th>\n",
       "      <td id=\"T_4ae64_row1_col0\" class=\"data row1 col0\" >Target</td>\n",
       "      <td id=\"T_4ae64_row1_col1\" class=\"data row1 col1\" >medv</td>\n",
       "    </tr>\n",
       "    <tr>\n",
       "      <th id=\"T_4ae64_level0_row2\" class=\"row_heading level0 row2\" >2</th>\n",
       "      <td id=\"T_4ae64_row2_col0\" class=\"data row2 col0\" >Target type</td>\n",
       "      <td id=\"T_4ae64_row2_col1\" class=\"data row2 col1\" >Regression</td>\n",
       "    </tr>\n",
       "    <tr>\n",
       "      <th id=\"T_4ae64_level0_row3\" class=\"row_heading level0 row3\" >3</th>\n",
       "      <td id=\"T_4ae64_row3_col0\" class=\"data row3 col0\" >Original data shape</td>\n",
       "      <td id=\"T_4ae64_row3_col1\" class=\"data row3 col1\" >(506, 14)</td>\n",
       "    </tr>\n",
       "    <tr>\n",
       "      <th id=\"T_4ae64_level0_row4\" class=\"row_heading level0 row4\" >4</th>\n",
       "      <td id=\"T_4ae64_row4_col0\" class=\"data row4 col0\" >Transformed data shape</td>\n",
       "      <td id=\"T_4ae64_row4_col1\" class=\"data row4 col1\" >(506, 14)</td>\n",
       "    </tr>\n",
       "    <tr>\n",
       "      <th id=\"T_4ae64_level0_row5\" class=\"row_heading level0 row5\" >5</th>\n",
       "      <td id=\"T_4ae64_row5_col0\" class=\"data row5 col0\" >Transformed train set shape</td>\n",
       "      <td id=\"T_4ae64_row5_col1\" class=\"data row5 col1\" >(354, 14)</td>\n",
       "    </tr>\n",
       "    <tr>\n",
       "      <th id=\"T_4ae64_level0_row6\" class=\"row_heading level0 row6\" >6</th>\n",
       "      <td id=\"T_4ae64_row6_col0\" class=\"data row6 col0\" >Transformed test set shape</td>\n",
       "      <td id=\"T_4ae64_row6_col1\" class=\"data row6 col1\" >(152, 14)</td>\n",
       "    </tr>\n",
       "    <tr>\n",
       "      <th id=\"T_4ae64_level0_row7\" class=\"row_heading level0 row7\" >7</th>\n",
       "      <td id=\"T_4ae64_row7_col0\" class=\"data row7 col0\" >Numeric features</td>\n",
       "      <td id=\"T_4ae64_row7_col1\" class=\"data row7 col1\" >13</td>\n",
       "    </tr>\n",
       "    <tr>\n",
       "      <th id=\"T_4ae64_level0_row8\" class=\"row_heading level0 row8\" >8</th>\n",
       "      <td id=\"T_4ae64_row8_col0\" class=\"data row8 col0\" >Preprocess</td>\n",
       "      <td id=\"T_4ae64_row8_col1\" class=\"data row8 col1\" >True</td>\n",
       "    </tr>\n",
       "    <tr>\n",
       "      <th id=\"T_4ae64_level0_row9\" class=\"row_heading level0 row9\" >9</th>\n",
       "      <td id=\"T_4ae64_row9_col0\" class=\"data row9 col0\" >Imputation type</td>\n",
       "      <td id=\"T_4ae64_row9_col1\" class=\"data row9 col1\" >simple</td>\n",
       "    </tr>\n",
       "    <tr>\n",
       "      <th id=\"T_4ae64_level0_row10\" class=\"row_heading level0 row10\" >10</th>\n",
       "      <td id=\"T_4ae64_row10_col0\" class=\"data row10 col0\" >Numeric imputation</td>\n",
       "      <td id=\"T_4ae64_row10_col1\" class=\"data row10 col1\" >mean</td>\n",
       "    </tr>\n",
       "    <tr>\n",
       "      <th id=\"T_4ae64_level0_row11\" class=\"row_heading level0 row11\" >11</th>\n",
       "      <td id=\"T_4ae64_row11_col0\" class=\"data row11 col0\" >Categorical imputation</td>\n",
       "      <td id=\"T_4ae64_row11_col1\" class=\"data row11 col1\" >mode</td>\n",
       "    </tr>\n",
       "    <tr>\n",
       "      <th id=\"T_4ae64_level0_row12\" class=\"row_heading level0 row12\" >12</th>\n",
       "      <td id=\"T_4ae64_row12_col0\" class=\"data row12 col0\" >Fold Generator</td>\n",
       "      <td id=\"T_4ae64_row12_col1\" class=\"data row12 col1\" >KFold</td>\n",
       "    </tr>\n",
       "    <tr>\n",
       "      <th id=\"T_4ae64_level0_row13\" class=\"row_heading level0 row13\" >13</th>\n",
       "      <td id=\"T_4ae64_row13_col0\" class=\"data row13 col0\" >Fold Number</td>\n",
       "      <td id=\"T_4ae64_row13_col1\" class=\"data row13 col1\" >10</td>\n",
       "    </tr>\n",
       "    <tr>\n",
       "      <th id=\"T_4ae64_level0_row14\" class=\"row_heading level0 row14\" >14</th>\n",
       "      <td id=\"T_4ae64_row14_col0\" class=\"data row14 col0\" >CPU Jobs</td>\n",
       "      <td id=\"T_4ae64_row14_col1\" class=\"data row14 col1\" >-1</td>\n",
       "    </tr>\n",
       "    <tr>\n",
       "      <th id=\"T_4ae64_level0_row15\" class=\"row_heading level0 row15\" >15</th>\n",
       "      <td id=\"T_4ae64_row15_col0\" class=\"data row15 col0\" >Use GPU</td>\n",
       "      <td id=\"T_4ae64_row15_col1\" class=\"data row15 col1\" >False</td>\n",
       "    </tr>\n",
       "    <tr>\n",
       "      <th id=\"T_4ae64_level0_row16\" class=\"row_heading level0 row16\" >16</th>\n",
       "      <td id=\"T_4ae64_row16_col0\" class=\"data row16 col0\" >Log Experiment</td>\n",
       "      <td id=\"T_4ae64_row16_col1\" class=\"data row16 col1\" >False</td>\n",
       "    </tr>\n",
       "    <tr>\n",
       "      <th id=\"T_4ae64_level0_row17\" class=\"row_heading level0 row17\" >17</th>\n",
       "      <td id=\"T_4ae64_row17_col0\" class=\"data row17 col0\" >Experiment Name</td>\n",
       "      <td id=\"T_4ae64_row17_col1\" class=\"data row17 col1\" >reg-default-name</td>\n",
       "    </tr>\n",
       "    <tr>\n",
       "      <th id=\"T_4ae64_level0_row18\" class=\"row_heading level0 row18\" >18</th>\n",
       "      <td id=\"T_4ae64_row18_col0\" class=\"data row18 col0\" >USI</td>\n",
       "      <td id=\"T_4ae64_row18_col1\" class=\"data row18 col1\" >ecfd</td>\n",
       "    </tr>\n",
       "  </tbody>\n",
       "</table>\n"
      ],
      "text/plain": [
       "<pandas.io.formats.style.Styler at 0x226ef3eb190>"
      ]
     },
     "metadata": {},
     "output_type": "display_data"
    }
   ],
   "source": [
    "from pycaret.regression import *\n",
    "rf = setup(data= boston_df, target=\"medv\")"
   ]
  },
  {
   "cell_type": "code",
   "execution_count": 26,
   "metadata": {},
   "outputs": [
    {
     "data": {
      "text/html": [],
      "text/plain": [
       "<IPython.core.display.HTML object>"
      ]
     },
     "metadata": {},
     "output_type": "display_data"
    },
    {
     "data": {
      "text/html": [
       "<style type=\"text/css\">\n",
       "#T_62027 th {\n",
       "  text-align: left;\n",
       "}\n",
       "#T_62027_row0_col0, #T_62027_row1_col0, #T_62027_row1_col1, #T_62027_row1_col2, #T_62027_row1_col3, #T_62027_row1_col4, #T_62027_row1_col5, #T_62027_row1_col6, #T_62027_row2_col0, #T_62027_row2_col1, #T_62027_row2_col2, #T_62027_row2_col3, #T_62027_row2_col4, #T_62027_row2_col5, #T_62027_row2_col6, #T_62027_row3_col0, #T_62027_row3_col1, #T_62027_row3_col2, #T_62027_row3_col3, #T_62027_row3_col4, #T_62027_row3_col5, #T_62027_row3_col6, #T_62027_row4_col0, #T_62027_row4_col1, #T_62027_row4_col2, #T_62027_row4_col3, #T_62027_row4_col4, #T_62027_row4_col5, #T_62027_row4_col6, #T_62027_row5_col0, #T_62027_row5_col1, #T_62027_row5_col2, #T_62027_row5_col3, #T_62027_row5_col4, #T_62027_row5_col5, #T_62027_row5_col6, #T_62027_row6_col0, #T_62027_row6_col1, #T_62027_row6_col2, #T_62027_row6_col3, #T_62027_row6_col4, #T_62027_row6_col5, #T_62027_row6_col6, #T_62027_row7_col0, #T_62027_row7_col1, #T_62027_row7_col2, #T_62027_row7_col3, #T_62027_row7_col4, #T_62027_row7_col5, #T_62027_row7_col6, #T_62027_row8_col0, #T_62027_row8_col1, #T_62027_row8_col2, #T_62027_row8_col3, #T_62027_row8_col4, #T_62027_row8_col5, #T_62027_row8_col6, #T_62027_row9_col0, #T_62027_row9_col1, #T_62027_row9_col2, #T_62027_row9_col3, #T_62027_row9_col4, #T_62027_row9_col5, #T_62027_row9_col6, #T_62027_row10_col0, #T_62027_row10_col1, #T_62027_row10_col2, #T_62027_row10_col3, #T_62027_row10_col4, #T_62027_row10_col5, #T_62027_row10_col6, #T_62027_row11_col0, #T_62027_row11_col1, #T_62027_row11_col2, #T_62027_row11_col3, #T_62027_row11_col4, #T_62027_row11_col5, #T_62027_row11_col6, #T_62027_row12_col0, #T_62027_row12_col1, #T_62027_row12_col2, #T_62027_row12_col3, #T_62027_row12_col4, #T_62027_row12_col5, #T_62027_row12_col6, #T_62027_row13_col0, #T_62027_row13_col1, #T_62027_row13_col2, #T_62027_row13_col3, #T_62027_row13_col4, #T_62027_row13_col5, #T_62027_row13_col6, #T_62027_row14_col0, #T_62027_row14_col1, #T_62027_row14_col2, #T_62027_row14_col3, #T_62027_row14_col4, #T_62027_row14_col5, #T_62027_row14_col6, #T_62027_row15_col0, #T_62027_row15_col1, #T_62027_row15_col2, #T_62027_row15_col3, #T_62027_row15_col4, #T_62027_row15_col5, #T_62027_row15_col6, #T_62027_row16_col0, #T_62027_row16_col1, #T_62027_row16_col2, #T_62027_row16_col3, #T_62027_row16_col4, #T_62027_row16_col5, #T_62027_row16_col6, #T_62027_row17_col0, #T_62027_row17_col1, #T_62027_row17_col2, #T_62027_row17_col3, #T_62027_row17_col4, #T_62027_row17_col5, #T_62027_row17_col6 {\n",
       "  text-align: left;\n",
       "}\n",
       "#T_62027_row0_col1, #T_62027_row0_col2, #T_62027_row0_col3, #T_62027_row0_col4, #T_62027_row0_col5, #T_62027_row0_col6 {\n",
       "  text-align: left;\n",
       "  background-color: yellow;\n",
       "}\n",
       "#T_62027_row0_col7, #T_62027_row1_col7, #T_62027_row2_col7, #T_62027_row3_col7, #T_62027_row4_col7, #T_62027_row5_col7, #T_62027_row6_col7, #T_62027_row7_col7, #T_62027_row8_col7, #T_62027_row9_col7, #T_62027_row10_col7, #T_62027_row11_col7, #T_62027_row12_col7, #T_62027_row13_col7, #T_62027_row14_col7, #T_62027_row15_col7, #T_62027_row17_col7 {\n",
       "  text-align: left;\n",
       "  background-color: lightgrey;\n",
       "}\n",
       "#T_62027_row16_col7 {\n",
       "  text-align: left;\n",
       "  background-color: yellow;\n",
       "  background-color: lightgrey;\n",
       "}\n",
       "</style>\n",
       "<table id=\"T_62027\">\n",
       "  <thead>\n",
       "    <tr>\n",
       "      <th class=\"blank level0\" >&nbsp;</th>\n",
       "      <th id=\"T_62027_level0_col0\" class=\"col_heading level0 col0\" >Model</th>\n",
       "      <th id=\"T_62027_level0_col1\" class=\"col_heading level0 col1\" >MAE</th>\n",
       "      <th id=\"T_62027_level0_col2\" class=\"col_heading level0 col2\" >MSE</th>\n",
       "      <th id=\"T_62027_level0_col3\" class=\"col_heading level0 col3\" >RMSE</th>\n",
       "      <th id=\"T_62027_level0_col4\" class=\"col_heading level0 col4\" >R2</th>\n",
       "      <th id=\"T_62027_level0_col5\" class=\"col_heading level0 col5\" >RMSLE</th>\n",
       "      <th id=\"T_62027_level0_col6\" class=\"col_heading level0 col6\" >MAPE</th>\n",
       "      <th id=\"T_62027_level0_col7\" class=\"col_heading level0 col7\" >TT (Sec)</th>\n",
       "    </tr>\n",
       "  </thead>\n",
       "  <tbody>\n",
       "    <tr>\n",
       "      <th id=\"T_62027_level0_row0\" class=\"row_heading level0 row0\" >gbr</th>\n",
       "      <td id=\"T_62027_row0_col0\" class=\"data row0 col0\" >Gradient Boosting Regressor</td>\n",
       "      <td id=\"T_62027_row0_col1\" class=\"data row0 col1\" >2.2507</td>\n",
       "      <td id=\"T_62027_row0_col2\" class=\"data row0 col2\" >10.4592</td>\n",
       "      <td id=\"T_62027_row0_col3\" class=\"data row0 col3\" >3.1780</td>\n",
       "      <td id=\"T_62027_row0_col4\" class=\"data row0 col4\" >0.8415</td>\n",
       "      <td id=\"T_62027_row0_col5\" class=\"data row0 col5\" >0.1440</td>\n",
       "      <td id=\"T_62027_row0_col6\" class=\"data row0 col6\" >0.1137</td>\n",
       "      <td id=\"T_62027_row0_col7\" class=\"data row0 col7\" >0.3200</td>\n",
       "    </tr>\n",
       "    <tr>\n",
       "      <th id=\"T_62027_level0_row1\" class=\"row_heading level0 row1\" >et</th>\n",
       "      <td id=\"T_62027_row1_col0\" class=\"data row1 col0\" >Extra Trees Regressor</td>\n",
       "      <td id=\"T_62027_row1_col1\" class=\"data row1 col1\" >2.3296</td>\n",
       "      <td id=\"T_62027_row1_col2\" class=\"data row1 col2\" >12.2969</td>\n",
       "      <td id=\"T_62027_row1_col3\" class=\"data row1 col3\" >3.3806</td>\n",
       "      <td id=\"T_62027_row1_col4\" class=\"data row1 col4\" >0.8319</td>\n",
       "      <td id=\"T_62027_row1_col5\" class=\"data row1 col5\" >0.1448</td>\n",
       "      <td id=\"T_62027_row1_col6\" class=\"data row1 col6\" >0.1150</td>\n",
       "      <td id=\"T_62027_row1_col7\" class=\"data row1 col7\" >0.4610</td>\n",
       "    </tr>\n",
       "    <tr>\n",
       "      <th id=\"T_62027_level0_row2\" class=\"row_heading level0 row2\" >rf</th>\n",
       "      <td id=\"T_62027_row2_col0\" class=\"data row2 col0\" >Random Forest Regressor</td>\n",
       "      <td id=\"T_62027_row2_col1\" class=\"data row2 col1\" >2.3930</td>\n",
       "      <td id=\"T_62027_row2_col2\" class=\"data row2 col2\" >13.0949</td>\n",
       "      <td id=\"T_62027_row2_col3\" class=\"data row2 col3\" >3.4856</td>\n",
       "      <td id=\"T_62027_row2_col4\" class=\"data row2 col4\" >0.8145</td>\n",
       "      <td id=\"T_62027_row2_col5\" class=\"data row2 col5\" >0.1519</td>\n",
       "      <td id=\"T_62027_row2_col6\" class=\"data row2 col6\" >0.1192</td>\n",
       "      <td id=\"T_62027_row2_col7\" class=\"data row2 col7\" >0.9000</td>\n",
       "    </tr>\n",
       "    <tr>\n",
       "      <th id=\"T_62027_level0_row3\" class=\"row_heading level0 row3\" >lightgbm</th>\n",
       "      <td id=\"T_62027_row3_col0\" class=\"data row3 col0\" >Light Gradient Boosting Machine</td>\n",
       "      <td id=\"T_62027_row3_col1\" class=\"data row3 col1\" >2.4752</td>\n",
       "      <td id=\"T_62027_row3_col2\" class=\"data row3 col2\" >13.3834</td>\n",
       "      <td id=\"T_62027_row3_col3\" class=\"data row3 col3\" >3.5408</td>\n",
       "      <td id=\"T_62027_row3_col4\" class=\"data row3 col4\" >0.8100</td>\n",
       "      <td id=\"T_62027_row3_col5\" class=\"data row3 col5\" >0.1611</td>\n",
       "      <td id=\"T_62027_row3_col6\" class=\"data row3 col6\" >0.1259</td>\n",
       "      <td id=\"T_62027_row3_col7\" class=\"data row3 col7\" >0.5510</td>\n",
       "    </tr>\n",
       "    <tr>\n",
       "      <th id=\"T_62027_level0_row4\" class=\"row_heading level0 row4\" >ada</th>\n",
       "      <td id=\"T_62027_row4_col0\" class=\"data row4 col0\" >AdaBoost Regressor</td>\n",
       "      <td id=\"T_62027_row4_col1\" class=\"data row4 col1\" >2.9640</td>\n",
       "      <td id=\"T_62027_row4_col2\" class=\"data row4 col2\" >18.3195</td>\n",
       "      <td id=\"T_62027_row4_col3\" class=\"data row4 col3\" >4.0916</td>\n",
       "      <td id=\"T_62027_row4_col4\" class=\"data row4 col4\" >0.7537</td>\n",
       "      <td id=\"T_62027_row4_col5\" class=\"data row4 col5\" >0.1851</td>\n",
       "      <td id=\"T_62027_row4_col6\" class=\"data row4 col6\" >0.1544</td>\n",
       "      <td id=\"T_62027_row4_col7\" class=\"data row4 col7\" >0.2450</td>\n",
       "    </tr>\n",
       "    <tr>\n",
       "      <th id=\"T_62027_level0_row5\" class=\"row_heading level0 row5\" >lr</th>\n",
       "      <td id=\"T_62027_row5_col0\" class=\"data row5 col0\" >Linear Regression</td>\n",
       "      <td id=\"T_62027_row5_col1\" class=\"data row5 col1\" >3.5348</td>\n",
       "      <td id=\"T_62027_row5_col2\" class=\"data row5 col2\" >26.2516</td>\n",
       "      <td id=\"T_62027_row5_col3\" class=\"data row5 col3\" >4.9172</td>\n",
       "      <td id=\"T_62027_row5_col4\" class=\"data row5 col4\" >0.6576</td>\n",
       "      <td id=\"T_62027_row5_col5\" class=\"data row5 col5\" >0.2520</td>\n",
       "      <td id=\"T_62027_row5_col6\" class=\"data row5 col6\" >0.1691</td>\n",
       "      <td id=\"T_62027_row5_col7\" class=\"data row5 col7\" >0.0580</td>\n",
       "    </tr>\n",
       "    <tr>\n",
       "      <th id=\"T_62027_level0_row6\" class=\"row_heading level0 row6\" >ridge</th>\n",
       "      <td id=\"T_62027_row6_col0\" class=\"data row6 col0\" >Ridge Regression</td>\n",
       "      <td id=\"T_62027_row6_col1\" class=\"data row6 col1\" >3.5224</td>\n",
       "      <td id=\"T_62027_row6_col2\" class=\"data row6 col2\" >26.4428</td>\n",
       "      <td id=\"T_62027_row6_col3\" class=\"data row6 col3\" >4.9321</td>\n",
       "      <td id=\"T_62027_row6_col4\" class=\"data row6 col4\" >0.6571</td>\n",
       "      <td id=\"T_62027_row6_col5\" class=\"data row6 col5\" >0.2524</td>\n",
       "      <td id=\"T_62027_row6_col6\" class=\"data row6 col6\" >0.1683</td>\n",
       "      <td id=\"T_62027_row6_col7\" class=\"data row6 col7\" >0.0340</td>\n",
       "    </tr>\n",
       "    <tr>\n",
       "      <th id=\"T_62027_level0_row7\" class=\"row_heading level0 row7\" >br</th>\n",
       "      <td id=\"T_62027_row7_col0\" class=\"data row7 col0\" >Bayesian Ridge</td>\n",
       "      <td id=\"T_62027_row7_col1\" class=\"data row7 col1\" >3.5794</td>\n",
       "      <td id=\"T_62027_row7_col2\" class=\"data row7 col2\" >27.1539</td>\n",
       "      <td id=\"T_62027_row7_col3\" class=\"data row7 col3\" >4.9879</td>\n",
       "      <td id=\"T_62027_row7_col4\" class=\"data row7 col4\" >0.6523</td>\n",
       "      <td id=\"T_62027_row7_col5\" class=\"data row7 col5\" >0.2559</td>\n",
       "      <td id=\"T_62027_row7_col6\" class=\"data row7 col6\" >0.1705</td>\n",
       "      <td id=\"T_62027_row7_col7\" class=\"data row7 col7\" >0.0410</td>\n",
       "    </tr>\n",
       "    <tr>\n",
       "      <th id=\"T_62027_level0_row8\" class=\"row_heading level0 row8\" >dt</th>\n",
       "      <td id=\"T_62027_row8_col0\" class=\"data row8 col0\" >Decision Tree Regressor</td>\n",
       "      <td id=\"T_62027_row8_col1\" class=\"data row8 col1\" >3.3481</td>\n",
       "      <td id=\"T_62027_row8_col2\" class=\"data row8 col2\" >25.6849</td>\n",
       "      <td id=\"T_62027_row8_col3\" class=\"data row8 col3\" >4.9498</td>\n",
       "      <td id=\"T_62027_row8_col4\" class=\"data row8 col4\" >0.6448</td>\n",
       "      <td id=\"T_62027_row8_col5\" class=\"data row8 col5\" >0.2034</td>\n",
       "      <td id=\"T_62027_row8_col6\" class=\"data row8 col6\" >0.1619</td>\n",
       "      <td id=\"T_62027_row8_col7\" class=\"data row8 col7\" >0.0840</td>\n",
       "    </tr>\n",
       "    <tr>\n",
       "      <th id=\"T_62027_level0_row9\" class=\"row_heading level0 row9\" >huber</th>\n",
       "      <td id=\"T_62027_row9_col0\" class=\"data row9 col0\" >Huber Regressor</td>\n",
       "      <td id=\"T_62027_row9_col1\" class=\"data row9 col1\" >3.6870</td>\n",
       "      <td id=\"T_62027_row9_col2\" class=\"data row9 col2\" >30.7372</td>\n",
       "      <td id=\"T_62027_row9_col3\" class=\"data row9 col3\" >5.2712</td>\n",
       "      <td id=\"T_62027_row9_col4\" class=\"data row9 col4\" >0.6276</td>\n",
       "      <td id=\"T_62027_row9_col5\" class=\"data row9 col5\" >0.2756</td>\n",
       "      <td id=\"T_62027_row9_col6\" class=\"data row9 col6\" >0.1804</td>\n",
       "      <td id=\"T_62027_row9_col7\" class=\"data row9 col7\" >0.1080</td>\n",
       "    </tr>\n",
       "    <tr>\n",
       "      <th id=\"T_62027_level0_row10\" class=\"row_heading level0 row10\" >en</th>\n",
       "      <td id=\"T_62027_row10_col0\" class=\"data row10 col0\" >Elastic Net</td>\n",
       "      <td id=\"T_62027_row10_col1\" class=\"data row10 col1\" >3.8093</td>\n",
       "      <td id=\"T_62027_row10_col2\" class=\"data row10 col2\" >29.8704</td>\n",
       "      <td id=\"T_62027_row10_col3\" class=\"data row10 col3\" >5.2217</td>\n",
       "      <td id=\"T_62027_row10_col4\" class=\"data row10 col4\" >0.6172</td>\n",
       "      <td id=\"T_62027_row10_col5\" class=\"data row10 col5\" >0.2723</td>\n",
       "      <td id=\"T_62027_row10_col6\" class=\"data row10 col6\" >0.1793</td>\n",
       "      <td id=\"T_62027_row10_col7\" class=\"data row10 col7\" >0.0580</td>\n",
       "    </tr>\n",
       "    <tr>\n",
       "      <th id=\"T_62027_level0_row11\" class=\"row_heading level0 row11\" >lasso</th>\n",
       "      <td id=\"T_62027_row11_col0\" class=\"data row11 col0\" >Lasso Regression</td>\n",
       "      <td id=\"T_62027_row11_col1\" class=\"data row11 col1\" >3.9092</td>\n",
       "      <td id=\"T_62027_row11_col2\" class=\"data row11 col2\" >31.3714</td>\n",
       "      <td id=\"T_62027_row11_col3\" class=\"data row11 col3\" >5.3565</td>\n",
       "      <td id=\"T_62027_row11_col4\" class=\"data row11 col4\" >0.5950</td>\n",
       "      <td id=\"T_62027_row11_col5\" class=\"data row11 col5\" >0.2812</td>\n",
       "      <td id=\"T_62027_row11_col6\" class=\"data row11 col6\" >0.1838</td>\n",
       "      <td id=\"T_62027_row11_col7\" class=\"data row11 col7\" >0.0390</td>\n",
       "    </tr>\n",
       "    <tr>\n",
       "      <th id=\"T_62027_level0_row12\" class=\"row_heading level0 row12\" >llar</th>\n",
       "      <td id=\"T_62027_row12_col0\" class=\"data row12 col0\" >Lasso Least Angle Regression</td>\n",
       "      <td id=\"T_62027_row12_col1\" class=\"data row12 col1\" >3.9092</td>\n",
       "      <td id=\"T_62027_row12_col2\" class=\"data row12 col2\" >31.3705</td>\n",
       "      <td id=\"T_62027_row12_col3\" class=\"data row12 col3\" >5.3564</td>\n",
       "      <td id=\"T_62027_row12_col4\" class=\"data row12 col4\" >0.5950</td>\n",
       "      <td id=\"T_62027_row12_col5\" class=\"data row12 col5\" >0.2812</td>\n",
       "      <td id=\"T_62027_row12_col6\" class=\"data row12 col6\" >0.1838</td>\n",
       "      <td id=\"T_62027_row12_col7\" class=\"data row12 col7\" >0.0410</td>\n",
       "    </tr>\n",
       "    <tr>\n",
       "      <th id=\"T_62027_level0_row13\" class=\"row_heading level0 row13\" >lar</th>\n",
       "      <td id=\"T_62027_row13_col0\" class=\"data row13 col0\" >Least Angle Regression</td>\n",
       "      <td id=\"T_62027_row13_col1\" class=\"data row13 col1\" >4.1216</td>\n",
       "      <td id=\"T_62027_row13_col2\" class=\"data row13 col2\" >36.9863</td>\n",
       "      <td id=\"T_62027_row13_col3\" class=\"data row13 col3\" >5.7160</td>\n",
       "      <td id=\"T_62027_row13_col4\" class=\"data row13 col4\" >0.4579</td>\n",
       "      <td id=\"T_62027_row13_col5\" class=\"data row13 col5\" >0.2999</td>\n",
       "      <td id=\"T_62027_row13_col6\" class=\"data row13 col6\" >0.2039</td>\n",
       "      <td id=\"T_62027_row13_col7\" class=\"data row13 col7\" >0.0490</td>\n",
       "    </tr>\n",
       "    <tr>\n",
       "      <th id=\"T_62027_level0_row14\" class=\"row_heading level0 row14\" >knn</th>\n",
       "      <td id=\"T_62027_row14_col0\" class=\"data row14 col0\" >K Neighbors Regressor</td>\n",
       "      <td id=\"T_62027_row14_col1\" class=\"data row14 col1\" >4.6890</td>\n",
       "      <td id=\"T_62027_row14_col2\" class=\"data row14 col2\" >48.4240</td>\n",
       "      <td id=\"T_62027_row14_col3\" class=\"data row14 col3\" >6.6110</td>\n",
       "      <td id=\"T_62027_row14_col4\" class=\"data row14 col4\" >0.3994</td>\n",
       "      <td id=\"T_62027_row14_col5\" class=\"data row14 col5\" >0.2601</td>\n",
       "      <td id=\"T_62027_row14_col6\" class=\"data row14 col6\" >0.2217</td>\n",
       "      <td id=\"T_62027_row14_col7\" class=\"data row14 col7\" >0.1920</td>\n",
       "    </tr>\n",
       "    <tr>\n",
       "      <th id=\"T_62027_level0_row15\" class=\"row_heading level0 row15\" >omp</th>\n",
       "      <td id=\"T_62027_row15_col0\" class=\"data row15 col0\" >Orthogonal Matching Pursuit</td>\n",
       "      <td id=\"T_62027_row15_col1\" class=\"data row15 col1\" >5.9516</td>\n",
       "      <td id=\"T_62027_row15_col2\" class=\"data row15 col2\" >67.1581</td>\n",
       "      <td id=\"T_62027_row15_col3\" class=\"data row15 col3\" >7.7709</td>\n",
       "      <td id=\"T_62027_row15_col4\" class=\"data row15 col4\" >0.1984</td>\n",
       "      <td id=\"T_62027_row15_col5\" class=\"data row15 col5\" >0.3294</td>\n",
       "      <td id=\"T_62027_row15_col6\" class=\"data row15 col6\" >0.3008</td>\n",
       "      <td id=\"T_62027_row15_col7\" class=\"data row15 col7\" >0.0330</td>\n",
       "    </tr>\n",
       "    <tr>\n",
       "      <th id=\"T_62027_level0_row16\" class=\"row_heading level0 row16\" >dummy</th>\n",
       "      <td id=\"T_62027_row16_col0\" class=\"data row16 col0\" >Dummy Regressor</td>\n",
       "      <td id=\"T_62027_row16_col1\" class=\"data row16 col1\" >6.5771</td>\n",
       "      <td id=\"T_62027_row16_col2\" class=\"data row16 col2\" >81.5178</td>\n",
       "      <td id=\"T_62027_row16_col3\" class=\"data row16 col3\" >8.7568</td>\n",
       "      <td id=\"T_62027_row16_col4\" class=\"data row16 col4\" >-0.0331</td>\n",
       "      <td id=\"T_62027_row16_col5\" class=\"data row16 col5\" >0.3865</td>\n",
       "      <td id=\"T_62027_row16_col6\" class=\"data row16 col6\" >0.3649</td>\n",
       "      <td id=\"T_62027_row16_col7\" class=\"data row16 col7\" >0.0290</td>\n",
       "    </tr>\n",
       "    <tr>\n",
       "      <th id=\"T_62027_level0_row17\" class=\"row_heading level0 row17\" >par</th>\n",
       "      <td id=\"T_62027_row17_col0\" class=\"data row17 col0\" >Passive Aggressive Regressor</td>\n",
       "      <td id=\"T_62027_row17_col1\" class=\"data row17 col1\" >7.5990</td>\n",
       "      <td id=\"T_62027_row17_col2\" class=\"data row17 col2\" >87.8071</td>\n",
       "      <td id=\"T_62027_row17_col3\" class=\"data row17 col3\" >9.2013</td>\n",
       "      <td id=\"T_62027_row17_col4\" class=\"data row17 col4\" >-0.3750</td>\n",
       "      <td id=\"T_62027_row17_col5\" class=\"data row17 col5\" >0.5078</td>\n",
       "      <td id=\"T_62027_row17_col6\" class=\"data row17 col6\" >0.4123</td>\n",
       "      <td id=\"T_62027_row17_col7\" class=\"data row17 col7\" >0.0460</td>\n",
       "    </tr>\n",
       "  </tbody>\n",
       "</table>\n"
      ],
      "text/plain": [
       "<pandas.io.formats.style.Styler at 0x226ef57bbb0>"
      ]
     },
     "metadata": {},
     "output_type": "display_data"
    },
    {
     "data": {
      "text/html": [],
      "text/plain": [
       "<IPython.core.display.HTML object>"
      ]
     },
     "metadata": {},
     "output_type": "display_data"
    },
    {
     "data": {
      "text/html": [
       "<style>#sk-container-id-3 {\n",
       "  /* Definition of color scheme common for light and dark mode */\n",
       "  --sklearn-color-text: black;\n",
       "  --sklearn-color-line: gray;\n",
       "  /* Definition of color scheme for unfitted estimators */\n",
       "  --sklearn-color-unfitted-level-0: #fff5e6;\n",
       "  --sklearn-color-unfitted-level-1: #f6e4d2;\n",
       "  --sklearn-color-unfitted-level-2: #ffe0b3;\n",
       "  --sklearn-color-unfitted-level-3: chocolate;\n",
       "  /* Definition of color scheme for fitted estimators */\n",
       "  --sklearn-color-fitted-level-0: #f0f8ff;\n",
       "  --sklearn-color-fitted-level-1: #d4ebff;\n",
       "  --sklearn-color-fitted-level-2: #b3dbfd;\n",
       "  --sklearn-color-fitted-level-3: cornflowerblue;\n",
       "\n",
       "  /* Specific color for light theme */\n",
       "  --sklearn-color-text-on-default-background: var(--sg-text-color, var(--theme-code-foreground, var(--jp-content-font-color1, black)));\n",
       "  --sklearn-color-background: var(--sg-background-color, var(--theme-background, var(--jp-layout-color0, white)));\n",
       "  --sklearn-color-border-box: var(--sg-text-color, var(--theme-code-foreground, var(--jp-content-font-color1, black)));\n",
       "  --sklearn-color-icon: #696969;\n",
       "\n",
       "  @media (prefers-color-scheme: dark) {\n",
       "    /* Redefinition of color scheme for dark theme */\n",
       "    --sklearn-color-text-on-default-background: var(--sg-text-color, var(--theme-code-foreground, var(--jp-content-font-color1, white)));\n",
       "    --sklearn-color-background: var(--sg-background-color, var(--theme-background, var(--jp-layout-color0, #111)));\n",
       "    --sklearn-color-border-box: var(--sg-text-color, var(--theme-code-foreground, var(--jp-content-font-color1, white)));\n",
       "    --sklearn-color-icon: #878787;\n",
       "  }\n",
       "}\n",
       "\n",
       "#sk-container-id-3 {\n",
       "  color: var(--sklearn-color-text);\n",
       "}\n",
       "\n",
       "#sk-container-id-3 pre {\n",
       "  padding: 0;\n",
       "}\n",
       "\n",
       "#sk-container-id-3 input.sk-hidden--visually {\n",
       "  border: 0;\n",
       "  clip: rect(1px 1px 1px 1px);\n",
       "  clip: rect(1px, 1px, 1px, 1px);\n",
       "  height: 1px;\n",
       "  margin: -1px;\n",
       "  overflow: hidden;\n",
       "  padding: 0;\n",
       "  position: absolute;\n",
       "  width: 1px;\n",
       "}\n",
       "\n",
       "#sk-container-id-3 div.sk-dashed-wrapped {\n",
       "  border: 1px dashed var(--sklearn-color-line);\n",
       "  margin: 0 0.4em 0.5em 0.4em;\n",
       "  box-sizing: border-box;\n",
       "  padding-bottom: 0.4em;\n",
       "  background-color: var(--sklearn-color-background);\n",
       "}\n",
       "\n",
       "#sk-container-id-3 div.sk-container {\n",
       "  /* jupyter's `normalize.less` sets `[hidden] { display: none; }`\n",
       "     but bootstrap.min.css set `[hidden] { display: none !important; }`\n",
       "     so we also need the `!important` here to be able to override the\n",
       "     default hidden behavior on the sphinx rendered scikit-learn.org.\n",
       "     See: https://github.com/scikit-learn/scikit-learn/issues/21755 */\n",
       "  display: inline-block !important;\n",
       "  position: relative;\n",
       "}\n",
       "\n",
       "#sk-container-id-3 div.sk-text-repr-fallback {\n",
       "  display: none;\n",
       "}\n",
       "\n",
       "div.sk-parallel-item,\n",
       "div.sk-serial,\n",
       "div.sk-item {\n",
       "  /* draw centered vertical line to link estimators */\n",
       "  background-image: linear-gradient(var(--sklearn-color-text-on-default-background), var(--sklearn-color-text-on-default-background));\n",
       "  background-size: 2px 100%;\n",
       "  background-repeat: no-repeat;\n",
       "  background-position: center center;\n",
       "}\n",
       "\n",
       "/* Parallel-specific style estimator block */\n",
       "\n",
       "#sk-container-id-3 div.sk-parallel-item::after {\n",
       "  content: \"\";\n",
       "  width: 100%;\n",
       "  border-bottom: 2px solid var(--sklearn-color-text-on-default-background);\n",
       "  flex-grow: 1;\n",
       "}\n",
       "\n",
       "#sk-container-id-3 div.sk-parallel {\n",
       "  display: flex;\n",
       "  align-items: stretch;\n",
       "  justify-content: center;\n",
       "  background-color: var(--sklearn-color-background);\n",
       "  position: relative;\n",
       "}\n",
       "\n",
       "#sk-container-id-3 div.sk-parallel-item {\n",
       "  display: flex;\n",
       "  flex-direction: column;\n",
       "}\n",
       "\n",
       "#sk-container-id-3 div.sk-parallel-item:first-child::after {\n",
       "  align-self: flex-end;\n",
       "  width: 50%;\n",
       "}\n",
       "\n",
       "#sk-container-id-3 div.sk-parallel-item:last-child::after {\n",
       "  align-self: flex-start;\n",
       "  width: 50%;\n",
       "}\n",
       "\n",
       "#sk-container-id-3 div.sk-parallel-item:only-child::after {\n",
       "  width: 0;\n",
       "}\n",
       "\n",
       "/* Serial-specific style estimator block */\n",
       "\n",
       "#sk-container-id-3 div.sk-serial {\n",
       "  display: flex;\n",
       "  flex-direction: column;\n",
       "  align-items: center;\n",
       "  background-color: var(--sklearn-color-background);\n",
       "  padding-right: 1em;\n",
       "  padding-left: 1em;\n",
       "}\n",
       "\n",
       "\n",
       "/* Toggleable style: style used for estimator/Pipeline/ColumnTransformer box that is\n",
       "clickable and can be expanded/collapsed.\n",
       "- Pipeline and ColumnTransformer use this feature and define the default style\n",
       "- Estimators will overwrite some part of the style using the `sk-estimator` class\n",
       "*/\n",
       "\n",
       "/* Pipeline and ColumnTransformer style (default) */\n",
       "\n",
       "#sk-container-id-3 div.sk-toggleable {\n",
       "  /* Default theme specific background. It is overwritten whether we have a\n",
       "  specific estimator or a Pipeline/ColumnTransformer */\n",
       "  background-color: var(--sklearn-color-background);\n",
       "}\n",
       "\n",
       "/* Toggleable label */\n",
       "#sk-container-id-3 label.sk-toggleable__label {\n",
       "  cursor: pointer;\n",
       "  display: block;\n",
       "  width: 100%;\n",
       "  margin-bottom: 0;\n",
       "  padding: 0.5em;\n",
       "  box-sizing: border-box;\n",
       "  text-align: center;\n",
       "}\n",
       "\n",
       "#sk-container-id-3 label.sk-toggleable__label-arrow:before {\n",
       "  /* Arrow on the left of the label */\n",
       "  content: \"▸\";\n",
       "  float: left;\n",
       "  margin-right: 0.25em;\n",
       "  color: var(--sklearn-color-icon);\n",
       "}\n",
       "\n",
       "#sk-container-id-3 label.sk-toggleable__label-arrow:hover:before {\n",
       "  color: var(--sklearn-color-text);\n",
       "}\n",
       "\n",
       "/* Toggleable content - dropdown */\n",
       "\n",
       "#sk-container-id-3 div.sk-toggleable__content {\n",
       "  max-height: 0;\n",
       "  max-width: 0;\n",
       "  overflow: hidden;\n",
       "  text-align: left;\n",
       "  /* unfitted */\n",
       "  background-color: var(--sklearn-color-unfitted-level-0);\n",
       "}\n",
       "\n",
       "#sk-container-id-3 div.sk-toggleable__content.fitted {\n",
       "  /* fitted */\n",
       "  background-color: var(--sklearn-color-fitted-level-0);\n",
       "}\n",
       "\n",
       "#sk-container-id-3 div.sk-toggleable__content pre {\n",
       "  margin: 0.2em;\n",
       "  border-radius: 0.25em;\n",
       "  color: var(--sklearn-color-text);\n",
       "  /* unfitted */\n",
       "  background-color: var(--sklearn-color-unfitted-level-0);\n",
       "}\n",
       "\n",
       "#sk-container-id-3 div.sk-toggleable__content.fitted pre {\n",
       "  /* unfitted */\n",
       "  background-color: var(--sklearn-color-fitted-level-0);\n",
       "}\n",
       "\n",
       "#sk-container-id-3 input.sk-toggleable__control:checked~div.sk-toggleable__content {\n",
       "  /* Expand drop-down */\n",
       "  max-height: 200px;\n",
       "  max-width: 100%;\n",
       "  overflow: auto;\n",
       "}\n",
       "\n",
       "#sk-container-id-3 input.sk-toggleable__control:checked~label.sk-toggleable__label-arrow:before {\n",
       "  content: \"▾\";\n",
       "}\n",
       "\n",
       "/* Pipeline/ColumnTransformer-specific style */\n",
       "\n",
       "#sk-container-id-3 div.sk-label input.sk-toggleable__control:checked~label.sk-toggleable__label {\n",
       "  color: var(--sklearn-color-text);\n",
       "  background-color: var(--sklearn-color-unfitted-level-2);\n",
       "}\n",
       "\n",
       "#sk-container-id-3 div.sk-label.fitted input.sk-toggleable__control:checked~label.sk-toggleable__label {\n",
       "  background-color: var(--sklearn-color-fitted-level-2);\n",
       "}\n",
       "\n",
       "/* Estimator-specific style */\n",
       "\n",
       "/* Colorize estimator box */\n",
       "#sk-container-id-3 div.sk-estimator input.sk-toggleable__control:checked~label.sk-toggleable__label {\n",
       "  /* unfitted */\n",
       "  background-color: var(--sklearn-color-unfitted-level-2);\n",
       "}\n",
       "\n",
       "#sk-container-id-3 div.sk-estimator.fitted input.sk-toggleable__control:checked~label.sk-toggleable__label {\n",
       "  /* fitted */\n",
       "  background-color: var(--sklearn-color-fitted-level-2);\n",
       "}\n",
       "\n",
       "#sk-container-id-3 div.sk-label label.sk-toggleable__label,\n",
       "#sk-container-id-3 div.sk-label label {\n",
       "  /* The background is the default theme color */\n",
       "  color: var(--sklearn-color-text-on-default-background);\n",
       "}\n",
       "\n",
       "/* On hover, darken the color of the background */\n",
       "#sk-container-id-3 div.sk-label:hover label.sk-toggleable__label {\n",
       "  color: var(--sklearn-color-text);\n",
       "  background-color: var(--sklearn-color-unfitted-level-2);\n",
       "}\n",
       "\n",
       "/* Label box, darken color on hover, fitted */\n",
       "#sk-container-id-3 div.sk-label.fitted:hover label.sk-toggleable__label.fitted {\n",
       "  color: var(--sklearn-color-text);\n",
       "  background-color: var(--sklearn-color-fitted-level-2);\n",
       "}\n",
       "\n",
       "/* Estimator label */\n",
       "\n",
       "#sk-container-id-3 div.sk-label label {\n",
       "  font-family: monospace;\n",
       "  font-weight: bold;\n",
       "  display: inline-block;\n",
       "  line-height: 1.2em;\n",
       "}\n",
       "\n",
       "#sk-container-id-3 div.sk-label-container {\n",
       "  text-align: center;\n",
       "}\n",
       "\n",
       "/* Estimator-specific */\n",
       "#sk-container-id-3 div.sk-estimator {\n",
       "  font-family: monospace;\n",
       "  border: 1px dotted var(--sklearn-color-border-box);\n",
       "  border-radius: 0.25em;\n",
       "  box-sizing: border-box;\n",
       "  margin-bottom: 0.5em;\n",
       "  /* unfitted */\n",
       "  background-color: var(--sklearn-color-unfitted-level-0);\n",
       "}\n",
       "\n",
       "#sk-container-id-3 div.sk-estimator.fitted {\n",
       "  /* fitted */\n",
       "  background-color: var(--sklearn-color-fitted-level-0);\n",
       "}\n",
       "\n",
       "/* on hover */\n",
       "#sk-container-id-3 div.sk-estimator:hover {\n",
       "  /* unfitted */\n",
       "  background-color: var(--sklearn-color-unfitted-level-2);\n",
       "}\n",
       "\n",
       "#sk-container-id-3 div.sk-estimator.fitted:hover {\n",
       "  /* fitted */\n",
       "  background-color: var(--sklearn-color-fitted-level-2);\n",
       "}\n",
       "\n",
       "/* Specification for estimator info (e.g. \"i\" and \"?\") */\n",
       "\n",
       "/* Common style for \"i\" and \"?\" */\n",
       "\n",
       ".sk-estimator-doc-link,\n",
       "a:link.sk-estimator-doc-link,\n",
       "a:visited.sk-estimator-doc-link {\n",
       "  float: right;\n",
       "  font-size: smaller;\n",
       "  line-height: 1em;\n",
       "  font-family: monospace;\n",
       "  background-color: var(--sklearn-color-background);\n",
       "  border-radius: 1em;\n",
       "  height: 1em;\n",
       "  width: 1em;\n",
       "  text-decoration: none !important;\n",
       "  margin-left: 1ex;\n",
       "  /* unfitted */\n",
       "  border: var(--sklearn-color-unfitted-level-1) 1pt solid;\n",
       "  color: var(--sklearn-color-unfitted-level-1);\n",
       "}\n",
       "\n",
       ".sk-estimator-doc-link.fitted,\n",
       "a:link.sk-estimator-doc-link.fitted,\n",
       "a:visited.sk-estimator-doc-link.fitted {\n",
       "  /* fitted */\n",
       "  border: var(--sklearn-color-fitted-level-1) 1pt solid;\n",
       "  color: var(--sklearn-color-fitted-level-1);\n",
       "}\n",
       "\n",
       "/* On hover */\n",
       "div.sk-estimator:hover .sk-estimator-doc-link:hover,\n",
       ".sk-estimator-doc-link:hover,\n",
       "div.sk-label-container:hover .sk-estimator-doc-link:hover,\n",
       ".sk-estimator-doc-link:hover {\n",
       "  /* unfitted */\n",
       "  background-color: var(--sklearn-color-unfitted-level-3);\n",
       "  color: var(--sklearn-color-background);\n",
       "  text-decoration: none;\n",
       "}\n",
       "\n",
       "div.sk-estimator.fitted:hover .sk-estimator-doc-link.fitted:hover,\n",
       ".sk-estimator-doc-link.fitted:hover,\n",
       "div.sk-label-container:hover .sk-estimator-doc-link.fitted:hover,\n",
       ".sk-estimator-doc-link.fitted:hover {\n",
       "  /* fitted */\n",
       "  background-color: var(--sklearn-color-fitted-level-3);\n",
       "  color: var(--sklearn-color-background);\n",
       "  text-decoration: none;\n",
       "}\n",
       "\n",
       "/* Span, style for the box shown on hovering the info icon */\n",
       ".sk-estimator-doc-link span {\n",
       "  display: none;\n",
       "  z-index: 9999;\n",
       "  position: relative;\n",
       "  font-weight: normal;\n",
       "  right: .2ex;\n",
       "  padding: .5ex;\n",
       "  margin: .5ex;\n",
       "  width: min-content;\n",
       "  min-width: 20ex;\n",
       "  max-width: 50ex;\n",
       "  color: var(--sklearn-color-text);\n",
       "  box-shadow: 2pt 2pt 4pt #999;\n",
       "  /* unfitted */\n",
       "  background: var(--sklearn-color-unfitted-level-0);\n",
       "  border: .5pt solid var(--sklearn-color-unfitted-level-3);\n",
       "}\n",
       "\n",
       ".sk-estimator-doc-link.fitted span {\n",
       "  /* fitted */\n",
       "  background: var(--sklearn-color-fitted-level-0);\n",
       "  border: var(--sklearn-color-fitted-level-3);\n",
       "}\n",
       "\n",
       ".sk-estimator-doc-link:hover span {\n",
       "  display: block;\n",
       "}\n",
       "\n",
       "/* \"?\"-specific style due to the `<a>` HTML tag */\n",
       "\n",
       "#sk-container-id-3 a.estimator_doc_link {\n",
       "  float: right;\n",
       "  font-size: 1rem;\n",
       "  line-height: 1em;\n",
       "  font-family: monospace;\n",
       "  background-color: var(--sklearn-color-background);\n",
       "  border-radius: 1rem;\n",
       "  height: 1rem;\n",
       "  width: 1rem;\n",
       "  text-decoration: none;\n",
       "  /* unfitted */\n",
       "  color: var(--sklearn-color-unfitted-level-1);\n",
       "  border: var(--sklearn-color-unfitted-level-1) 1pt solid;\n",
       "}\n",
       "\n",
       "#sk-container-id-3 a.estimator_doc_link.fitted {\n",
       "  /* fitted */\n",
       "  border: var(--sklearn-color-fitted-level-1) 1pt solid;\n",
       "  color: var(--sklearn-color-fitted-level-1);\n",
       "}\n",
       "\n",
       "/* On hover */\n",
       "#sk-container-id-3 a.estimator_doc_link:hover {\n",
       "  /* unfitted */\n",
       "  background-color: var(--sklearn-color-unfitted-level-3);\n",
       "  color: var(--sklearn-color-background);\n",
       "  text-decoration: none;\n",
       "}\n",
       "\n",
       "#sk-container-id-3 a.estimator_doc_link.fitted:hover {\n",
       "  /* fitted */\n",
       "  background-color: var(--sklearn-color-fitted-level-3);\n",
       "}\n",
       "</style><div id=\"sk-container-id-3\" class=\"sk-top-container\"><div class=\"sk-text-repr-fallback\"><pre>GradientBoostingRegressor(alpha=0.9, ccp_alpha=0.0, criterion=&#x27;friedman_mse&#x27;,\n",
       "                          init=None, learning_rate=0.1, loss=&#x27;squared_error&#x27;,\n",
       "                          max_depth=3, max_features=None, max_leaf_nodes=None,\n",
       "                          min_impurity_decrease=0.0, min_samples_leaf=1,\n",
       "                          min_samples_split=2, min_weight_fraction_leaf=0.0,\n",
       "                          n_estimators=100, n_iter_no_change=None,\n",
       "                          random_state=4436, subsample=1.0, tol=0.0001,\n",
       "                          validation_fraction=0.1, verbose=0, warm_start=False)</pre><b>In a Jupyter environment, please rerun this cell to show the HTML representation or trust the notebook. <br />On GitHub, the HTML representation is unable to render, please try loading this page with nbviewer.org.</b></div><div class=\"sk-container\" hidden><div class=\"sk-item\"><div class=\"sk-estimator fitted sk-toggleable\"><input class=\"sk-toggleable__control sk-hidden--visually\" id=\"sk-estimator-id-3\" type=\"checkbox\" checked><label for=\"sk-estimator-id-3\" class=\"sk-toggleable__label fitted sk-toggleable__label-arrow fitted\">&nbsp;&nbsp;GradientBoostingRegressor<a class=\"sk-estimator-doc-link fitted\" rel=\"noreferrer\" target=\"_blank\" href=\"https://scikit-learn.org/1.4/modules/generated/sklearn.ensemble.GradientBoostingRegressor.html\">?<span>Documentation for GradientBoostingRegressor</span></a><span class=\"sk-estimator-doc-link fitted\">i<span>Fitted</span></span></label><div class=\"sk-toggleable__content fitted\"><pre>GradientBoostingRegressor(alpha=0.9, ccp_alpha=0.0, criterion=&#x27;friedman_mse&#x27;,\n",
       "                          init=None, learning_rate=0.1, loss=&#x27;squared_error&#x27;,\n",
       "                          max_depth=3, max_features=None, max_leaf_nodes=None,\n",
       "                          min_impurity_decrease=0.0, min_samples_leaf=1,\n",
       "                          min_samples_split=2, min_weight_fraction_leaf=0.0,\n",
       "                          n_estimators=100, n_iter_no_change=None,\n",
       "                          random_state=4436, subsample=1.0, tol=0.0001,\n",
       "                          validation_fraction=0.1, verbose=0, warm_start=False)</pre></div> </div></div></div></div>"
      ],
      "text/plain": [
       "GradientBoostingRegressor(alpha=0.9, ccp_alpha=0.0, criterion='friedman_mse',\n",
       "                          init=None, learning_rate=0.1, loss='squared_error',\n",
       "                          max_depth=3, max_features=None, max_leaf_nodes=None,\n",
       "                          min_impurity_decrease=0.0, min_samples_leaf=1,\n",
       "                          min_samples_split=2, min_weight_fraction_leaf=0.0,\n",
       "                          n_estimators=100, n_iter_no_change=None,\n",
       "                          random_state=4436, subsample=1.0, tol=0.0001,\n",
       "                          validation_fraction=0.1, verbose=0, warm_start=False)"
      ]
     },
     "execution_count": 26,
     "metadata": {},
     "output_type": "execute_result"
    }
   ],
   "source": [
    "# Comparing models\n",
    "compare_models()"
   ]
  },
  {
   "cell_type": "code",
   "execution_count": 29,
   "metadata": {},
   "outputs": [
    {
     "data": {
      "text/html": [],
      "text/plain": [
       "<IPython.core.display.HTML object>"
      ]
     },
     "metadata": {},
     "output_type": "display_data"
    },
    {
     "data": {
      "text/html": [
       "<style type=\"text/css\">\n",
       "#T_f79b0_row10_col0, #T_f79b0_row10_col1, #T_f79b0_row10_col2, #T_f79b0_row10_col3, #T_f79b0_row10_col4, #T_f79b0_row10_col5 {\n",
       "  background: yellow;\n",
       "}\n",
       "</style>\n",
       "<table id=\"T_f79b0\">\n",
       "  <thead>\n",
       "    <tr>\n",
       "      <th class=\"blank level0\" >&nbsp;</th>\n",
       "      <th id=\"T_f79b0_level0_col0\" class=\"col_heading level0 col0\" >MAE</th>\n",
       "      <th id=\"T_f79b0_level0_col1\" class=\"col_heading level0 col1\" >MSE</th>\n",
       "      <th id=\"T_f79b0_level0_col2\" class=\"col_heading level0 col2\" >RMSE</th>\n",
       "      <th id=\"T_f79b0_level0_col3\" class=\"col_heading level0 col3\" >R2</th>\n",
       "      <th id=\"T_f79b0_level0_col4\" class=\"col_heading level0 col4\" >RMSLE</th>\n",
       "      <th id=\"T_f79b0_level0_col5\" class=\"col_heading level0 col5\" >MAPE</th>\n",
       "    </tr>\n",
       "    <tr>\n",
       "      <th class=\"index_name level0\" >Fold</th>\n",
       "      <th class=\"blank col0\" >&nbsp;</th>\n",
       "      <th class=\"blank col1\" >&nbsp;</th>\n",
       "      <th class=\"blank col2\" >&nbsp;</th>\n",
       "      <th class=\"blank col3\" >&nbsp;</th>\n",
       "      <th class=\"blank col4\" >&nbsp;</th>\n",
       "      <th class=\"blank col5\" >&nbsp;</th>\n",
       "    </tr>\n",
       "  </thead>\n",
       "  <tbody>\n",
       "    <tr>\n",
       "      <th id=\"T_f79b0_level0_row0\" class=\"row_heading level0 row0\" >0</th>\n",
       "      <td id=\"T_f79b0_row0_col0\" class=\"data row0 col0\" >2.1784</td>\n",
       "      <td id=\"T_f79b0_row0_col1\" class=\"data row0 col1\" >18.1340</td>\n",
       "      <td id=\"T_f79b0_row0_col2\" class=\"data row0 col2\" >4.2584</td>\n",
       "      <td id=\"T_f79b0_row0_col3\" class=\"data row0 col3\" >0.5887</td>\n",
       "      <td id=\"T_f79b0_row0_col4\" class=\"data row0 col4\" >0.1427</td>\n",
       "      <td id=\"T_f79b0_row0_col5\" class=\"data row0 col5\" >0.1000</td>\n",
       "    </tr>\n",
       "    <tr>\n",
       "      <th id=\"T_f79b0_level0_row1\" class=\"row_heading level0 row1\" >1</th>\n",
       "      <td id=\"T_f79b0_row1_col0\" class=\"data row1 col0\" >2.1081</td>\n",
       "      <td id=\"T_f79b0_row1_col1\" class=\"data row1 col1\" >8.8478</td>\n",
       "      <td id=\"T_f79b0_row1_col2\" class=\"data row1 col2\" >2.9745</td>\n",
       "      <td id=\"T_f79b0_row1_col3\" class=\"data row1 col3\" >0.8741</td>\n",
       "      <td id=\"T_f79b0_row1_col4\" class=\"data row1 col4\" >0.1682</td>\n",
       "      <td id=\"T_f79b0_row1_col5\" class=\"data row1 col5\" >0.1240</td>\n",
       "    </tr>\n",
       "    <tr>\n",
       "      <th id=\"T_f79b0_level0_row2\" class=\"row_heading level0 row2\" >2</th>\n",
       "      <td id=\"T_f79b0_row2_col0\" class=\"data row2 col0\" >2.7273</td>\n",
       "      <td id=\"T_f79b0_row2_col1\" class=\"data row2 col1\" >14.1966</td>\n",
       "      <td id=\"T_f79b0_row2_col2\" class=\"data row2 col2\" >3.7678</td>\n",
       "      <td id=\"T_f79b0_row2_col3\" class=\"data row2 col3\" >0.9040</td>\n",
       "      <td id=\"T_f79b0_row2_col4\" class=\"data row2 col4\" >0.1330</td>\n",
       "      <td id=\"T_f79b0_row2_col5\" class=\"data row2 col5\" >0.1139</td>\n",
       "    </tr>\n",
       "    <tr>\n",
       "      <th id=\"T_f79b0_level0_row3\" class=\"row_heading level0 row3\" >3</th>\n",
       "      <td id=\"T_f79b0_row3_col0\" class=\"data row3 col0\" >2.6590</td>\n",
       "      <td id=\"T_f79b0_row3_col1\" class=\"data row3 col1\" >14.4537</td>\n",
       "      <td id=\"T_f79b0_row3_col2\" class=\"data row3 col2\" >3.8018</td>\n",
       "      <td id=\"T_f79b0_row3_col3\" class=\"data row3 col3\" >0.8937</td>\n",
       "      <td id=\"T_f79b0_row3_col4\" class=\"data row3 col4\" >0.1494</td>\n",
       "      <td id=\"T_f79b0_row3_col5\" class=\"data row3 col5\" >0.1139</td>\n",
       "    </tr>\n",
       "    <tr>\n",
       "      <th id=\"T_f79b0_level0_row4\" class=\"row_heading level0 row4\" >4</th>\n",
       "      <td id=\"T_f79b0_row4_col0\" class=\"data row4 col0\" >1.9596</td>\n",
       "      <td id=\"T_f79b0_row4_col1\" class=\"data row4 col1\" >6.3087</td>\n",
       "      <td id=\"T_f79b0_row4_col2\" class=\"data row4 col2\" >2.5117</td>\n",
       "      <td id=\"T_f79b0_row4_col3\" class=\"data row4 col3\" >0.9034</td>\n",
       "      <td id=\"T_f79b0_row4_col4\" class=\"data row4 col4\" >0.1117</td>\n",
       "      <td id=\"T_f79b0_row4_col5\" class=\"data row4 col5\" >0.0958</td>\n",
       "    </tr>\n",
       "    <tr>\n",
       "      <th id=\"T_f79b0_level0_row5\" class=\"row_heading level0 row5\" >5</th>\n",
       "      <td id=\"T_f79b0_row5_col0\" class=\"data row5 col0\" >2.3524</td>\n",
       "      <td id=\"T_f79b0_row5_col1\" class=\"data row5 col1\" >9.9357</td>\n",
       "      <td id=\"T_f79b0_row5_col2\" class=\"data row5 col2\" >3.1521</td>\n",
       "      <td id=\"T_f79b0_row5_col3\" class=\"data row5 col3\" >0.9121</td>\n",
       "      <td id=\"T_f79b0_row5_col4\" class=\"data row5 col4\" >0.1280</td>\n",
       "      <td id=\"T_f79b0_row5_col5\" class=\"data row5 col5\" >0.1062</td>\n",
       "    </tr>\n",
       "    <tr>\n",
       "      <th id=\"T_f79b0_level0_row6\" class=\"row_heading level0 row6\" >6</th>\n",
       "      <td id=\"T_f79b0_row6_col0\" class=\"data row6 col0\" >2.0567</td>\n",
       "      <td id=\"T_f79b0_row6_col1\" class=\"data row6 col1\" >8.6471</td>\n",
       "      <td id=\"T_f79b0_row6_col2\" class=\"data row6 col2\" >2.9406</td>\n",
       "      <td id=\"T_f79b0_row6_col3\" class=\"data row6 col3\" >0.7935</td>\n",
       "      <td id=\"T_f79b0_row6_col4\" class=\"data row6 col4\" >0.1766</td>\n",
       "      <td id=\"T_f79b0_row6_col5\" class=\"data row6 col5\" >0.1269</td>\n",
       "    </tr>\n",
       "    <tr>\n",
       "      <th id=\"T_f79b0_level0_row7\" class=\"row_heading level0 row7\" >7</th>\n",
       "      <td id=\"T_f79b0_row7_col0\" class=\"data row7 col0\" >1.6687</td>\n",
       "      <td id=\"T_f79b0_row7_col1\" class=\"data row7 col1\" >4.4985</td>\n",
       "      <td id=\"T_f79b0_row7_col2\" class=\"data row7 col2\" >2.1210</td>\n",
       "      <td id=\"T_f79b0_row7_col3\" class=\"data row7 col3\" >0.8956</td>\n",
       "      <td id=\"T_f79b0_row7_col4\" class=\"data row7 col4\" >0.0951</td>\n",
       "      <td id=\"T_f79b0_row7_col5\" class=\"data row7 col5\" >0.0781</td>\n",
       "    </tr>\n",
       "    <tr>\n",
       "      <th id=\"T_f79b0_level0_row8\" class=\"row_heading level0 row8\" >8</th>\n",
       "      <td id=\"T_f79b0_row8_col0\" class=\"data row8 col0\" >2.4643</td>\n",
       "      <td id=\"T_f79b0_row8_col1\" class=\"data row8 col1\" >10.4791</td>\n",
       "      <td id=\"T_f79b0_row8_col2\" class=\"data row8 col2\" >3.2371</td>\n",
       "      <td id=\"T_f79b0_row8_col3\" class=\"data row8 col3\" >0.8731</td>\n",
       "      <td id=\"T_f79b0_row8_col4\" class=\"data row8 col4\" >0.1689</td>\n",
       "      <td id=\"T_f79b0_row8_col5\" class=\"data row8 col5\" >0.1454</td>\n",
       "    </tr>\n",
       "    <tr>\n",
       "      <th id=\"T_f79b0_level0_row9\" class=\"row_heading level0 row9\" >9</th>\n",
       "      <td id=\"T_f79b0_row9_col0\" class=\"data row9 col0\" >2.3329</td>\n",
       "      <td id=\"T_f79b0_row9_col1\" class=\"data row9 col1\" >9.0910</td>\n",
       "      <td id=\"T_f79b0_row9_col2\" class=\"data row9 col2\" >3.0151</td>\n",
       "      <td id=\"T_f79b0_row9_col3\" class=\"data row9 col3\" >0.7768</td>\n",
       "      <td id=\"T_f79b0_row9_col4\" class=\"data row9 col4\" >0.1667</td>\n",
       "      <td id=\"T_f79b0_row9_col5\" class=\"data row9 col5\" >0.1332</td>\n",
       "    </tr>\n",
       "    <tr>\n",
       "      <th id=\"T_f79b0_level0_row10\" class=\"row_heading level0 row10\" >Mean</th>\n",
       "      <td id=\"T_f79b0_row10_col0\" class=\"data row10 col0\" >2.2507</td>\n",
       "      <td id=\"T_f79b0_row10_col1\" class=\"data row10 col1\" >10.4592</td>\n",
       "      <td id=\"T_f79b0_row10_col2\" class=\"data row10 col2\" >3.1780</td>\n",
       "      <td id=\"T_f79b0_row10_col3\" class=\"data row10 col3\" >0.8415</td>\n",
       "      <td id=\"T_f79b0_row10_col4\" class=\"data row10 col4\" >0.1440</td>\n",
       "      <td id=\"T_f79b0_row10_col5\" class=\"data row10 col5\" >0.1137</td>\n",
       "    </tr>\n",
       "    <tr>\n",
       "      <th id=\"T_f79b0_level0_row11\" class=\"row_heading level0 row11\" >Std</th>\n",
       "      <td id=\"T_f79b0_row11_col0\" class=\"data row11 col0\" >0.3071</td>\n",
       "      <td id=\"T_f79b0_row11_col1\" class=\"data row11 col1\" >3.8679</td>\n",
       "      <td id=\"T_f79b0_row11_col2\" class=\"data row11 col2\" >0.5995</td>\n",
       "      <td id=\"T_f79b0_row11_col3\" class=\"data row11 col3\" >0.0953</td>\n",
       "      <td id=\"T_f79b0_row11_col4\" class=\"data row11 col4\" >0.0257</td>\n",
       "      <td id=\"T_f79b0_row11_col5\" class=\"data row11 col5\" >0.0187</td>\n",
       "    </tr>\n",
       "  </tbody>\n",
       "</table>\n"
      ],
      "text/plain": [
       "<pandas.io.formats.style.Styler at 0x226ef569870>"
      ]
     },
     "metadata": {},
     "output_type": "display_data"
    },
    {
     "data": {
      "text/html": [],
      "text/plain": [
       "<IPython.core.display.HTML object>"
      ]
     },
     "metadata": {},
     "output_type": "display_data"
    }
   ],
   "source": [
    "reg_model = create_model('gbr')"
   ]
  },
  {
   "cell_type": "code",
   "execution_count": 30,
   "metadata": {},
   "outputs": [
    {
     "data": {
      "text/plain": [
       "<bound method BaseEstimator.get_params of GradientBoostingRegressor(alpha=0.9, ccp_alpha=0.0, criterion='friedman_mse',\n",
       "                          init=None, learning_rate=0.1, loss='squared_error',\n",
       "                          max_depth=3, max_features=None, max_leaf_nodes=None,\n",
       "                          min_impurity_decrease=0.0, min_samples_leaf=1,\n",
       "                          min_samples_split=2, min_weight_fraction_leaf=0.0,\n",
       "                          n_estimators=100, n_iter_no_change=None,\n",
       "                          random_state=4436, subsample=1.0, tol=0.0001,\n",
       "                          validation_fraction=0.1, verbose=0, warm_start=False)>"
      ]
     },
     "execution_count": 30,
     "metadata": {},
     "output_type": "execute_result"
    }
   ],
   "source": [
    "reg_model.get_params"
   ]
  },
  {
   "cell_type": "code",
   "execution_count": 33,
   "metadata": {},
   "outputs": [
    {
     "data": {
      "text/html": [],
      "text/plain": [
       "<IPython.core.display.HTML object>"
      ]
     },
     "metadata": {},
     "output_type": "display_data"
    },
    {
     "data": {
      "text/html": [
       "<style type=\"text/css\">\n",
       "#T_f7f96_row10_col0, #T_f7f96_row10_col1, #T_f7f96_row10_col2, #T_f7f96_row10_col3, #T_f7f96_row10_col4, #T_f7f96_row10_col5 {\n",
       "  background: yellow;\n",
       "}\n",
       "</style>\n",
       "<table id=\"T_f7f96\">\n",
       "  <thead>\n",
       "    <tr>\n",
       "      <th class=\"blank level0\" >&nbsp;</th>\n",
       "      <th id=\"T_f7f96_level0_col0\" class=\"col_heading level0 col0\" >MAE</th>\n",
       "      <th id=\"T_f7f96_level0_col1\" class=\"col_heading level0 col1\" >MSE</th>\n",
       "      <th id=\"T_f7f96_level0_col2\" class=\"col_heading level0 col2\" >RMSE</th>\n",
       "      <th id=\"T_f7f96_level0_col3\" class=\"col_heading level0 col3\" >R2</th>\n",
       "      <th id=\"T_f7f96_level0_col4\" class=\"col_heading level0 col4\" >RMSLE</th>\n",
       "      <th id=\"T_f7f96_level0_col5\" class=\"col_heading level0 col5\" >MAPE</th>\n",
       "    </tr>\n",
       "    <tr>\n",
       "      <th class=\"index_name level0\" >Fold</th>\n",
       "      <th class=\"blank col0\" >&nbsp;</th>\n",
       "      <th class=\"blank col1\" >&nbsp;</th>\n",
       "      <th class=\"blank col2\" >&nbsp;</th>\n",
       "      <th class=\"blank col3\" >&nbsp;</th>\n",
       "      <th class=\"blank col4\" >&nbsp;</th>\n",
       "      <th class=\"blank col5\" >&nbsp;</th>\n",
       "    </tr>\n",
       "  </thead>\n",
       "  <tbody>\n",
       "    <tr>\n",
       "      <th id=\"T_f7f96_level0_row0\" class=\"row_heading level0 row0\" >0</th>\n",
       "      <td id=\"T_f7f96_row0_col0\" class=\"data row0 col0\" >2.0474</td>\n",
       "      <td id=\"T_f7f96_row0_col1\" class=\"data row0 col1\" >14.0763</td>\n",
       "      <td id=\"T_f7f96_row0_col2\" class=\"data row0 col2\" >3.7518</td>\n",
       "      <td id=\"T_f7f96_row0_col3\" class=\"data row0 col3\" >0.6807</td>\n",
       "      <td id=\"T_f7f96_row0_col4\" class=\"data row0 col4\" >0.1339</td>\n",
       "      <td id=\"T_f7f96_row0_col5\" class=\"data row0 col5\" >0.0957</td>\n",
       "    </tr>\n",
       "    <tr>\n",
       "      <th id=\"T_f7f96_level0_row1\" class=\"row_heading level0 row1\" >1</th>\n",
       "      <td id=\"T_f7f96_row1_col0\" class=\"data row1 col0\" >2.1918</td>\n",
       "      <td id=\"T_f7f96_row1_col1\" class=\"data row1 col1\" >7.9045</td>\n",
       "      <td id=\"T_f7f96_row1_col2\" class=\"data row1 col2\" >2.8115</td>\n",
       "      <td id=\"T_f7f96_row1_col3\" class=\"data row1 col3\" >0.8875</td>\n",
       "      <td id=\"T_f7f96_row1_col4\" class=\"data row1 col4\" >0.1457</td>\n",
       "      <td id=\"T_f7f96_row1_col5\" class=\"data row1 col5\" >0.1196</td>\n",
       "    </tr>\n",
       "    <tr>\n",
       "      <th id=\"T_f7f96_level0_row2\" class=\"row_heading level0 row2\" >2</th>\n",
       "      <td id=\"T_f7f96_row2_col0\" class=\"data row2 col0\" >3.2895</td>\n",
       "      <td id=\"T_f7f96_row2_col1\" class=\"data row2 col1\" >29.2213</td>\n",
       "      <td id=\"T_f7f96_row2_col2\" class=\"data row2 col2\" >5.4057</td>\n",
       "      <td id=\"T_f7f96_row2_col3\" class=\"data row2 col3\" >0.8024</td>\n",
       "      <td id=\"T_f7f96_row2_col4\" class=\"data row2 col4\" >0.1583</td>\n",
       "      <td id=\"T_f7f96_row2_col5\" class=\"data row2 col5\" >0.1201</td>\n",
       "    </tr>\n",
       "    <tr>\n",
       "      <th id=\"T_f7f96_level0_row3\" class=\"row_heading level0 row3\" >3</th>\n",
       "      <td id=\"T_f7f96_row3_col0\" class=\"data row3 col0\" >3.3798</td>\n",
       "      <td id=\"T_f7f96_row3_col1\" class=\"data row3 col1\" >24.8458</td>\n",
       "      <td id=\"T_f7f96_row3_col2\" class=\"data row3 col2\" >4.9846</td>\n",
       "      <td id=\"T_f7f96_row3_col3\" class=\"data row3 col3\" >0.8172</td>\n",
       "      <td id=\"T_f7f96_row3_col4\" class=\"data row3 col4\" >0.1820</td>\n",
       "      <td id=\"T_f7f96_row3_col5\" class=\"data row3 col5\" >0.1370</td>\n",
       "    </tr>\n",
       "    <tr>\n",
       "      <th id=\"T_f7f96_level0_row4\" class=\"row_heading level0 row4\" >4</th>\n",
       "      <td id=\"T_f7f96_row4_col0\" class=\"data row4 col0\" >1.7332</td>\n",
       "      <td id=\"T_f7f96_row4_col1\" class=\"data row4 col1\" >5.0748</td>\n",
       "      <td id=\"T_f7f96_row4_col2\" class=\"data row4 col2\" >2.2527</td>\n",
       "      <td id=\"T_f7f96_row4_col3\" class=\"data row4 col3\" >0.9223</td>\n",
       "      <td id=\"T_f7f96_row4_col4\" class=\"data row4 col4\" >0.1066</td>\n",
       "      <td id=\"T_f7f96_row4_col5\" class=\"data row4 col5\" >0.0906</td>\n",
       "    </tr>\n",
       "    <tr>\n",
       "      <th id=\"T_f7f96_level0_row5\" class=\"row_heading level0 row5\" >5</th>\n",
       "      <td id=\"T_f7f96_row5_col0\" class=\"data row5 col0\" >2.4355</td>\n",
       "      <td id=\"T_f7f96_row5_col1\" class=\"data row5 col1\" >17.1177</td>\n",
       "      <td id=\"T_f7f96_row5_col2\" class=\"data row5 col2\" >4.1374</td>\n",
       "      <td id=\"T_f7f96_row5_col3\" class=\"data row5 col3\" >0.8486</td>\n",
       "      <td id=\"T_f7f96_row5_col4\" class=\"data row5 col4\" >0.1371</td>\n",
       "      <td id=\"T_f7f96_row5_col5\" class=\"data row5 col5\" >0.1007</td>\n",
       "    </tr>\n",
       "    <tr>\n",
       "      <th id=\"T_f7f96_level0_row6\" class=\"row_heading level0 row6\" >6</th>\n",
       "      <td id=\"T_f7f96_row6_col0\" class=\"data row6 col0\" >2.5957</td>\n",
       "      <td id=\"T_f7f96_row6_col1\" class=\"data row6 col1\" >11.6865</td>\n",
       "      <td id=\"T_f7f96_row6_col2\" class=\"data row6 col2\" >3.4186</td>\n",
       "      <td id=\"T_f7f96_row6_col3\" class=\"data row6 col3\" >0.7209</td>\n",
       "      <td id=\"T_f7f96_row6_col4\" class=\"data row6 col4\" >0.1968</td>\n",
       "      <td id=\"T_f7f96_row6_col5\" class=\"data row6 col5\" >0.1571</td>\n",
       "    </tr>\n",
       "    <tr>\n",
       "      <th id=\"T_f7f96_level0_row7\" class=\"row_heading level0 row7\" >7</th>\n",
       "      <td id=\"T_f7f96_row7_col0\" class=\"data row7 col0\" >1.2535</td>\n",
       "      <td id=\"T_f7f96_row7_col1\" class=\"data row7 col1\" >2.7460</td>\n",
       "      <td id=\"T_f7f96_row7_col2\" class=\"data row7 col2\" >1.6571</td>\n",
       "      <td id=\"T_f7f96_row7_col3\" class=\"data row7 col3\" >0.9363</td>\n",
       "      <td id=\"T_f7f96_row7_col4\" class=\"data row7 col4\" >0.0653</td>\n",
       "      <td id=\"T_f7f96_row7_col5\" class=\"data row7 col5\" >0.0548</td>\n",
       "    </tr>\n",
       "    <tr>\n",
       "      <th id=\"T_f7f96_level0_row8\" class=\"row_heading level0 row8\" >8</th>\n",
       "      <td id=\"T_f7f96_row8_col0\" class=\"data row8 col0\" >2.5452</td>\n",
       "      <td id=\"T_f7f96_row8_col1\" class=\"data row8 col1\" >12.7587</td>\n",
       "      <td id=\"T_f7f96_row8_col2\" class=\"data row8 col2\" >3.5719</td>\n",
       "      <td id=\"T_f7f96_row8_col3\" class=\"data row8 col3\" >0.8455</td>\n",
       "      <td id=\"T_f7f96_row8_col4\" class=\"data row8 col4\" >0.1744</td>\n",
       "      <td id=\"T_f7f96_row8_col5\" class=\"data row8 col5\" >0.1447</td>\n",
       "    </tr>\n",
       "    <tr>\n",
       "      <th id=\"T_f7f96_level0_row9\" class=\"row_heading level0 row9\" >9</th>\n",
       "      <td id=\"T_f7f96_row9_col0\" class=\"data row9 col0\" >2.2114</td>\n",
       "      <td id=\"T_f7f96_row9_col1\" class=\"data row9 col1\" >7.1309</td>\n",
       "      <td id=\"T_f7f96_row9_col2\" class=\"data row9 col2\" >2.6704</td>\n",
       "      <td id=\"T_f7f96_row9_col3\" class=\"data row9 col3\" >0.8249</td>\n",
       "      <td id=\"T_f7f96_row9_col4\" class=\"data row9 col4\" >0.1439</td>\n",
       "      <td id=\"T_f7f96_row9_col5\" class=\"data row9 col5\" >0.1223</td>\n",
       "    </tr>\n",
       "    <tr>\n",
       "      <th id=\"T_f7f96_level0_row10\" class=\"row_heading level0 row10\" >Mean</th>\n",
       "      <td id=\"T_f7f96_row10_col0\" class=\"data row10 col0\" >2.3683</td>\n",
       "      <td id=\"T_f7f96_row10_col1\" class=\"data row10 col1\" >13.2563</td>\n",
       "      <td id=\"T_f7f96_row10_col2\" class=\"data row10 col2\" >3.4662</td>\n",
       "      <td id=\"T_f7f96_row10_col3\" class=\"data row10 col3\" >0.8286</td>\n",
       "      <td id=\"T_f7f96_row10_col4\" class=\"data row10 col4\" >0.1444</td>\n",
       "      <td id=\"T_f7f96_row10_col5\" class=\"data row10 col5\" >0.1143</td>\n",
       "    </tr>\n",
       "    <tr>\n",
       "      <th id=\"T_f7f96_level0_row11\" class=\"row_heading level0 row11\" >Std</th>\n",
       "      <td id=\"T_f7f96_row11_col0\" class=\"data row11 col0\" >0.6135</td>\n",
       "      <td id=\"T_f7f96_row11_col1\" class=\"data row11 col1\" >8.0688</td>\n",
       "      <td id=\"T_f7f96_row11_col2\" class=\"data row11 col2\" >1.1144</td>\n",
       "      <td id=\"T_f7f96_row11_col3\" class=\"data row11 col3\" >0.0767</td>\n",
       "      <td id=\"T_f7f96_row11_col4\" class=\"data row11 col4\" >0.0362</td>\n",
       "      <td id=\"T_f7f96_row11_col5\" class=\"data row11 col5\" >0.0283</td>\n",
       "    </tr>\n",
       "  </tbody>\n",
       "</table>\n"
      ],
      "text/plain": [
       "<pandas.io.formats.style.Styler at 0x226ef803e50>"
      ]
     },
     "metadata": {},
     "output_type": "display_data"
    },
    {
     "data": {
      "text/html": [],
      "text/plain": [
       "<IPython.core.display.HTML object>"
      ]
     },
     "metadata": {},
     "output_type": "display_data"
    },
    {
     "name": "stdout",
     "output_type": "stream",
     "text": [
      "Fitting 10 folds for each of 10 candidates, totalling 100 fits\n",
      "Original model was better than the tuned model, hence it will be returned. NOTE: The display metrics are for the tuned model (not the original one).\n"
     ]
    }
   ],
   "source": [
    "reg_model_hypertune = tune_model(reg_model)"
   ]
  },
  {
   "cell_type": "code",
   "execution_count": 34,
   "metadata": {},
   "outputs": [
    {
     "data": {
      "text/html": [
       "<div>\n",
       "<style scoped>\n",
       "    .dataframe tbody tr th:only-of-type {\n",
       "        vertical-align: middle;\n",
       "    }\n",
       "\n",
       "    .dataframe tbody tr th {\n",
       "        vertical-align: top;\n",
       "    }\n",
       "\n",
       "    .dataframe thead th {\n",
       "        text-align: right;\n",
       "    }\n",
       "</style>\n",
       "<table border=\"1\" class=\"dataframe\">\n",
       "  <thead>\n",
       "    <tr style=\"text-align: right;\">\n",
       "      <th></th>\n",
       "      <th>Age</th>\n",
       "      <th>Income</th>\n",
       "      <th>SpendingScore</th>\n",
       "      <th>Savings</th>\n",
       "    </tr>\n",
       "  </thead>\n",
       "  <tbody>\n",
       "    <tr>\n",
       "      <th>0</th>\n",
       "      <td>58</td>\n",
       "      <td>77769</td>\n",
       "      <td>0.791329</td>\n",
       "      <td>6559.829923</td>\n",
       "    </tr>\n",
       "    <tr>\n",
       "      <th>1</th>\n",
       "      <td>59</td>\n",
       "      <td>81799</td>\n",
       "      <td>0.791082</td>\n",
       "      <td>5417.661426</td>\n",
       "    </tr>\n",
       "    <tr>\n",
       "      <th>2</th>\n",
       "      <td>62</td>\n",
       "      <td>74751</td>\n",
       "      <td>0.702657</td>\n",
       "      <td>9258.992965</td>\n",
       "    </tr>\n",
       "    <tr>\n",
       "      <th>3</th>\n",
       "      <td>59</td>\n",
       "      <td>74373</td>\n",
       "      <td>0.765680</td>\n",
       "      <td>7346.334504</td>\n",
       "    </tr>\n",
       "    <tr>\n",
       "      <th>4</th>\n",
       "      <td>87</td>\n",
       "      <td>17760</td>\n",
       "      <td>0.348778</td>\n",
       "      <td>16869.507130</td>\n",
       "    </tr>\n",
       "  </tbody>\n",
       "</table>\n",
       "</div>"
      ],
      "text/plain": [
       "   Age  Income  SpendingScore       Savings\n",
       "0   58   77769       0.791329   6559.829923\n",
       "1   59   81799       0.791082   5417.661426\n",
       "2   62   74751       0.702657   9258.992965\n",
       "3   59   74373       0.765680   7346.334504\n",
       "4   87   17760       0.348778  16869.507130"
      ]
     },
     "metadata": {},
     "output_type": "display_data"
    }
   ],
   "source": [
    "jewellery =  get_data('jewellery')"
   ]
  },
  {
   "cell_type": "code",
   "execution_count": 36,
   "metadata": {},
   "outputs": [],
   "source": [
    "from pycaret.clustering import * \n"
   ]
  },
  {
   "cell_type": "code",
   "execution_count": 50,
   "metadata": {},
   "outputs": [
    {
     "data": {
      "text/html": [
       "<style type=\"text/css\">\n",
       "#T_57c91_row4_col1 {\n",
       "  background-color: lightgreen;\n",
       "}\n",
       "</style>\n",
       "<table id=\"T_57c91\">\n",
       "  <thead>\n",
       "    <tr>\n",
       "      <th class=\"blank level0\" >&nbsp;</th>\n",
       "      <th id=\"T_57c91_level0_col0\" class=\"col_heading level0 col0\" >Description</th>\n",
       "      <th id=\"T_57c91_level0_col1\" class=\"col_heading level0 col1\" >Value</th>\n",
       "    </tr>\n",
       "  </thead>\n",
       "  <tbody>\n",
       "    <tr>\n",
       "      <th id=\"T_57c91_level0_row0\" class=\"row_heading level0 row0\" >0</th>\n",
       "      <td id=\"T_57c91_row0_col0\" class=\"data row0 col0\" >Session id</td>\n",
       "      <td id=\"T_57c91_row0_col1\" class=\"data row0 col1\" >5329</td>\n",
       "    </tr>\n",
       "    <tr>\n",
       "      <th id=\"T_57c91_level0_row1\" class=\"row_heading level0 row1\" >1</th>\n",
       "      <td id=\"T_57c91_row1_col0\" class=\"data row1 col0\" >Original data shape</td>\n",
       "      <td id=\"T_57c91_row1_col1\" class=\"data row1 col1\" >(505, 4)</td>\n",
       "    </tr>\n",
       "    <tr>\n",
       "      <th id=\"T_57c91_level0_row2\" class=\"row_heading level0 row2\" >2</th>\n",
       "      <td id=\"T_57c91_row2_col0\" class=\"data row2 col0\" >Transformed data shape</td>\n",
       "      <td id=\"T_57c91_row2_col1\" class=\"data row2 col1\" >(505, 4)</td>\n",
       "    </tr>\n",
       "    <tr>\n",
       "      <th id=\"T_57c91_level0_row3\" class=\"row_heading level0 row3\" >3</th>\n",
       "      <td id=\"T_57c91_row3_col0\" class=\"data row3 col0\" >Numeric features</td>\n",
       "      <td id=\"T_57c91_row3_col1\" class=\"data row3 col1\" >4</td>\n",
       "    </tr>\n",
       "    <tr>\n",
       "      <th id=\"T_57c91_level0_row4\" class=\"row_heading level0 row4\" >4</th>\n",
       "      <td id=\"T_57c91_row4_col0\" class=\"data row4 col0\" >Preprocess</td>\n",
       "      <td id=\"T_57c91_row4_col1\" class=\"data row4 col1\" >True</td>\n",
       "    </tr>\n",
       "    <tr>\n",
       "      <th id=\"T_57c91_level0_row5\" class=\"row_heading level0 row5\" >5</th>\n",
       "      <td id=\"T_57c91_row5_col0\" class=\"data row5 col0\" >Imputation type</td>\n",
       "      <td id=\"T_57c91_row5_col1\" class=\"data row5 col1\" >simple</td>\n",
       "    </tr>\n",
       "    <tr>\n",
       "      <th id=\"T_57c91_level0_row6\" class=\"row_heading level0 row6\" >6</th>\n",
       "      <td id=\"T_57c91_row6_col0\" class=\"data row6 col0\" >Numeric imputation</td>\n",
       "      <td id=\"T_57c91_row6_col1\" class=\"data row6 col1\" >mean</td>\n",
       "    </tr>\n",
       "    <tr>\n",
       "      <th id=\"T_57c91_level0_row7\" class=\"row_heading level0 row7\" >7</th>\n",
       "      <td id=\"T_57c91_row7_col0\" class=\"data row7 col0\" >Categorical imputation</td>\n",
       "      <td id=\"T_57c91_row7_col1\" class=\"data row7 col1\" >mode</td>\n",
       "    </tr>\n",
       "    <tr>\n",
       "      <th id=\"T_57c91_level0_row8\" class=\"row_heading level0 row8\" >8</th>\n",
       "      <td id=\"T_57c91_row8_col0\" class=\"data row8 col0\" >CPU Jobs</td>\n",
       "      <td id=\"T_57c91_row8_col1\" class=\"data row8 col1\" >-1</td>\n",
       "    </tr>\n",
       "    <tr>\n",
       "      <th id=\"T_57c91_level0_row9\" class=\"row_heading level0 row9\" >9</th>\n",
       "      <td id=\"T_57c91_row9_col0\" class=\"data row9 col0\" >Use GPU</td>\n",
       "      <td id=\"T_57c91_row9_col1\" class=\"data row9 col1\" >False</td>\n",
       "    </tr>\n",
       "    <tr>\n",
       "      <th id=\"T_57c91_level0_row10\" class=\"row_heading level0 row10\" >10</th>\n",
       "      <td id=\"T_57c91_row10_col0\" class=\"data row10 col0\" >Log Experiment</td>\n",
       "      <td id=\"T_57c91_row10_col1\" class=\"data row10 col1\" >False</td>\n",
       "    </tr>\n",
       "    <tr>\n",
       "      <th id=\"T_57c91_level0_row11\" class=\"row_heading level0 row11\" >11</th>\n",
       "      <td id=\"T_57c91_row11_col0\" class=\"data row11 col0\" >Experiment Name</td>\n",
       "      <td id=\"T_57c91_row11_col1\" class=\"data row11 col1\" >cluster-default-name</td>\n",
       "    </tr>\n",
       "    <tr>\n",
       "      <th id=\"T_57c91_level0_row12\" class=\"row_heading level0 row12\" >12</th>\n",
       "      <td id=\"T_57c91_row12_col0\" class=\"data row12 col0\" >USI</td>\n",
       "      <td id=\"T_57c91_row12_col1\" class=\"data row12 col1\" >0ceb</td>\n",
       "    </tr>\n",
       "  </tbody>\n",
       "</table>\n"
      ],
      "text/plain": [
       "<pandas.io.formats.style.Styler at 0x226f61fbaf0>"
      ]
     },
     "metadata": {},
     "output_type": "display_data"
    }
   ],
   "source": [
    "clust_algo = setup(jewellery)"
   ]
  },
  {
   "cell_type": "code",
   "execution_count": 54,
   "metadata": {},
   "outputs": [
    {
     "data": {
      "text/html": [],
      "text/plain": [
       "<IPython.core.display.HTML object>"
      ]
     },
     "metadata": {},
     "output_type": "display_data"
    },
    {
     "data": {
      "text/html": [
       "<style type=\"text/css\">\n",
       "</style>\n",
       "<table id=\"T_7faf5\">\n",
       "  <thead>\n",
       "    <tr>\n",
       "      <th class=\"blank level0\" >&nbsp;</th>\n",
       "      <th id=\"T_7faf5_level0_col0\" class=\"col_heading level0 col0\" >Silhouette</th>\n",
       "      <th id=\"T_7faf5_level0_col1\" class=\"col_heading level0 col1\" >Calinski-Harabasz</th>\n",
       "      <th id=\"T_7faf5_level0_col2\" class=\"col_heading level0 col2\" >Davies-Bouldin</th>\n",
       "      <th id=\"T_7faf5_level0_col3\" class=\"col_heading level0 col3\" >Homogeneity</th>\n",
       "      <th id=\"T_7faf5_level0_col4\" class=\"col_heading level0 col4\" >Rand Index</th>\n",
       "      <th id=\"T_7faf5_level0_col5\" class=\"col_heading level0 col5\" >Completeness</th>\n",
       "    </tr>\n",
       "  </thead>\n",
       "  <tbody>\n",
       "    <tr>\n",
       "      <th id=\"T_7faf5_level0_row0\" class=\"row_heading level0 row0\" >0</th>\n",
       "      <td id=\"T_7faf5_row0_col0\" class=\"data row0 col0\" >0</td>\n",
       "      <td id=\"T_7faf5_row0_col1\" class=\"data row0 col1\" >0</td>\n",
       "      <td id=\"T_7faf5_row0_col2\" class=\"data row0 col2\" >0</td>\n",
       "      <td id=\"T_7faf5_row0_col3\" class=\"data row0 col3\" >0</td>\n",
       "      <td id=\"T_7faf5_row0_col4\" class=\"data row0 col4\" >0</td>\n",
       "      <td id=\"T_7faf5_row0_col5\" class=\"data row0 col5\" >0</td>\n",
       "    </tr>\n",
       "  </tbody>\n",
       "</table>\n"
      ],
      "text/plain": [
       "<pandas.io.formats.style.Styler at 0x226ef3ad930>"
      ]
     },
     "metadata": {},
     "output_type": "display_data"
    },
    {
     "data": {
      "text/html": [],
      "text/plain": [
       "<IPython.core.display.HTML object>"
      ]
     },
     "metadata": {},
     "output_type": "display_data"
    },
    {
     "data": {
      "text/html": [
       "<style>#sk-container-id-11 {\n",
       "  /* Definition of color scheme common for light and dark mode */\n",
       "  --sklearn-color-text: black;\n",
       "  --sklearn-color-line: gray;\n",
       "  /* Definition of color scheme for unfitted estimators */\n",
       "  --sklearn-color-unfitted-level-0: #fff5e6;\n",
       "  --sklearn-color-unfitted-level-1: #f6e4d2;\n",
       "  --sklearn-color-unfitted-level-2: #ffe0b3;\n",
       "  --sklearn-color-unfitted-level-3: chocolate;\n",
       "  /* Definition of color scheme for fitted estimators */\n",
       "  --sklearn-color-fitted-level-0: #f0f8ff;\n",
       "  --sklearn-color-fitted-level-1: #d4ebff;\n",
       "  --sklearn-color-fitted-level-2: #b3dbfd;\n",
       "  --sklearn-color-fitted-level-3: cornflowerblue;\n",
       "\n",
       "  /* Specific color for light theme */\n",
       "  --sklearn-color-text-on-default-background: var(--sg-text-color, var(--theme-code-foreground, var(--jp-content-font-color1, black)));\n",
       "  --sklearn-color-background: var(--sg-background-color, var(--theme-background, var(--jp-layout-color0, white)));\n",
       "  --sklearn-color-border-box: var(--sg-text-color, var(--theme-code-foreground, var(--jp-content-font-color1, black)));\n",
       "  --sklearn-color-icon: #696969;\n",
       "\n",
       "  @media (prefers-color-scheme: dark) {\n",
       "    /* Redefinition of color scheme for dark theme */\n",
       "    --sklearn-color-text-on-default-background: var(--sg-text-color, var(--theme-code-foreground, var(--jp-content-font-color1, white)));\n",
       "    --sklearn-color-background: var(--sg-background-color, var(--theme-background, var(--jp-layout-color0, #111)));\n",
       "    --sklearn-color-border-box: var(--sg-text-color, var(--theme-code-foreground, var(--jp-content-font-color1, white)));\n",
       "    --sklearn-color-icon: #878787;\n",
       "  }\n",
       "}\n",
       "\n",
       "#sk-container-id-11 {\n",
       "  color: var(--sklearn-color-text);\n",
       "}\n",
       "\n",
       "#sk-container-id-11 pre {\n",
       "  padding: 0;\n",
       "}\n",
       "\n",
       "#sk-container-id-11 input.sk-hidden--visually {\n",
       "  border: 0;\n",
       "  clip: rect(1px 1px 1px 1px);\n",
       "  clip: rect(1px, 1px, 1px, 1px);\n",
       "  height: 1px;\n",
       "  margin: -1px;\n",
       "  overflow: hidden;\n",
       "  padding: 0;\n",
       "  position: absolute;\n",
       "  width: 1px;\n",
       "}\n",
       "\n",
       "#sk-container-id-11 div.sk-dashed-wrapped {\n",
       "  border: 1px dashed var(--sklearn-color-line);\n",
       "  margin: 0 0.4em 0.5em 0.4em;\n",
       "  box-sizing: border-box;\n",
       "  padding-bottom: 0.4em;\n",
       "  background-color: var(--sklearn-color-background);\n",
       "}\n",
       "\n",
       "#sk-container-id-11 div.sk-container {\n",
       "  /* jupyter's `normalize.less` sets `[hidden] { display: none; }`\n",
       "     but bootstrap.min.css set `[hidden] { display: none !important; }`\n",
       "     so we also need the `!important` here to be able to override the\n",
       "     default hidden behavior on the sphinx rendered scikit-learn.org.\n",
       "     See: https://github.com/scikit-learn/scikit-learn/issues/21755 */\n",
       "  display: inline-block !important;\n",
       "  position: relative;\n",
       "}\n",
       "\n",
       "#sk-container-id-11 div.sk-text-repr-fallback {\n",
       "  display: none;\n",
       "}\n",
       "\n",
       "div.sk-parallel-item,\n",
       "div.sk-serial,\n",
       "div.sk-item {\n",
       "  /* draw centered vertical line to link estimators */\n",
       "  background-image: linear-gradient(var(--sklearn-color-text-on-default-background), var(--sklearn-color-text-on-default-background));\n",
       "  background-size: 2px 100%;\n",
       "  background-repeat: no-repeat;\n",
       "  background-position: center center;\n",
       "}\n",
       "\n",
       "/* Parallel-specific style estimator block */\n",
       "\n",
       "#sk-container-id-11 div.sk-parallel-item::after {\n",
       "  content: \"\";\n",
       "  width: 100%;\n",
       "  border-bottom: 2px solid var(--sklearn-color-text-on-default-background);\n",
       "  flex-grow: 1;\n",
       "}\n",
       "\n",
       "#sk-container-id-11 div.sk-parallel {\n",
       "  display: flex;\n",
       "  align-items: stretch;\n",
       "  justify-content: center;\n",
       "  background-color: var(--sklearn-color-background);\n",
       "  position: relative;\n",
       "}\n",
       "\n",
       "#sk-container-id-11 div.sk-parallel-item {\n",
       "  display: flex;\n",
       "  flex-direction: column;\n",
       "}\n",
       "\n",
       "#sk-container-id-11 div.sk-parallel-item:first-child::after {\n",
       "  align-self: flex-end;\n",
       "  width: 50%;\n",
       "}\n",
       "\n",
       "#sk-container-id-11 div.sk-parallel-item:last-child::after {\n",
       "  align-self: flex-start;\n",
       "  width: 50%;\n",
       "}\n",
       "\n",
       "#sk-container-id-11 div.sk-parallel-item:only-child::after {\n",
       "  width: 0;\n",
       "}\n",
       "\n",
       "/* Serial-specific style estimator block */\n",
       "\n",
       "#sk-container-id-11 div.sk-serial {\n",
       "  display: flex;\n",
       "  flex-direction: column;\n",
       "  align-items: center;\n",
       "  background-color: var(--sklearn-color-background);\n",
       "  padding-right: 1em;\n",
       "  padding-left: 1em;\n",
       "}\n",
       "\n",
       "\n",
       "/* Toggleable style: style used for estimator/Pipeline/ColumnTransformer box that is\n",
       "clickable and can be expanded/collapsed.\n",
       "- Pipeline and ColumnTransformer use this feature and define the default style\n",
       "- Estimators will overwrite some part of the style using the `sk-estimator` class\n",
       "*/\n",
       "\n",
       "/* Pipeline and ColumnTransformer style (default) */\n",
       "\n",
       "#sk-container-id-11 div.sk-toggleable {\n",
       "  /* Default theme specific background. It is overwritten whether we have a\n",
       "  specific estimator or a Pipeline/ColumnTransformer */\n",
       "  background-color: var(--sklearn-color-background);\n",
       "}\n",
       "\n",
       "/* Toggleable label */\n",
       "#sk-container-id-11 label.sk-toggleable__label {\n",
       "  cursor: pointer;\n",
       "  display: block;\n",
       "  width: 100%;\n",
       "  margin-bottom: 0;\n",
       "  padding: 0.5em;\n",
       "  box-sizing: border-box;\n",
       "  text-align: center;\n",
       "}\n",
       "\n",
       "#sk-container-id-11 label.sk-toggleable__label-arrow:before {\n",
       "  /* Arrow on the left of the label */\n",
       "  content: \"▸\";\n",
       "  float: left;\n",
       "  margin-right: 0.25em;\n",
       "  color: var(--sklearn-color-icon);\n",
       "}\n",
       "\n",
       "#sk-container-id-11 label.sk-toggleable__label-arrow:hover:before {\n",
       "  color: var(--sklearn-color-text);\n",
       "}\n",
       "\n",
       "/* Toggleable content - dropdown */\n",
       "\n",
       "#sk-container-id-11 div.sk-toggleable__content {\n",
       "  max-height: 0;\n",
       "  max-width: 0;\n",
       "  overflow: hidden;\n",
       "  text-align: left;\n",
       "  /* unfitted */\n",
       "  background-color: var(--sklearn-color-unfitted-level-0);\n",
       "}\n",
       "\n",
       "#sk-container-id-11 div.sk-toggleable__content.fitted {\n",
       "  /* fitted */\n",
       "  background-color: var(--sklearn-color-fitted-level-0);\n",
       "}\n",
       "\n",
       "#sk-container-id-11 div.sk-toggleable__content pre {\n",
       "  margin: 0.2em;\n",
       "  border-radius: 0.25em;\n",
       "  color: var(--sklearn-color-text);\n",
       "  /* unfitted */\n",
       "  background-color: var(--sklearn-color-unfitted-level-0);\n",
       "}\n",
       "\n",
       "#sk-container-id-11 div.sk-toggleable__content.fitted pre {\n",
       "  /* unfitted */\n",
       "  background-color: var(--sklearn-color-fitted-level-0);\n",
       "}\n",
       "\n",
       "#sk-container-id-11 input.sk-toggleable__control:checked~div.sk-toggleable__content {\n",
       "  /* Expand drop-down */\n",
       "  max-height: 200px;\n",
       "  max-width: 100%;\n",
       "  overflow: auto;\n",
       "}\n",
       "\n",
       "#sk-container-id-11 input.sk-toggleable__control:checked~label.sk-toggleable__label-arrow:before {\n",
       "  content: \"▾\";\n",
       "}\n",
       "\n",
       "/* Pipeline/ColumnTransformer-specific style */\n",
       "\n",
       "#sk-container-id-11 div.sk-label input.sk-toggleable__control:checked~label.sk-toggleable__label {\n",
       "  color: var(--sklearn-color-text);\n",
       "  background-color: var(--sklearn-color-unfitted-level-2);\n",
       "}\n",
       "\n",
       "#sk-container-id-11 div.sk-label.fitted input.sk-toggleable__control:checked~label.sk-toggleable__label {\n",
       "  background-color: var(--sklearn-color-fitted-level-2);\n",
       "}\n",
       "\n",
       "/* Estimator-specific style */\n",
       "\n",
       "/* Colorize estimator box */\n",
       "#sk-container-id-11 div.sk-estimator input.sk-toggleable__control:checked~label.sk-toggleable__label {\n",
       "  /* unfitted */\n",
       "  background-color: var(--sklearn-color-unfitted-level-2);\n",
       "}\n",
       "\n",
       "#sk-container-id-11 div.sk-estimator.fitted input.sk-toggleable__control:checked~label.sk-toggleable__label {\n",
       "  /* fitted */\n",
       "  background-color: var(--sklearn-color-fitted-level-2);\n",
       "}\n",
       "\n",
       "#sk-container-id-11 div.sk-label label.sk-toggleable__label,\n",
       "#sk-container-id-11 div.sk-label label {\n",
       "  /* The background is the default theme color */\n",
       "  color: var(--sklearn-color-text-on-default-background);\n",
       "}\n",
       "\n",
       "/* On hover, darken the color of the background */\n",
       "#sk-container-id-11 div.sk-label:hover label.sk-toggleable__label {\n",
       "  color: var(--sklearn-color-text);\n",
       "  background-color: var(--sklearn-color-unfitted-level-2);\n",
       "}\n",
       "\n",
       "/* Label box, darken color on hover, fitted */\n",
       "#sk-container-id-11 div.sk-label.fitted:hover label.sk-toggleable__label.fitted {\n",
       "  color: var(--sklearn-color-text);\n",
       "  background-color: var(--sklearn-color-fitted-level-2);\n",
       "}\n",
       "\n",
       "/* Estimator label */\n",
       "\n",
       "#sk-container-id-11 div.sk-label label {\n",
       "  font-family: monospace;\n",
       "  font-weight: bold;\n",
       "  display: inline-block;\n",
       "  line-height: 1.2em;\n",
       "}\n",
       "\n",
       "#sk-container-id-11 div.sk-label-container {\n",
       "  text-align: center;\n",
       "}\n",
       "\n",
       "/* Estimator-specific */\n",
       "#sk-container-id-11 div.sk-estimator {\n",
       "  font-family: monospace;\n",
       "  border: 1px dotted var(--sklearn-color-border-box);\n",
       "  border-radius: 0.25em;\n",
       "  box-sizing: border-box;\n",
       "  margin-bottom: 0.5em;\n",
       "  /* unfitted */\n",
       "  background-color: var(--sklearn-color-unfitted-level-0);\n",
       "}\n",
       "\n",
       "#sk-container-id-11 div.sk-estimator.fitted {\n",
       "  /* fitted */\n",
       "  background-color: var(--sklearn-color-fitted-level-0);\n",
       "}\n",
       "\n",
       "/* on hover */\n",
       "#sk-container-id-11 div.sk-estimator:hover {\n",
       "  /* unfitted */\n",
       "  background-color: var(--sklearn-color-unfitted-level-2);\n",
       "}\n",
       "\n",
       "#sk-container-id-11 div.sk-estimator.fitted:hover {\n",
       "  /* fitted */\n",
       "  background-color: var(--sklearn-color-fitted-level-2);\n",
       "}\n",
       "\n",
       "/* Specification for estimator info (e.g. \"i\" and \"?\") */\n",
       "\n",
       "/* Common style for \"i\" and \"?\" */\n",
       "\n",
       ".sk-estimator-doc-link,\n",
       "a:link.sk-estimator-doc-link,\n",
       "a:visited.sk-estimator-doc-link {\n",
       "  float: right;\n",
       "  font-size: smaller;\n",
       "  line-height: 1em;\n",
       "  font-family: monospace;\n",
       "  background-color: var(--sklearn-color-background);\n",
       "  border-radius: 1em;\n",
       "  height: 1em;\n",
       "  width: 1em;\n",
       "  text-decoration: none !important;\n",
       "  margin-left: 1ex;\n",
       "  /* unfitted */\n",
       "  border: var(--sklearn-color-unfitted-level-1) 1pt solid;\n",
       "  color: var(--sklearn-color-unfitted-level-1);\n",
       "}\n",
       "\n",
       ".sk-estimator-doc-link.fitted,\n",
       "a:link.sk-estimator-doc-link.fitted,\n",
       "a:visited.sk-estimator-doc-link.fitted {\n",
       "  /* fitted */\n",
       "  border: var(--sklearn-color-fitted-level-1) 1pt solid;\n",
       "  color: var(--sklearn-color-fitted-level-1);\n",
       "}\n",
       "\n",
       "/* On hover */\n",
       "div.sk-estimator:hover .sk-estimator-doc-link:hover,\n",
       ".sk-estimator-doc-link:hover,\n",
       "div.sk-label-container:hover .sk-estimator-doc-link:hover,\n",
       ".sk-estimator-doc-link:hover {\n",
       "  /* unfitted */\n",
       "  background-color: var(--sklearn-color-unfitted-level-3);\n",
       "  color: var(--sklearn-color-background);\n",
       "  text-decoration: none;\n",
       "}\n",
       "\n",
       "div.sk-estimator.fitted:hover .sk-estimator-doc-link.fitted:hover,\n",
       ".sk-estimator-doc-link.fitted:hover,\n",
       "div.sk-label-container:hover .sk-estimator-doc-link.fitted:hover,\n",
       ".sk-estimator-doc-link.fitted:hover {\n",
       "  /* fitted */\n",
       "  background-color: var(--sklearn-color-fitted-level-3);\n",
       "  color: var(--sklearn-color-background);\n",
       "  text-decoration: none;\n",
       "}\n",
       "\n",
       "/* Span, style for the box shown on hovering the info icon */\n",
       ".sk-estimator-doc-link span {\n",
       "  display: none;\n",
       "  z-index: 9999;\n",
       "  position: relative;\n",
       "  font-weight: normal;\n",
       "  right: .2ex;\n",
       "  padding: .5ex;\n",
       "  margin: .5ex;\n",
       "  width: min-content;\n",
       "  min-width: 20ex;\n",
       "  max-width: 50ex;\n",
       "  color: var(--sklearn-color-text);\n",
       "  box-shadow: 2pt 2pt 4pt #999;\n",
       "  /* unfitted */\n",
       "  background: var(--sklearn-color-unfitted-level-0);\n",
       "  border: .5pt solid var(--sklearn-color-unfitted-level-3);\n",
       "}\n",
       "\n",
       ".sk-estimator-doc-link.fitted span {\n",
       "  /* fitted */\n",
       "  background: var(--sklearn-color-fitted-level-0);\n",
       "  border: var(--sklearn-color-fitted-level-3);\n",
       "}\n",
       "\n",
       ".sk-estimator-doc-link:hover span {\n",
       "  display: block;\n",
       "}\n",
       "\n",
       "/* \"?\"-specific style due to the `<a>` HTML tag */\n",
       "\n",
       "#sk-container-id-11 a.estimator_doc_link {\n",
       "  float: right;\n",
       "  font-size: 1rem;\n",
       "  line-height: 1em;\n",
       "  font-family: monospace;\n",
       "  background-color: var(--sklearn-color-background);\n",
       "  border-radius: 1rem;\n",
       "  height: 1rem;\n",
       "  width: 1rem;\n",
       "  text-decoration: none;\n",
       "  /* unfitted */\n",
       "  color: var(--sklearn-color-unfitted-level-1);\n",
       "  border: var(--sklearn-color-unfitted-level-1) 1pt solid;\n",
       "}\n",
       "\n",
       "#sk-container-id-11 a.estimator_doc_link.fitted {\n",
       "  /* fitted */\n",
       "  border: var(--sklearn-color-fitted-level-1) 1pt solid;\n",
       "  color: var(--sklearn-color-fitted-level-1);\n",
       "}\n",
       "\n",
       "/* On hover */\n",
       "#sk-container-id-11 a.estimator_doc_link:hover {\n",
       "  /* unfitted */\n",
       "  background-color: var(--sklearn-color-unfitted-level-3);\n",
       "  color: var(--sklearn-color-background);\n",
       "  text-decoration: none;\n",
       "}\n",
       "\n",
       "#sk-container-id-11 a.estimator_doc_link.fitted:hover {\n",
       "  /* fitted */\n",
       "  background-color: var(--sklearn-color-fitted-level-3);\n",
       "}\n",
       "</style><div id=\"sk-container-id-11\" class=\"sk-top-container\"><div class=\"sk-text-repr-fallback\"><pre>DBSCAN(algorithm=&#x27;auto&#x27;, eps=0.5, leaf_size=30, metric=&#x27;euclidean&#x27;,\n",
       "       metric_params=None, min_samples=5, n_jobs=-1, p=None)</pre><b>In a Jupyter environment, please rerun this cell to show the HTML representation or trust the notebook. <br />On GitHub, the HTML representation is unable to render, please try loading this page with nbviewer.org.</b></div><div class=\"sk-container\" hidden><div class=\"sk-item\"><div class=\"sk-estimator fitted sk-toggleable\"><input class=\"sk-toggleable__control sk-hidden--visually\" id=\"sk-estimator-id-11\" type=\"checkbox\" checked><label for=\"sk-estimator-id-11\" class=\"sk-toggleable__label fitted sk-toggleable__label-arrow fitted\">&nbsp;&nbsp;DBSCAN<a class=\"sk-estimator-doc-link fitted\" rel=\"noreferrer\" target=\"_blank\" href=\"https://scikit-learn.org/1.4/modules/generated/sklearn.cluster.DBSCAN.html\">?<span>Documentation for DBSCAN</span></a><span class=\"sk-estimator-doc-link fitted\">i<span>Fitted</span></span></label><div class=\"sk-toggleable__content fitted\"><pre>DBSCAN(algorithm=&#x27;auto&#x27;, eps=0.5, leaf_size=30, metric=&#x27;euclidean&#x27;,\n",
       "       metric_params=None, min_samples=5, n_jobs=-1, p=None)</pre></div> </div></div></div></div>"
      ],
      "text/plain": [
       "DBSCAN(algorithm='auto', eps=0.5, leaf_size=30, metric='euclidean',\n",
       "       metric_params=None, min_samples=5, n_jobs=-1, p=None)"
      ]
     },
     "execution_count": 54,
     "metadata": {},
     "output_type": "execute_result"
    }
   ],
   "source": [
    "ap = create_model('dbscan') \n",
    "\n",
    "ap"
   ]
  },
  {
   "cell_type": "code",
   "execution_count": 55,
   "metadata": {},
   "outputs": [],
   "source": [
    "ap_df = assign_model(ap)\n"
   ]
  },
  {
   "cell_type": "code",
   "execution_count": 56,
   "metadata": {},
   "outputs": [
    {
     "data": {
      "text/html": [
       "<div>\n",
       "<style scoped>\n",
       "    .dataframe tbody tr th:only-of-type {\n",
       "        vertical-align: middle;\n",
       "    }\n",
       "\n",
       "    .dataframe tbody tr th {\n",
       "        vertical-align: top;\n",
       "    }\n",
       "\n",
       "    .dataframe thead th {\n",
       "        text-align: right;\n",
       "    }\n",
       "</style>\n",
       "<table border=\"1\" class=\"dataframe\">\n",
       "  <thead>\n",
       "    <tr style=\"text-align: right;\">\n",
       "      <th></th>\n",
       "      <th>Age</th>\n",
       "      <th>Income</th>\n",
       "      <th>SpendingScore</th>\n",
       "      <th>Savings</th>\n",
       "      <th>Cluster</th>\n",
       "    </tr>\n",
       "  </thead>\n",
       "  <tbody>\n",
       "    <tr>\n",
       "      <th>0</th>\n",
       "      <td>58</td>\n",
       "      <td>77769</td>\n",
       "      <td>0.791329</td>\n",
       "      <td>6559.830078</td>\n",
       "      <td>Cluster -1</td>\n",
       "    </tr>\n",
       "    <tr>\n",
       "      <th>1</th>\n",
       "      <td>59</td>\n",
       "      <td>81799</td>\n",
       "      <td>0.791082</td>\n",
       "      <td>5417.661621</td>\n",
       "      <td>Cluster -1</td>\n",
       "    </tr>\n",
       "    <tr>\n",
       "      <th>2</th>\n",
       "      <td>62</td>\n",
       "      <td>74751</td>\n",
       "      <td>0.702657</td>\n",
       "      <td>9258.993164</td>\n",
       "      <td>Cluster -1</td>\n",
       "    </tr>\n",
       "    <tr>\n",
       "      <th>3</th>\n",
       "      <td>59</td>\n",
       "      <td>74373</td>\n",
       "      <td>0.765680</td>\n",
       "      <td>7346.334473</td>\n",
       "      <td>Cluster -1</td>\n",
       "    </tr>\n",
       "    <tr>\n",
       "      <th>4</th>\n",
       "      <td>87</td>\n",
       "      <td>17760</td>\n",
       "      <td>0.348778</td>\n",
       "      <td>16869.507812</td>\n",
       "      <td>Cluster -1</td>\n",
       "    </tr>\n",
       "    <tr>\n",
       "      <th>...</th>\n",
       "      <td>...</td>\n",
       "      <td>...</td>\n",
       "      <td>...</td>\n",
       "      <td>...</td>\n",
       "      <td>...</td>\n",
       "    </tr>\n",
       "    <tr>\n",
       "      <th>500</th>\n",
       "      <td>28</td>\n",
       "      <td>101206</td>\n",
       "      <td>0.387441</td>\n",
       "      <td>14936.775391</td>\n",
       "      <td>Cluster -1</td>\n",
       "    </tr>\n",
       "    <tr>\n",
       "      <th>501</th>\n",
       "      <td>93</td>\n",
       "      <td>19934</td>\n",
       "      <td>0.203140</td>\n",
       "      <td>17969.693359</td>\n",
       "      <td>Cluster -1</td>\n",
       "    </tr>\n",
       "    <tr>\n",
       "      <th>502</th>\n",
       "      <td>90</td>\n",
       "      <td>35297</td>\n",
       "      <td>0.355149</td>\n",
       "      <td>16091.402344</td>\n",
       "      <td>Cluster -1</td>\n",
       "    </tr>\n",
       "    <tr>\n",
       "      <th>503</th>\n",
       "      <td>91</td>\n",
       "      <td>20681</td>\n",
       "      <td>0.354679</td>\n",
       "      <td>18401.087891</td>\n",
       "      <td>Cluster -1</td>\n",
       "    </tr>\n",
       "    <tr>\n",
       "      <th>504</th>\n",
       "      <td>89</td>\n",
       "      <td>30267</td>\n",
       "      <td>0.289310</td>\n",
       "      <td>14386.351562</td>\n",
       "      <td>Cluster -1</td>\n",
       "    </tr>\n",
       "  </tbody>\n",
       "</table>\n",
       "<p>505 rows × 5 columns</p>\n",
       "</div>"
      ],
      "text/plain": [
       "     Age  Income  SpendingScore       Savings     Cluster\n",
       "0     58   77769       0.791329   6559.830078  Cluster -1\n",
       "1     59   81799       0.791082   5417.661621  Cluster -1\n",
       "2     62   74751       0.702657   9258.993164  Cluster -1\n",
       "3     59   74373       0.765680   7346.334473  Cluster -1\n",
       "4     87   17760       0.348778  16869.507812  Cluster -1\n",
       "..   ...     ...            ...           ...         ...\n",
       "500   28  101206       0.387441  14936.775391  Cluster -1\n",
       "501   93   19934       0.203140  17969.693359  Cluster -1\n",
       "502   90   35297       0.355149  16091.402344  Cluster -1\n",
       "503   91   20681       0.354679  18401.087891  Cluster -1\n",
       "504   89   30267       0.289310  14386.351562  Cluster -1\n",
       "\n",
       "[505 rows x 5 columns]"
      ]
     },
     "execution_count": 56,
     "metadata": {},
     "output_type": "execute_result"
    }
   ],
   "source": [
    "ap_df"
   ]
  },
  {
   "cell_type": "code",
   "execution_count": 57,
   "metadata": {},
   "outputs": [
    {
     "data": {
      "text/html": [],
      "text/plain": [
       "<IPython.core.display.HTML object>"
      ]
     },
     "metadata": {},
     "output_type": "display_data"
    },
    {
     "data": {
      "application/vnd.plotly.v1+json": {
       "config": {
        "plotlyServerURL": "https://plot.ly"
       },
       "data": [
        {
         "customdata": [
          [
           58
          ],
          [
           84
          ],
          [
           92
          ],
          [
           20
          ],
          [
           90
          ],
          [
           34
          ],
          [
           24
          ],
          [
           17
          ],
          [
           93
          ],
          [
           89
          ],
          [
           42
          ],
          [
           40
          ],
          [
           57
          ],
          [
           59
          ],
          [
           29
          ],
          [
           59
          ],
          [
           33
          ],
          [
           87
          ],
          [
           36
          ],
          [
           86
          ],
          [
           91
          ],
          [
           24
          ],
          [
           88
          ],
          [
           26
          ],
          [
           87
          ],
          [
           33
          ],
          [
           91
          ],
          [
           59
          ],
          [
           59
          ],
          [
           61
          ],
          [
           67
          ],
          [
           82
          ],
          [
           84
          ],
          [
           91
          ],
          [
           91
          ],
          [
           88
          ],
          [
           55
          ],
          [
           33
          ],
          [
           34
          ],
          [
           84
          ],
          [
           61
          ],
          [
           29
          ],
          [
           91
          ],
          [
           58
          ],
          [
           83
          ],
          [
           62
          ],
          [
           83
          ],
          [
           28
          ],
          [
           83
          ],
          [
           56
          ],
          [
           86
          ],
          [
           21
          ],
          [
           35
          ],
          [
           63
          ],
          [
           77
          ],
          [
           34
          ],
          [
           91
          ],
          [
           36
          ],
          [
           28
          ],
          [
           94
          ],
          [
           59
          ],
          [
           87
          ],
          [
           33
          ],
          [
           59
          ],
          [
           88
          ],
          [
           59
          ],
          [
           59
          ],
          [
           88
          ],
          [
           90
          ],
          [
           59
          ],
          [
           43
          ],
          [
           84
          ],
          [
           91
          ],
          [
           61
          ],
          [
           88
          ],
          [
           37
          ],
          [
           57
          ],
          [
           26
          ],
          [
           37
          ],
          [
           94
          ],
          [
           57
          ],
          [
           86
          ],
          [
           55
          ],
          [
           63
          ],
          [
           83
          ],
          [
           64
          ],
          [
           61
          ],
          [
           31
          ],
          [
           36
          ],
          [
           82
          ],
          [
           91
          ],
          [
           37
          ],
          [
           33
          ],
          [
           90
          ],
          [
           31
          ],
          [
           88
          ],
          [
           85
          ],
          [
           85
          ],
          [
           35
          ],
          [
           37
          ],
          [
           88
          ],
          [
           61
          ],
          [
           25
          ],
          [
           30
          ],
          [
           56
          ],
          [
           88
          ],
          [
           30
          ],
          [
           61
          ],
          [
           90
          ],
          [
           34
          ],
          [
           85
          ],
          [
           30
          ],
          [
           56
          ],
          [
           33
          ],
          [
           31
          ],
          [
           58
          ],
          [
           22
          ],
          [
           87
          ],
          [
           84
          ],
          [
           83
          ],
          [
           29
          ],
          [
           91
          ],
          [
           90
          ],
          [
           87
          ],
          [
           39
          ],
          [
           38
          ],
          [
           89
          ],
          [
           58
          ],
          [
           63
          ],
          [
           32
          ],
          [
           61
          ],
          [
           18
          ],
          [
           92
          ],
          [
           86
          ],
          [
           28
          ],
          [
           56
          ],
          [
           33
          ],
          [
           28
          ],
          [
           94
          ],
          [
           28
          ],
          [
           35
          ],
          [
           17
          ],
          [
           93
          ],
          [
           31
          ],
          [
           31
          ],
          [
           59
          ],
          [
           27
          ],
          [
           61
          ],
          [
           85
          ],
          [
           87
          ],
          [
           34
          ],
          [
           36
          ],
          [
           24
          ],
          [
           22
          ],
          [
           31
          ],
          [
           62
          ],
          [
           60
          ],
          [
           62
          ],
          [
           90
          ],
          [
           93
          ],
          [
           28
          ],
          [
           25
          ],
          [
           30
          ],
          [
           91
          ],
          [
           22
          ],
          [
           66
          ],
          [
           87
          ],
          [
           92
          ],
          [
           61
          ],
          [
           58
          ],
          [
           84
          ],
          [
           34
          ],
          [
           97
          ],
          [
           26
          ],
          [
           91
          ],
          [
           90
          ],
          [
           84
          ],
          [
           84
          ],
          [
           32
          ],
          [
           86
          ],
          [
           65
          ],
          [
           59
          ],
          [
           65
          ],
          [
           33
          ],
          [
           33
          ],
          [
           90
          ],
          [
           92
          ],
          [
           17
          ],
          [
           92
          ],
          [
           63
          ],
          [
           44
          ],
          [
           25
          ],
          [
           34
          ],
          [
           89
          ],
          [
           58
          ],
          [
           67
          ],
          [
           56
          ],
          [
           33
          ],
          [
           87
          ],
          [
           57
          ],
          [
           37
          ],
          [
           20
          ],
          [
           31
          ],
          [
           68
          ],
          [
           67
          ],
          [
           37
          ],
          [
           92
          ],
          [
           85
          ],
          [
           60
          ],
          [
           86
          ],
          [
           79
          ],
          [
           60
          ],
          [
           86
          ],
          [
           94
          ],
          [
           87
          ],
          [
           59
          ],
          [
           35
          ],
          [
           59
          ],
          [
           89
          ],
          [
           37
          ],
          [
           31
          ],
          [
           55
          ],
          [
           88
          ],
          [
           58
          ],
          [
           29
          ],
          [
           59
          ],
          [
           90
          ],
          [
           65
          ],
          [
           37
          ],
          [
           64
          ],
          [
           60
          ],
          [
           30
          ],
          [
           89
          ],
          [
           35
          ],
          [
           86
          ],
          [
           58
          ],
          [
           86
          ],
          [
           57
          ],
          [
           36
          ],
          [
           87
          ],
          [
           39
          ],
          [
           82
          ],
          [
           51
          ],
          [
           79
          ],
          [
           38
          ],
          [
           29
          ],
          [
           26
          ],
          [
           88
          ],
          [
           36
          ],
          [
           21
          ],
          [
           61
          ],
          [
           91
          ],
          [
           57
          ],
          [
           28
          ],
          [
           58
          ],
          [
           63
          ],
          [
           56
          ],
          [
           58
          ],
          [
           34
          ],
          [
           35
          ],
          [
           88
          ],
          [
           87
          ],
          [
           64
          ],
          [
           84
          ],
          [
           59
          ],
          [
           29
          ],
          [
           58
          ],
          [
           59
          ],
          [
           33
          ],
          [
           57
          ],
          [
           30
          ],
          [
           91
          ],
          [
           83
          ],
          [
           31
          ],
          [
           58
          ],
          [
           55
          ],
          [
           23
          ],
          [
           28
          ],
          [
           91
          ],
          [
           62
          ],
          [
           64
          ],
          [
           60
          ],
          [
           24
          ],
          [
           94
          ],
          [
           58
          ],
          [
           84
          ],
          [
           88
          ],
          [
           28
          ],
          [
           84
          ],
          [
           22
          ],
          [
           30
          ],
          [
           63
          ],
          [
           35
          ],
          [
           31
          ],
          [
           35
          ],
          [
           66
          ],
          [
           33
          ],
          [
           90
          ],
          [
           61
          ],
          [
           57
          ],
          [
           32
          ],
          [
           89
          ],
          [
           88
          ],
          [
           34
          ],
          [
           23
          ],
          [
           31
          ],
          [
           24
          ],
          [
           27
          ],
          [
           37
          ],
          [
           66
          ],
          [
           62
          ],
          [
           36
          ],
          [
           25
          ],
          [
           38
          ],
          [
           88
          ],
          [
           83
          ],
          [
           83
          ],
          [
           55
          ],
          [
           17
          ],
          [
           30
          ],
          [
           89
          ],
          [
           91
          ],
          [
           53
          ],
          [
           84
          ],
          [
           30
          ],
          [
           88
          ],
          [
           82
          ],
          [
           87
          ],
          [
           55
          ],
          [
           92
          ],
          [
           61
          ],
          [
           31
          ],
          [
           30
          ],
          [
           36
          ],
          [
           85
          ],
          [
           84
          ],
          [
           83
          ],
          [
           87
          ],
          [
           54
          ],
          [
           29
          ],
          [
           87
          ],
          [
           59
          ],
          [
           62
          ],
          [
           59
          ],
          [
           90
          ],
          [
           61
          ],
          [
           59
          ],
          [
           59
          ],
          [
           90
          ],
          [
           87
          ],
          [
           83
          ],
          [
           25
          ],
          [
           91
          ],
          [
           53
          ],
          [
           91
          ],
          [
           27
          ],
          [
           36
          ],
          [
           84
          ],
          [
           55
          ],
          [
           31
          ],
          [
           25
          ],
          [
           83
          ],
          [
           83
          ],
          [
           61
          ],
          [
           57
          ],
          [
           20
          ],
          [
           87
          ],
          [
           60
          ],
          [
           31
          ],
          [
           39
          ],
          [
           61
          ],
          [
           84
          ],
          [
           61
          ],
          [
           33
          ],
          [
           56
          ],
          [
           88
          ],
          [
           18
          ],
          [
           35
          ],
          [
           82
          ],
          [
           64
          ],
          [
           23
          ],
          [
           29
          ],
          [
           87
          ],
          [
           60
          ],
          [
           85
          ],
          [
           86
          ],
          [
           89
          ],
          [
           95
          ],
          [
           56
          ],
          [
           24
          ],
          [
           88
          ],
          [
           60
          ],
          [
           25
          ],
          [
           55
          ],
          [
           29
          ],
          [
           58
          ],
          [
           29
          ],
          [
           87
          ],
          [
           84
          ],
          [
           89
          ],
          [
           32
          ],
          [
           28
          ],
          [
           82
          ],
          [
           53
          ],
          [
           61
          ],
          [
           59
          ],
          [
           93
          ],
          [
           31
          ],
          [
           89
          ],
          [
           58
          ],
          [
           56
          ],
          [
           29
          ],
          [
           24
          ],
          [
           84
          ],
          [
           35
          ],
          [
           68
          ],
          [
           90
          ],
          [
           59
          ],
          [
           64
          ],
          [
           66
          ],
          [
           25
          ],
          [
           36
          ],
          [
           31
          ],
          [
           57
          ],
          [
           32
          ],
          [
           38
          ],
          [
           58
          ],
          [
           67
          ],
          [
           92
          ],
          [
           59
          ],
          [
           62
          ],
          [
           85
          ],
          [
           63
          ],
          [
           64
          ],
          [
           34
          ],
          [
           23
          ],
          [
           29
          ],
          [
           89
          ],
          [
           37
          ],
          [
           58
          ],
          [
           62
          ],
          [
           58
          ],
          [
           63
          ],
          [
           94
          ],
          [
           65
          ],
          [
           85
          ],
          [
           28
          ],
          [
           59
          ],
          [
           91
          ],
          [
           56
          ],
          [
           86
          ],
          [
           62
          ],
          [
           26
          ],
          [
           58
          ],
          [
           28
          ],
          [
           56
          ],
          [
           86
          ],
          [
           63
          ],
          [
           31
          ],
          [
           60
          ],
          [
           26
          ],
          [
           82
          ],
          [
           88
          ],
          [
           24
          ],
          [
           65
          ],
          [
           32
          ],
          [
           60
          ],
          [
           34
          ],
          [
           62
          ],
          [
           62
          ],
          [
           91
          ],
          [
           85
          ],
          [
           81
          ],
          [
           30
          ],
          [
           85
          ],
          [
           32
          ],
          [
           87
          ],
          [
           31
          ],
          [
           27
          ],
          [
           29
          ],
          [
           64
          ],
          [
           62
          ],
          [
           94
          ],
          [
           88
          ],
          [
           85
          ],
          [
           60
          ],
          [
           62
          ],
          [
           92
          ],
          [
           62
          ],
          [
           56
          ],
          [
           61
          ],
          [
           89
          ],
          [
           62
          ],
          [
           33
          ],
          [
           64
          ],
          [
           85
          ],
          [
           28
          ],
          [
           88
          ],
          [
           31
          ],
          [
           66
          ],
          [
           83
          ],
          [
           30
          ],
          [
           59
          ],
          [
           29
          ],
          [
           89
          ]
         ],
         "hovertemplate": "Cluster=Cluster -1<br>PCA1=%{x}<br>PCA2=%{y}<br>Feature=%{customdata[0]}<extra></extra>",
         "legendgroup": "Cluster -1",
         "marker": {
          "color": "#636efa",
          "opacity": 0.5,
          "symbol": "circle"
         },
         "mode": "markers",
         "name": "Cluster -1",
         "orientation": "v",
         "showlegend": true,
         "textposition": "top center",
         "type": "scatter",
         "x": [
          2555.7842237302248,
          39513.273550521946,
          -53329.08892211857,
          47415.38915596518,
          -42253.87288275521,
          14006.00097376516,
          53976.78999307677,
          59803.04557597497,
          -58127.503834469906,
          -48762.36471399601,
          31253.468503847278,
          23032.680118427594,
          -10371.487065175937,
          -2220.6354443938135,
          40673.85966572634,
          5619.1255333780155,
          38869.64947043886,
          -45504.92819267483,
          32210.979752849806,
          -43811.47260914544,
          -63634.72202883467,
          34815.25490758295,
          -40724.15684584517,
          21973.307957772944,
          -63656.347612708065,
          24613.75199474723,
          -39063.28666484059,
          -6051.798043076608,
          -1864.5940731049357,
          -9270.98323867497,
          -6586.375025316466,
          -42172.091374211624,
          -48329.37517055245,
          -47000.171674283905,
          -48496.84791008091,
          -53103.847928511896,
          1547.9124272171964,
          32561.02538427929,
          35572.715402147114,
          34834.90179722815,
          -6214.354922912834,
          35036.71586290587,
          -46108.56437415352,
          4968.764656493565,
          -45148.06214368701,
          -5898.744482221791,
          -57495.82749294875,
          41933.87633764401,
          -48890.1620634034,
          5122.282549932674,
          -56854.244929278204,
          48602.57110350955,
          37194.902271544604,
          -7793.211518497569,
          52844.21452066906,
          44074.744333958406,
          43084.431318562616,
          29861.546691899737,
          33379.42059724399,
          -56820.087514001265,
          7017.407221041007,
          -50055.787556764524,
          19295.267700776083,
          2663.8141164030044,
          -43012.76980619299,
          -7793.454361394586,
          -18832.323097259658,
          -48459.57886574736,
          -50029.04864430799,
          277.31943945235315,
          25938.050515546736,
          -53484.99043374052,
          -49274.44239573866,
          -1867.5011781843552,
          -57750.757755218016,
          30949.63690680687,
          -5506.504771609412,
          56651.455486319515,
          32912.8920544582,
          -48448.189831499214,
          1380.9095889215512,
          -39916.5906118059,
          -1254.7960958097437,
          -18377.080909021155,
          42157.80543094876,
          1223.3332868105324,
          -4025.534582979203,
          37228.73474929927,
          24491.388924465627,
          -51459.51352500547,
          -58771.33010005761,
          22105.034606632624,
          30046.48909900837,
          48410.00928895815,
          30148.68268283114,
          38847.16975192888,
          42414.139835251335,
          -54413.15852823437,
          41298.63128492267,
          21900.78529345971,
          -49206.07300463818,
          -9600.00951894749,
          55168.45153662266,
          26298.148403025225,
          3735.222284723834,
          -56178.67329217832,
          31911.001222896,
          -3222.0284980232977,
          -53514.36611000952,
          22393.41770462971,
          -46206.76075642488,
          32797.64364946061,
          375.6120103283691,
          30584.124596856775,
          32416.939856368153,
          834.6063397987284,
          58984.55028389008,
          -28723.991918569296,
          -37730.76929457194,
          41580.27174136411,
          15764.491422930674,
          -50504.823104629126,
          -45508.35391168646,
          -44821.27196488108,
          23470.84705451218,
          37939.71701022734,
          -50446.6872077838,
          -4588.845678205518,
          -4661.643211273579,
          41328.252680468315,
          -3197.7706738433153,
          48551.897789887524,
          -53120.54075530758,
          -48031.60030337845,
          19017.169490301156,
          -9823.292972914784,
          40849.4806011811,
          24827.978797692198,
          -51858.95285548028,
          52465.03358530211,
          34360.481813439445,
          48697.32854572939,
          50874.59371963918,
          32345.708411108044,
          32322.90853552378,
          -7225.656657280488,
          47518.881323479785,
          -7827.5043941225695,
          -53905.33081243268,
          -49083.98900640701,
          26507.042897939536,
          28639.385012252133,
          45280.29646688088,
          33345.15627446259,
          25363.919193669695,
          -1424.296859729874,
          -11770.096233982844,
          -7431.169948635805,
          -40392.52356154922,
          -55837.89619000485,
          25474.402763132595,
          53422.55247996479,
          22224.556150677472,
          -44891.726951259356,
          57857.289053149805,
          1855.047974617419,
          -45889.161227404526,
          -39730.754908978444,
          -967.1345392121335,
          -4883.720557377948,
          -39255.47389259956,
          23196.213321683517,
          -48338.70468800092,
          47842.883669132316,
          -47591.225131434614,
          -52877.38162330976,
          -45243.33594590511,
          -51590.97204811315,
          32572.750284951693,
          -52219.788910884425,
          -4114.665839253159,
          -5787.584451174631,
          -4794.730197271371,
          31361.085258501153,
          31045.22028118458,
          -46621.67517287665,
          -56895.3360131973,
          61085.161818166234,
          -40276.44812098459,
          7034.56700094058,
          38938.11811665462,
          45728.401139272224,
          27456.9132589894,
          -47490.05336010272,
          -6075.723954598628,
          3574.8676307498317,
          -1755.3663671079707,
          16918.676225923733,
          -45592.662707943855,
          4615.60459785752,
          35023.216286150804,
          54230.31142876455,
          29240.509736461732,
          -6270.130047136962,
          5679.935019062456,
          32853.06228404298,
          -42194.798750822614,
          -47211.3092283836,
          -9176.939927564541,
          -39708.646986385116,
          -37510.58805740357,
          -5149.41455270378,
          -46897.287218804486,
          -36822.88273567959,
          41859.15436607787,
          15177.319702791372,
          30155.33417948096,
          -1709.00671449226,
          -41047.37638673445,
          32289.54019339468,
          29210.556892903754,
          -10419.650737321668,
          -44316.39099715632,
          2868.675324116313,
          30268.7054810274,
          -7981.746785180182,
          -51240.79467140158,
          -811.2732950246518,
          31202.412658451645,
          -12402.614021503563,
          -805.5182754639134,
          20486.14068168531,
          -53680.72060591249,
          32691.86956188507,
          48577.24595197164,
          3333.0370068762772,
          -60035.355695188846,
          -3147.971701777518,
          34060.87751097296,
          -59885.18347781833,
          24819.360933982716,
          -51335.69631678477,
          -3127.7464850155206,
          -43219.5706384472,
          28960.634987007823,
          36813.7671347141,
          50397.083884591375,
          47964.55228506114,
          33203.84261491328,
          54542.56027032768,
          3607.6218458178596,
          -55116.835987210456,
          -1148.592730314999,
          53924.59704186732,
          -4972.922132318898,
          10499.407287118547,
          11129.424152003643,
          -4333.353165561365,
          28627.259856345154,
          28912.895143562033,
          -42334.047649157525,
          -49618.5642662469,
          13091.374146760909,
          38543.625138465315,
          -860.4354508721381,
          47210.61128826446,
          1797.8692909309718,
          -2601.8696305967796,
          22258.6086782299,
          4241.775879690279,
          31614.442557749964,
          -38870.672592895105,
          -41183.652086269234,
          35187.910560505494,
          -907.6690954314605,
          -4197.9959882247285,
          51395.2243558633,
          48029.23597884719,
          -49855.36019377389,
          -5414.451735591037,
          -14757.626867529661,
          4848.442756486673,
          61617.25601853893,
          -47366.64942872537,
          -5327.512632351785,
          -33685.82301953529,
          -49640.5162800766,
          22236.16946566785,
          -46294.69656360339,
          45302.57091364991,
          33217.92658728098,
          -2329.616773935961,
          26003.522420593872,
          28681.54987121016,
          26578.153217150317,
          -10238.837919558959,
          23896.368797199015,
          -42382.69882279961,
          -6112.701963031473,
          1381.2925353027429,
          34753.148471170534,
          -51006.62594962383,
          -46888.405885769855,
          23022.218288328786,
          45049.71302323948,
          40419.57667419344,
          55795.99791010047,
          31016.952780284253,
          34830.86604526113,
          -2630.7941444101602,
          -1710.0091114414984,
          26071.981192203384,
          55783.428854090234,
          39399.401380792246,
          -41654.285397114116,
          -45053.50114082118,
          -42546.30924747514,
          3442.067889271253,
          59798.174818909996,
          47549.76255316081,
          43861.74707162001,
          -52957.616277303394,
          1535.3200257259407,
          46993.64107086383,
          25376.6932833306,
          44952.90204718014,
          -42152.502842284805,
          -44207.36922040722,
          -3652.051625562803,
          47182.06860121166,
          -3354.4093952257335,
          32307.936747625536,
          24294.80848197434,
          23967.00614170641,
          35579.20584184769,
          -48086.47159801661,
          -41229.08531754963,
          -33223.7879254031,
          1270.592614494426,
          56449.67813276753,
          -57945.294049611366,
          -879.6961238367874,
          -611.8920901109253,
          6644.597598902892,
          -38257.01248030676,
          1691.1470012917107,
          -9514.742116918944,
          -5495.930033917725,
          -42485.19893881767,
          -52350.13687817325,
          -47072.83269048476,
          25765.790066438305,
          -48867.334253339606,
          -13124.391619355425,
          -51304.42078363724,
          46271.74997443963,
          22350.76980617095,
          -57516.27314156978,
          -847.3002323292313,
          25732.34496458886,
          62912.45710039263,
          -52508.30352712904,
          43629.01274005912,
          -2009.7086269484475,
          106.44731571900485,
          53899.23405406334,
          -52745.27195482759,
          -5228.773563698111,
          35758.27546112109,
          24706.12836543105,
          -11385.80730661919,
          -55003.11474871313,
          -1006.7942920597711,
          25328.069975138635,
          -11393.264273317021,
          -57888.986939968,
          55587.35172793505,
          31317.29808239697,
          45920.303825559866,
          -3536.624902612313,
          54778.91990697275,
          26228.376273797567,
          -49952.56387007486,
          -9955.598990292232,
          -47927.756160689045,
          -28705.212825263345,
          -49610.675017215326,
          -48754.5532623038,
          -15159.901907030264,
          59239.85352122589,
          -42594.24303541742,
          -7740.904886148209,
          30950.101845843255,
          871.056128883001,
          23392.94203833669,
          8122.080380431858,
          27412.691418946466,
          -51191.18314121457,
          -48469.75824737505,
          -55368.9842571401,
          30836.97832091276,
          48281.964760281175,
          -43231.477857798054,
          -284.9346156042501,
          -4335.121225148146,
          -3902.65076640536,
          -55300.43836861995,
          26983.04635508588,
          -56491.72617965687,
          5073.487342754965,
          -7927.2794017390015,
          66750.62107639125,
          59196.59307835407,
          -48254.006209568106,
          30806.776365699683,
          2456.114930263731,
          42045.795722328185,
          -5713.304473394475,
          3594.042431937772,
          -3578.6411698601887,
          55809.608247543416,
          20592.346601240497,
          39135.376246859574,
          -9604.976111586082,
          26023.566392701516,
          18943.372815329007,
          2392.9514015408135,
          -15876.014206199558,
          -39882.0232882802,
          384.4886441749491,
          -12401.012613234323,
          -46522.91946866403,
          -182.8750991487011,
          -10817.514887710626,
          27758.38755378162,
          63317.0665302942,
          43600.2162072105,
          -42432.645121021924,
          31960.754470883072,
          -4856.16027305059,
          -8175.944783875934,
          3385.822034418756,
          -5414.849621040669,
          -54957.490976530244,
          -9153.99211227534,
          -47271.41327800884,
          36260.399872485126,
          -7423.928781748677,
          -45489.12000858338,
          -6529.597903259432,
          52679.137439365084,
          -4176.722628358163,
          52086.380659501905,
          499.49662400636316,
          46000.80248340849,
          9121.208333274746,
          39941.23737200701,
          5567.478118222909,
          31330.34395958769,
          -4595.725464525728,
          51532.470054685786,
          50433.85140507419,
          -47339.94734492914,
          52263.49411048377,
          -9447.566961580664,
          26343.67868382354,
          -3881.2792386591896,
          31502.360315169364,
          -12594.17525719195,
          -11570.013634605872,
          -46752.171898182976,
          -41090.43274302473,
          -41272.89535426132,
          30614.165788924765,
          -44945.69896471381,
          19785.99437370532,
          -57176.86780758159,
          47836.44838887485,
          49923.232400591725,
          35711.08000629997,
          11039.02694992707,
          -5806.077068066832,
          -47975.62988585302,
          -47129.844161164685,
          -49427.52412175888,
          -10072.875122355032,
          3175.730103636434,
          -42805.17470565499,
          4864.683651762652,
          -6874.447279795805,
          -5628.983755072118,
          -44680.8935536425,
          -6945.490210959246,
          36008.72534227599,
          1198.2155216057831,
          -40907.25151543578,
          23858.598234856043,
          -58306.893745623165,
          23748.677826025505,
          7325.256189942491,
          -47148.049525131864,
          32149.92130246567,
          -7249.028144112698,
          26312.37296994565,
          -45316.58138942739
         ],
         "xaxis": "x",
         "y": [
          5164.690207216502,
          -4805.682615179914,
          -3704.1154622013446,
          4709.3887219932785,
          -2813.4089680993475,
          -1775.6048970799575,
          5488.389848804964,
          8450.307548937868,
          -3329.4235557220823,
          -1902.3045662332302,
          -4792.820646769853,
          -5461.179167794453,
          6211.274367328165,
          4177.140252105046,
          -5771.827355976943,
          4314.8038317272985,
          -4117.835744147898,
          -1656.4246533860953,
          -5806.3626560387565,
          -3844.0504697250976,
          -958.5370357661105,
          -5108.281907469461,
          -3403.3543346107663,
          -5227.97219263389,
          -672.1307761420624,
          -3288.4640447513407,
          -2178.9510788997595,
          6221.683197407635,
          5267.352326944865,
          5996.549301848856,
          4795.659468727197,
          -3482.9500826311128,
          -2106.955706664308,
          -3258.5921511823562,
          -1255.0228766467974,
          -1838.6649351564,
          3973.9067969409944,
          -5658.52873889131,
          -4807.664945608784,
          -5079.540897002676,
          8154.200471910163,
          -6415.6994227079385,
          -4704.899979069119,
          3943.1172738218734,
          -918.4435120938809,
          5205.840127358382,
          -874.593406531655,
          4717.997031231377,
          -3117.043952131993,
          3424.073401707504,
          -1039.8872367476188,
          6249.537248101818,
          -4030.4862142381508,
          6334.243106042937,
          -5677.667836398252,
          -6307.668957592922,
          -4660.855325409057,
          -4210.491363493584,
          -4139.0528332128115,
          -2626.4940910385,
          5588.800471678807,
          -458.73281868832447,
          -3266.6498646157,
          3399.119908746672,
          -2388.3979285656496,
          5788.853750291176,
          6823.253221994701,
          -623.0250548560496,
          -2907.797692364692,
          5152.077474584811,
          -4054.2525236210518,
          -2964.8709350520153,
          -1819.1411226436483,
          2685.6629912898006,
          -1546.7861986769105,
          -4397.197247861161,
          6298.430264198258,
          4271.292256835258,
          -4588.664848267575,
          -424.49463918423896,
          5567.112753962651,
          -5860.407004947621,
          6380.915678462932,
          5086.374515846037,
          -5954.4545753329285,
          5666.368020665908,
          5644.552286645014,
          -4575.537585729335,
          -3378.5436476328714,
          -1443.6315773519377,
          -1946.4256473207156,
          -4346.187481501863,
          -2733.1091736643,
          -5693.665477980649,
          -3727.6410744728214,
          -8209.63960539855,
          -5432.281984340314,
          -1055.9964673992308,
          -6422.065158701384,
          -5234.91456422079,
          646.5434219075403,
          4923.2817369729555,
          4016.981500839461,
          -5023.038893615682,
          4370.467576915716,
          -1450.7322712124187,
          -2672.9115870036826,
          4129.181187750038,
          -3511.6510358173896,
          -5150.747387385606,
          -3972.4381382736656,
          -5654.547208585243,
          5049.606055105601,
          -5198.652074260109,
          -3316.874095179474,
          5141.10135312581,
          3350.7117975359856,
          -1283.2493348069167,
          -3447.5220835212776,
          -5615.560841025152,
          -2149.1523643994033,
          -2541.10342975796,
          -1716.096216771757,
          -809.2480282398332,
          -4720.248568308455,
          -4683.4402679132145,
          -1789.8301942200424,
          4468.268199202185,
          4875.41184459968,
          -4823.645609095861,
          5127.949297943515,
          4668.214701347183,
          -2373.9076829435635,
          -2520.879074299023,
          -4587.0561705581185,
          6862.247568550065,
          -5591.430813146153,
          -5088.608026609536,
          -1998.314588810327,
          3371.533064192324,
          -5038.8163456088905,
          5282.49786165518,
          -5178.053057007961,
          -2201.720744033924,
          -3681.290698907484,
          4564.617535912254,
          4941.999476017807,
          5701.6975673885445,
          776.7212819595683,
          -2706.953602076429,
          -5484.674224534327,
          -3130.950373858055,
          4437.356755042896,
          -6080.299784647307,
          -6518.878337708815,
          7267.328447090963,
          5001.420588195519,
          6342.036887449035,
          -1918.071077159508,
          -2913.1509550389624,
          -4541.161734519424,
          3894.2354040686005,
          -5737.014106158462,
          -1059.5101766806479,
          5717.50110377,
          5468.743079867756,
          -3656.859751453872,
          -3215.3115156639415,
          4638.724083111239,
          4688.370839749896,
          -2456.0629583842883,
          -5613.714696123644,
          -296.9483635317874,
          4758.188583448419,
          -2876.017194198107,
          -1034.0459046785438,
          -2386.7438202843027,
          -1709.6808347140902,
          -6711.00561277482,
          -361.8229000741437,
          3078.895982492388,
          5711.628519863216,
          5174.470366607367,
          -4837.589777514416,
          -4354.880238261401,
          -1061.3925460477687,
          -219.83546115271346,
          4243.721803980182,
          -3159.4029087705626,
          3374.2873062887634,
          -4443.170207612073,
          3658.3064353496716,
          -4868.312310128514,
          -1025.6554152768008,
          3500.596314211383,
          6638.189555586533,
          4273.205130157196,
          -2877.194182102228,
          -1858.7414429497276,
          5713.442204003191,
          -4416.577014358727,
          3238.4289374841264,
          -5240.710105021423,
          5401.821899173072,
          4711.285755352457,
          -5910.595732886542,
          -2831.2452680158376,
          -497.0289075072257,
          7146.6627006352,
          -2812.6407933646465,
          -2385.931492912866,
          5556.66616253832,
          -1500.6000118770837,
          -3004.136044051582,
          -4543.326342656835,
          4253.670080185395,
          -6491.845587524797,
          3684.695260089209,
          163.00824757784514,
          -3634.3416070178273,
          -6286.357858424545,
          5982.858062463157,
          -1681.1081908254469,
          5223.642144465042,
          -4917.675610318429,
          3467.5664301232237,
          -337.5830610287052,
          4771.5152787236275,
          -4006.8812090056595,
          4277.4201759966945,
          4348.095844750875,
          -4804.203961851945,
          -1523.1535588510808,
          -6066.457134457754,
          -6305.3076431666395,
          4012.215485337338,
          -2067.784524904226,
          5506.9964385163385,
          -5075.6781793525415,
          968.1817045075687,
          -6443.116855817862,
          -2253.3241819888644,
          5318.281844571088,
          -982.6375502407428,
          -5439.902010858863,
          -4615.462129937941,
          2890.55076027196,
          -4397.1857082410215,
          -6552.892383943657,
          4193.8831896816955,
          4852.444506942653,
          -3386.6308713700564,
          6154.518340801141,
          5765.842917677419,
          5053.974565097898,
          4092.58667355862,
          2451.3957050371832,
          6791.121854812111,
          -3324.8164287585687,
          -5224.554320132963,
          -946.4423236598791,
          -1200.4989785914936,
          3878.0739044405022,
          -7198.06350009684,
          1366.2174572861718,
          6674.234783135656,
          3616.906745545875,
          5720.0638913443545,
          -5195.925254869426,
          4854.373360315702,
          -3948.4132949879477,
          -4966.632164446518,
          -2299.1778477879416,
          -4164.857943447228,
          4662.571681544214,
          4646.423182047716,
          5657.241523409538,
          5422.323715263649,
          -2551.640176025432,
          6401.496667099205,
          5008.011891703146,
          6716.38915742083,
          6726.313729421175,
          -2226.524522178829,
          5507.674338617669,
          -2359.980757311173,
          -2403.4517367005997,
          -4400.0424938714705,
          -3445.141443035063,
          3778.181609385132,
          -4387.405057818721,
          6502.207658399983,
          -3786.1338481571647,
          -4194.112749071154,
          -4542.181119259878,
          7423.315553060326,
          -4653.572749186027,
          -1026.2176795347023,
          7150.265776891151,
          5207.2209682809535,
          -4008.589273701796,
          1229.634501834122,
          -1747.2843051407012,
          -4439.122431386046,
          4590.8723562927735,
          -6642.23402014205,
          4252.897482631878,
          -4865.0042507751195,
          -5377.228895403817,
          5512.809747300329,
          5692.091535965756,
          -4687.764441938942,
          4732.087674705494,
          -5202.09037245289,
          -1284.276804921395,
          -3267.8529257017844,
          -2323.9543527396136,
          3293.9261383034686,
          4315.751653167788,
          3437.896625297284,
          -6877.036237163741,
          -512.1679220763331,
          6617.1432681760325,
          -4647.129392602872,
          -3922.328915477498,
          -4985.514604349081,
          -3595.426920160013,
          -1788.5954480508226,
          4298.147977719964,
          -4557.716265875758,
          4039.0497266262214,
          -3401.081205177551,
          -3156.174810819154,
          -5918.695473496265,
          -6195.2560764504215,
          -3267.6642579009535,
          -559.8885893852707,
          -4327.599784659085,
          4918.861045396689,
          5101.398631128978,
          -1690.2242432392886,
          4574.029857294048,
          2642.856238209563,
          6074.108602891868,
          -3209.704980791501,
          4305.605568968246,
          5484.06232146994,
          5033.927141363295,
          -1573.1294931068778,
          -1271.8366522528797,
          -3652.1427347224603,
          -4647.514683014749,
          -3330.0956203911087,
          5122.298324176327,
          -1341.642033865233,
          4207.414538362317,
          -5405.1925717176555,
          -2662.23720566557,
          5435.293660917679,
          -4846.280154278842,
          5261.355290099563,
          -2003.3794666631104,
          -6254.840940318058,
          4571.311395238496,
          5019.545227332756,
          3176.746804746795,
          -3270.2493332029294,
          4906.8211145298455,
          -4122.471659041033,
          -6304.28666973398,
          5239.834348120346,
          -1806.3718853762603,
          6827.736581903391,
          -4507.818639633958,
          4760.726839204426,
          -2297.4104831044383,
          3427.135170171347,
          -6141.762968151077,
          -4953.92149406202,
          5070.413063690276,
          4629.791345722703,
          -4266.484394821193,
          -1016.3629330534927,
          4085.3124409459488,
          1139.0675913831203,
          -2125.516560546754,
          -2494.3461579278814,
          -3476.758241532858,
          5573.243770197059,
          4745.1444932844615,
          -4573.1365583188735,
          5133.639365463525,
          -6274.399316410816,
          5689.000195132609,
          -5117.926531788417,
          4731.012077645316,
          -5970.659385853915,
          -2999.048697401422,
          -975.011413611972,
          -990.6072888551722,
          -4248.410776130162,
          8499.966919747445,
          -2464.365635646984,
          4064.008359759919,
          2658.297501724,
          5499.339242197253,
          -2379.445630722072,
          -2897.4182757985122,
          -1529.9498518651963,
          5244.436589238657,
          5673.527612414183,
          2693.0080673252023,
          3903.9748137910688,
          -3586.3925803309553,
          -5560.204279339272,
          5539.978054207797,
          -3106.1031340527993,
          6098.407220683632,
          5244.2239656145875,
          4687.331267871378,
          3879.1495425780904,
          -4611.5878657027715,
          -4339.706610389615,
          5517.456836124639,
          -7172.334086297049,
          -6099.926572904174,
          5992.684142669527,
          7337.462411005269,
          -3145.8380799741617,
          6845.141671584178,
          6731.622413481735,
          -2395.1514908507816,
          4411.324333177544,
          6677.4820136721255,
          -3524.602272807995,
          4946.177503380893,
          -5657.478374018928,
          -2804.3179897641216,
          -7950.138456796388,
          6861.841813756607,
          5599.274846074158,
          4513.159188235655,
          4509.378968992938,
          -1273.0338864987423,
          6237.454829267944,
          -1422.2632977402086,
          -3890.344534167892,
          5595.425013755244,
          -857.2362973575503,
          5174.060198642414,
          -4749.056737128192,
          5121.948253777,
          3388.4270675204843,
          4450.572584113243,
          3884.45285216969,
          4076.1889404178046,
          -5237.495096676829,
          6399.679501338902,
          -5635.163992926342,
          4575.315312500274,
          6006.733800938244,
          -6854.205790290356,
          -2756.2106649257635,
          5916.358116348495,
          6026.370077872555,
          -3863.006710456128,
          3532.750550096707,
          -5081.205828124807,
          5058.593260676152,
          6393.584858504245,
          -4260.66808420652,
          -2507.468602483163,
          -2039.0522118035897,
          -4762.434742638739,
          -2663.435455555625,
          -4699.39188125626,
          -500.3822652767299,
          6059.983303443477,
          6048.724076369268,
          -4543.480905662905,
          4384.687445082085,
          5686.132099777835,
          -2697.480521875642,
          -2166.94550463424,
          -3282.496539528996,
          7033.832267439069,
          4727.079878527438,
          -2383.9238128105253,
          4834.954016262217,
          3266.4705558115993,
          3413.46128579818,
          -3320.238902579957,
          5240.2838874220615,
          -6111.705479451006,
          6031.5977029474225,
          -2247.72376711028,
          -4857.997405051624,
          -1498.3071568123503,
          -4085.3877140573522,
          5245.750184774917,
          -948.1703671149725,
          -5508.945012028885,
          5030.101276940078,
          -4286.405352481011,
          72.34217763365176
         ],
         "yaxis": "y"
        }
       ],
       "layout": {
        "height": 600,
        "legend": {
         "title": {
          "text": "Cluster"
         },
         "tracegroupgap": 0
        },
        "margin": {
         "t": 60
        },
        "plot_bgcolor": "rgb(240,240,240)",
        "template": {
         "data": {
          "bar": [
           {
            "error_x": {
             "color": "#2a3f5f"
            },
            "error_y": {
             "color": "#2a3f5f"
            },
            "marker": {
             "line": {
              "color": "#E5ECF6",
              "width": 0.5
             },
             "pattern": {
              "fillmode": "overlay",
              "size": 10,
              "solidity": 0.2
             }
            },
            "type": "bar"
           }
          ],
          "barpolar": [
           {
            "marker": {
             "line": {
              "color": "#E5ECF6",
              "width": 0.5
             },
             "pattern": {
              "fillmode": "overlay",
              "size": 10,
              "solidity": 0.2
             }
            },
            "type": "barpolar"
           }
          ],
          "carpet": [
           {
            "aaxis": {
             "endlinecolor": "#2a3f5f",
             "gridcolor": "white",
             "linecolor": "white",
             "minorgridcolor": "white",
             "startlinecolor": "#2a3f5f"
            },
            "baxis": {
             "endlinecolor": "#2a3f5f",
             "gridcolor": "white",
             "linecolor": "white",
             "minorgridcolor": "white",
             "startlinecolor": "#2a3f5f"
            },
            "type": "carpet"
           }
          ],
          "choropleth": [
           {
            "colorbar": {
             "outlinewidth": 0,
             "ticks": ""
            },
            "type": "choropleth"
           }
          ],
          "contour": [
           {
            "colorbar": {
             "outlinewidth": 0,
             "ticks": ""
            },
            "colorscale": [
             [
              0,
              "#0d0887"
             ],
             [
              0.1111111111111111,
              "#46039f"
             ],
             [
              0.2222222222222222,
              "#7201a8"
             ],
             [
              0.3333333333333333,
              "#9c179e"
             ],
             [
              0.4444444444444444,
              "#bd3786"
             ],
             [
              0.5555555555555556,
              "#d8576b"
             ],
             [
              0.6666666666666666,
              "#ed7953"
             ],
             [
              0.7777777777777778,
              "#fb9f3a"
             ],
             [
              0.8888888888888888,
              "#fdca26"
             ],
             [
              1,
              "#f0f921"
             ]
            ],
            "type": "contour"
           }
          ],
          "contourcarpet": [
           {
            "colorbar": {
             "outlinewidth": 0,
             "ticks": ""
            },
            "type": "contourcarpet"
           }
          ],
          "heatmap": [
           {
            "colorbar": {
             "outlinewidth": 0,
             "ticks": ""
            },
            "colorscale": [
             [
              0,
              "#0d0887"
             ],
             [
              0.1111111111111111,
              "#46039f"
             ],
             [
              0.2222222222222222,
              "#7201a8"
             ],
             [
              0.3333333333333333,
              "#9c179e"
             ],
             [
              0.4444444444444444,
              "#bd3786"
             ],
             [
              0.5555555555555556,
              "#d8576b"
             ],
             [
              0.6666666666666666,
              "#ed7953"
             ],
             [
              0.7777777777777778,
              "#fb9f3a"
             ],
             [
              0.8888888888888888,
              "#fdca26"
             ],
             [
              1,
              "#f0f921"
             ]
            ],
            "type": "heatmap"
           }
          ],
          "heatmapgl": [
           {
            "colorbar": {
             "outlinewidth": 0,
             "ticks": ""
            },
            "colorscale": [
             [
              0,
              "#0d0887"
             ],
             [
              0.1111111111111111,
              "#46039f"
             ],
             [
              0.2222222222222222,
              "#7201a8"
             ],
             [
              0.3333333333333333,
              "#9c179e"
             ],
             [
              0.4444444444444444,
              "#bd3786"
             ],
             [
              0.5555555555555556,
              "#d8576b"
             ],
             [
              0.6666666666666666,
              "#ed7953"
             ],
             [
              0.7777777777777778,
              "#fb9f3a"
             ],
             [
              0.8888888888888888,
              "#fdca26"
             ],
             [
              1,
              "#f0f921"
             ]
            ],
            "type": "heatmapgl"
           }
          ],
          "histogram": [
           {
            "marker": {
             "pattern": {
              "fillmode": "overlay",
              "size": 10,
              "solidity": 0.2
             }
            },
            "type": "histogram"
           }
          ],
          "histogram2d": [
           {
            "colorbar": {
             "outlinewidth": 0,
             "ticks": ""
            },
            "colorscale": [
             [
              0,
              "#0d0887"
             ],
             [
              0.1111111111111111,
              "#46039f"
             ],
             [
              0.2222222222222222,
              "#7201a8"
             ],
             [
              0.3333333333333333,
              "#9c179e"
             ],
             [
              0.4444444444444444,
              "#bd3786"
             ],
             [
              0.5555555555555556,
              "#d8576b"
             ],
             [
              0.6666666666666666,
              "#ed7953"
             ],
             [
              0.7777777777777778,
              "#fb9f3a"
             ],
             [
              0.8888888888888888,
              "#fdca26"
             ],
             [
              1,
              "#f0f921"
             ]
            ],
            "type": "histogram2d"
           }
          ],
          "histogram2dcontour": [
           {
            "colorbar": {
             "outlinewidth": 0,
             "ticks": ""
            },
            "colorscale": [
             [
              0,
              "#0d0887"
             ],
             [
              0.1111111111111111,
              "#46039f"
             ],
             [
              0.2222222222222222,
              "#7201a8"
             ],
             [
              0.3333333333333333,
              "#9c179e"
             ],
             [
              0.4444444444444444,
              "#bd3786"
             ],
             [
              0.5555555555555556,
              "#d8576b"
             ],
             [
              0.6666666666666666,
              "#ed7953"
             ],
             [
              0.7777777777777778,
              "#fb9f3a"
             ],
             [
              0.8888888888888888,
              "#fdca26"
             ],
             [
              1,
              "#f0f921"
             ]
            ],
            "type": "histogram2dcontour"
           }
          ],
          "mesh3d": [
           {
            "colorbar": {
             "outlinewidth": 0,
             "ticks": ""
            },
            "type": "mesh3d"
           }
          ],
          "parcoords": [
           {
            "line": {
             "colorbar": {
              "outlinewidth": 0,
              "ticks": ""
             }
            },
            "type": "parcoords"
           }
          ],
          "pie": [
           {
            "automargin": true,
            "type": "pie"
           }
          ],
          "scatter": [
           {
            "fillpattern": {
             "fillmode": "overlay",
             "size": 10,
             "solidity": 0.2
            },
            "type": "scatter"
           }
          ],
          "scatter3d": [
           {
            "line": {
             "colorbar": {
              "outlinewidth": 0,
              "ticks": ""
             }
            },
            "marker": {
             "colorbar": {
              "outlinewidth": 0,
              "ticks": ""
             }
            },
            "type": "scatter3d"
           }
          ],
          "scattercarpet": [
           {
            "marker": {
             "colorbar": {
              "outlinewidth": 0,
              "ticks": ""
             }
            },
            "type": "scattercarpet"
           }
          ],
          "scattergeo": [
           {
            "marker": {
             "colorbar": {
              "outlinewidth": 0,
              "ticks": ""
             }
            },
            "type": "scattergeo"
           }
          ],
          "scattergl": [
           {
            "marker": {
             "colorbar": {
              "outlinewidth": 0,
              "ticks": ""
             }
            },
            "type": "scattergl"
           }
          ],
          "scattermapbox": [
           {
            "marker": {
             "colorbar": {
              "outlinewidth": 0,
              "ticks": ""
             }
            },
            "type": "scattermapbox"
           }
          ],
          "scatterpolar": [
           {
            "marker": {
             "colorbar": {
              "outlinewidth": 0,
              "ticks": ""
             }
            },
            "type": "scatterpolar"
           }
          ],
          "scatterpolargl": [
           {
            "marker": {
             "colorbar": {
              "outlinewidth": 0,
              "ticks": ""
             }
            },
            "type": "scatterpolargl"
           }
          ],
          "scatterternary": [
           {
            "marker": {
             "colorbar": {
              "outlinewidth": 0,
              "ticks": ""
             }
            },
            "type": "scatterternary"
           }
          ],
          "surface": [
           {
            "colorbar": {
             "outlinewidth": 0,
             "ticks": ""
            },
            "colorscale": [
             [
              0,
              "#0d0887"
             ],
             [
              0.1111111111111111,
              "#46039f"
             ],
             [
              0.2222222222222222,
              "#7201a8"
             ],
             [
              0.3333333333333333,
              "#9c179e"
             ],
             [
              0.4444444444444444,
              "#bd3786"
             ],
             [
              0.5555555555555556,
              "#d8576b"
             ],
             [
              0.6666666666666666,
              "#ed7953"
             ],
             [
              0.7777777777777778,
              "#fb9f3a"
             ],
             [
              0.8888888888888888,
              "#fdca26"
             ],
             [
              1,
              "#f0f921"
             ]
            ],
            "type": "surface"
           }
          ],
          "table": [
           {
            "cells": {
             "fill": {
              "color": "#EBF0F8"
             },
             "line": {
              "color": "white"
             }
            },
            "header": {
             "fill": {
              "color": "#C8D4E3"
             },
             "line": {
              "color": "white"
             }
            },
            "type": "table"
           }
          ]
         },
         "layout": {
          "annotationdefaults": {
           "arrowcolor": "#2a3f5f",
           "arrowhead": 0,
           "arrowwidth": 1
          },
          "autotypenumbers": "strict",
          "coloraxis": {
           "colorbar": {
            "outlinewidth": 0,
            "ticks": ""
           }
          },
          "colorscale": {
           "diverging": [
            [
             0,
             "#8e0152"
            ],
            [
             0.1,
             "#c51b7d"
            ],
            [
             0.2,
             "#de77ae"
            ],
            [
             0.3,
             "#f1b6da"
            ],
            [
             0.4,
             "#fde0ef"
            ],
            [
             0.5,
             "#f7f7f7"
            ],
            [
             0.6,
             "#e6f5d0"
            ],
            [
             0.7,
             "#b8e186"
            ],
            [
             0.8,
             "#7fbc41"
            ],
            [
             0.9,
             "#4d9221"
            ],
            [
             1,
             "#276419"
            ]
           ],
           "sequential": [
            [
             0,
             "#0d0887"
            ],
            [
             0.1111111111111111,
             "#46039f"
            ],
            [
             0.2222222222222222,
             "#7201a8"
            ],
            [
             0.3333333333333333,
             "#9c179e"
            ],
            [
             0.4444444444444444,
             "#bd3786"
            ],
            [
             0.5555555555555556,
             "#d8576b"
            ],
            [
             0.6666666666666666,
             "#ed7953"
            ],
            [
             0.7777777777777778,
             "#fb9f3a"
            ],
            [
             0.8888888888888888,
             "#fdca26"
            ],
            [
             1,
             "#f0f921"
            ]
           ],
           "sequentialminus": [
            [
             0,
             "#0d0887"
            ],
            [
             0.1111111111111111,
             "#46039f"
            ],
            [
             0.2222222222222222,
             "#7201a8"
            ],
            [
             0.3333333333333333,
             "#9c179e"
            ],
            [
             0.4444444444444444,
             "#bd3786"
            ],
            [
             0.5555555555555556,
             "#d8576b"
            ],
            [
             0.6666666666666666,
             "#ed7953"
            ],
            [
             0.7777777777777778,
             "#fb9f3a"
            ],
            [
             0.8888888888888888,
             "#fdca26"
            ],
            [
             1,
             "#f0f921"
            ]
           ]
          },
          "colorway": [
           "#636efa",
           "#EF553B",
           "#00cc96",
           "#ab63fa",
           "#FFA15A",
           "#19d3f3",
           "#FF6692",
           "#B6E880",
           "#FF97FF",
           "#FECB52"
          ],
          "font": {
           "color": "#2a3f5f"
          },
          "geo": {
           "bgcolor": "white",
           "lakecolor": "white",
           "landcolor": "#E5ECF6",
           "showlakes": true,
           "showland": true,
           "subunitcolor": "white"
          },
          "hoverlabel": {
           "align": "left"
          },
          "hovermode": "closest",
          "mapbox": {
           "style": "light"
          },
          "paper_bgcolor": "white",
          "plot_bgcolor": "#E5ECF6",
          "polar": {
           "angularaxis": {
            "gridcolor": "white",
            "linecolor": "white",
            "ticks": ""
           },
           "bgcolor": "#E5ECF6",
           "radialaxis": {
            "gridcolor": "white",
            "linecolor": "white",
            "ticks": ""
           }
          },
          "scene": {
           "xaxis": {
            "backgroundcolor": "#E5ECF6",
            "gridcolor": "white",
            "gridwidth": 2,
            "linecolor": "white",
            "showbackground": true,
            "ticks": "",
            "zerolinecolor": "white"
           },
           "yaxis": {
            "backgroundcolor": "#E5ECF6",
            "gridcolor": "white",
            "gridwidth": 2,
            "linecolor": "white",
            "showbackground": true,
            "ticks": "",
            "zerolinecolor": "white"
           },
           "zaxis": {
            "backgroundcolor": "#E5ECF6",
            "gridcolor": "white",
            "gridwidth": 2,
            "linecolor": "white",
            "showbackground": true,
            "ticks": "",
            "zerolinecolor": "white"
           }
          },
          "shapedefaults": {
           "line": {
            "color": "#2a3f5f"
           }
          },
          "ternary": {
           "aaxis": {
            "gridcolor": "white",
            "linecolor": "white",
            "ticks": ""
           },
           "baxis": {
            "gridcolor": "white",
            "linecolor": "white",
            "ticks": ""
           },
           "bgcolor": "#E5ECF6",
           "caxis": {
            "gridcolor": "white",
            "linecolor": "white",
            "ticks": ""
           }
          },
          "title": {
           "x": 0.05
          },
          "xaxis": {
           "automargin": true,
           "gridcolor": "white",
           "linecolor": "white",
           "ticks": "",
           "title": {
            "standoff": 15
           },
           "zerolinecolor": "white",
           "zerolinewidth": 2
          },
          "yaxis": {
           "automargin": true,
           "gridcolor": "white",
           "linecolor": "white",
           "ticks": "",
           "title": {
            "standoff": 15
           },
           "zerolinecolor": "white",
           "zerolinewidth": 2
          }
         }
        },
        "title": {
         "text": "2D Cluster PCA Plot"
        },
        "xaxis": {
         "anchor": "y",
         "domain": [
          0,
          1
         ],
         "title": {
          "text": "PCA1"
         }
        },
        "yaxis": {
         "anchor": "x",
         "domain": [
          0,
          1
         ],
         "title": {
          "text": "PCA2"
         }
        }
       }
      }
     },
     "metadata": {},
     "output_type": "display_data"
    }
   ],
   "source": [
    "plot_model(ap)"
   ]
  },
  {
   "cell_type": "code",
   "execution_count": null,
   "metadata": {},
   "outputs": [],
   "source": []
  },
  {
   "cell_type": "code",
   "execution_count": null,
   "metadata": {},
   "outputs": [],
   "source": []
  }
 ],
 "metadata": {
  "kernelspec": {
   "display_name": "pycaret",
   "language": "python",
   "name": "python3"
  },
  "language_info": {
   "codemirror_mode": {
    "name": "ipython",
    "version": 3
   },
   "file_extension": ".py",
   "mimetype": "text/x-python",
   "name": "python",
   "nbconvert_exporter": "python",
   "pygments_lexer": "ipython3",
   "version": "3.10.14"
  }
 },
 "nbformat": 4,
 "nbformat_minor": 2
}
